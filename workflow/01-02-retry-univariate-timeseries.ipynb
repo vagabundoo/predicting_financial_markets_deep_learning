{
 "cells": [
  {
   "cell_type": "code",
   "execution_count": 2,
   "metadata": {},
   "outputs": [
    {
     "name": "stderr",
     "output_type": "stream",
     "text": "Using TensorFlow backend.\n"
    }
   ],
   "source": [
    "import pandas as pd\n",
    "import numpy as np\n",
    "import matplotlib.pyplot as plt\n",
    "import seaborn as sns\n",
    "from sklearn.preprocessing import MinMaxScaler\n",
    "from keras.preprocessing.sequence import TimeseriesGenerator\n",
    "from keras.models import Sequential\n",
    "import keras.layers as layers"
   ]
  },
  {
   "cell_type": "code",
   "execution_count": 24,
   "metadata": {},
   "outputs": [
    {
     "data": {
      "text/html": "<div>\n<style scoped>\n    .dataframe tbody tr th:only-of-type {\n        vertical-align: middle;\n    }\n\n    .dataframe tbody tr th {\n        vertical-align: top;\n    }\n\n    .dataframe thead th {\n        text-align: right;\n    }\n</style>\n<table border=\"1\" class=\"dataframe\">\n  <thead>\n    <tr style=\"text-align: right;\">\n      <th></th>\n      <th>Date</th>\n      <th>Open</th>\n      <th>High</th>\n      <th>Low</th>\n      <th>Close</th>\n      <th>Volume</th>\n      <th>OpenInt</th>\n    </tr>\n  </thead>\n  <tbody>\n    <tr>\n      <th>0</th>\n      <td>2012-05-18</td>\n      <td>42.05</td>\n      <td>45.00</td>\n      <td>38.00</td>\n      <td>38.23</td>\n      <td>580438450</td>\n      <td>0</td>\n    </tr>\n    <tr>\n      <th>1</th>\n      <td>2012-05-21</td>\n      <td>36.53</td>\n      <td>36.66</td>\n      <td>33.00</td>\n      <td>34.03</td>\n      <td>169418988</td>\n      <td>0</td>\n    </tr>\n    <tr>\n      <th>2</th>\n      <td>2012-05-22</td>\n      <td>32.61</td>\n      <td>33.59</td>\n      <td>30.94</td>\n      <td>31.00</td>\n      <td>101876406</td>\n      <td>0</td>\n    </tr>\n    <tr>\n      <th>3</th>\n      <td>2012-05-23</td>\n      <td>31.37</td>\n      <td>32.50</td>\n      <td>31.36</td>\n      <td>32.00</td>\n      <td>73678512</td>\n      <td>0</td>\n    </tr>\n    <tr>\n      <th>4</th>\n      <td>2012-05-24</td>\n      <td>32.95</td>\n      <td>33.21</td>\n      <td>31.77</td>\n      <td>33.03</td>\n      <td>42560731</td>\n      <td>0</td>\n    </tr>\n  </tbody>\n</table>\n</div>",
      "text/plain": "         Date   Open   High    Low  Close     Volume  OpenInt\n0  2012-05-18  42.05  45.00  38.00  38.23  580438450        0\n1  2012-05-21  36.53  36.66  33.00  34.03  169418988        0\n2  2012-05-22  32.61  33.59  30.94  31.00  101876406        0\n3  2012-05-23  31.37  32.50  31.36  32.00   73678512        0\n4  2012-05-24  32.95  33.21  31.77  33.03   42560731        0"
     },
     "execution_count": 24,
     "metadata": {},
     "output_type": "execute_result"
    }
   ],
   "source": [
    "data = pd.read_csv('../inputData/fb.us.txt')\n",
    "#data.Date = pd.to_datetime(fb_stocks.Date)\n",
    "#data.drop(columns='OpenInt', inplace=True)\n",
    "data.head()"
   ]
  },
  {
   "cell_type": "code",
   "execution_count": 10,
   "metadata": {},
   "outputs": [],
   "source": [
    "Xcol = fb_stocks.columns[1:]\n",
    "scaled = MinMaxScaler().fit_transform(fb_stocks[Xcol])\n",
    "dataSc = pd.DataFrame(data=scaled, columns=Xcol)"
   ]
  },
  {
   "cell_type": "code",
   "execution_count": 17,
   "metadata": {},
   "outputs": [
    {
     "data": {
      "text/html": [
       "<div>\n",
       "<style scoped>\n",
       "    .dataframe tbody tr th:only-of-type {\n",
       "        vertical-align: middle;\n",
       "    }\n",
       "\n",
       "    .dataframe tbody tr th {\n",
       "        vertical-align: top;\n",
       "    }\n",
       "\n",
       "    .dataframe thead th {\n",
       "        text-align: right;\n",
       "    }\n",
       "</style>\n",
       "<table border=\"1\" class=\"dataframe\">\n",
       "  <thead>\n",
       "    <tr style=\"text-align: right;\">\n",
       "      <th></th>\n",
       "      <th>Open</th>\n",
       "      <th>High</th>\n",
       "      <th>Low</th>\n",
       "      <th>Close</th>\n",
       "      <th>Volume</th>\n",
       "    </tr>\n",
       "  </thead>\n",
       "  <tbody>\n",
       "    <tr>\n",
       "      <th>0</th>\n",
       "      <td>0.145909</td>\n",
       "      <td>0.162364</td>\n",
       "      <td>0.125445</td>\n",
       "      <td>0.124295</td>\n",
       "      <td>1.000000</td>\n",
       "    </tr>\n",
       "    <tr>\n",
       "      <th>1</th>\n",
       "      <td>0.112308</td>\n",
       "      <td>0.111705</td>\n",
       "      <td>0.094774</td>\n",
       "      <td>0.098830</td>\n",
       "      <td>0.284593</td>\n",
       "    </tr>\n",
       "    <tr>\n",
       "      <th>2</th>\n",
       "      <td>0.088447</td>\n",
       "      <td>0.093057</td>\n",
       "      <td>0.082137</td>\n",
       "      <td>0.080458</td>\n",
       "      <td>0.167031</td>\n",
       "    </tr>\n",
       "    <tr>\n",
       "      <th>3</th>\n",
       "      <td>0.080898</td>\n",
       "      <td>0.086436</td>\n",
       "      <td>0.084714</td>\n",
       "      <td>0.086522</td>\n",
       "      <td>0.117950</td>\n",
       "    </tr>\n",
       "    <tr>\n",
       "      <th>4</th>\n",
       "      <td>0.090516</td>\n",
       "      <td>0.090749</td>\n",
       "      <td>0.087229</td>\n",
       "      <td>0.092767</td>\n",
       "      <td>0.063788</td>\n",
       "    </tr>\n",
       "    <tr>\n",
       "      <th>...</th>\n",
       "      <td>...</td>\n",
       "      <td>...</td>\n",
       "      <td>...</td>\n",
       "      <td>...</td>\n",
       "      <td>...</td>\n",
       "    </tr>\n",
       "    <tr>\n",
       "      <th>1376</th>\n",
       "      <td>0.976869</td>\n",
       "      <td>0.985118</td>\n",
       "      <td>0.986137</td>\n",
       "      <td>0.984903</td>\n",
       "      <td>0.012815</td>\n",
       "    </tr>\n",
       "    <tr>\n",
       "      <th>1377</th>\n",
       "      <td>0.988678</td>\n",
       "      <td>0.986928</td>\n",
       "      <td>0.992841</td>\n",
       "      <td>0.985388</td>\n",
       "      <td>0.012168</td>\n",
       "    </tr>\n",
       "    <tr>\n",
       "      <th>1378</th>\n",
       "      <td>0.984356</td>\n",
       "      <td>0.984511</td>\n",
       "      <td>0.991044</td>\n",
       "      <td>0.981204</td>\n",
       "      <td>0.007928</td>\n",
       "    </tr>\n",
       "    <tr>\n",
       "      <th>1379</th>\n",
       "      <td>0.975347</td>\n",
       "      <td>0.978740</td>\n",
       "      <td>0.978653</td>\n",
       "      <td>0.979628</td>\n",
       "      <td>0.011643</td>\n",
       "    </tr>\n",
       "    <tr>\n",
       "      <th>1380</th>\n",
       "      <td>0.975590</td>\n",
       "      <td>0.976918</td>\n",
       "      <td>0.983990</td>\n",
       "      <td>0.974535</td>\n",
       "      <td>0.008959</td>\n",
       "    </tr>\n",
       "  </tbody>\n",
       "</table>\n",
       "<p>1381 rows × 5 columns</p>\n",
       "</div>"
      ],
      "text/plain": [
       "          Open      High       Low     Close    Volume\n",
       "0     0.145909  0.162364  0.125445  0.124295  1.000000\n",
       "1     0.112308  0.111705  0.094774  0.098830  0.284593\n",
       "2     0.088447  0.093057  0.082137  0.080458  0.167031\n",
       "3     0.080898  0.086436  0.084714  0.086522  0.117950\n",
       "4     0.090516  0.090749  0.087229  0.092767  0.063788\n",
       "...        ...       ...       ...       ...       ...\n",
       "1376  0.976869  0.985118  0.986137  0.984903  0.012815\n",
       "1377  0.988678  0.986928  0.992841  0.985388  0.012168\n",
       "1378  0.984356  0.984511  0.991044  0.981204  0.007928\n",
       "1379  0.975347  0.978740  0.978653  0.979628  0.011643\n",
       "1380  0.975590  0.976918  0.983990  0.974535  0.008959\n",
       "\n",
       "[1381 rows x 5 columns]"
      ]
     },
     "execution_count": 17,
     "metadata": {},
     "output_type": "execute_result"
    }
   ],
   "source": [
    "dataSc"
   ]
  },
  {
   "cell_type": "code",
   "execution_count": null,
   "metadata": {},
   "outputs": [],
   "source": [
    "gen = TimeseriesGenerator()"
   ]
  },
  {
   "cell_type": "markdown",
   "metadata": {},
   "source": [
    "# Following example of how to make multivariate timeseries\n",
    "https://machinelearningmastery.com/how-to-use-the-timeseriesgenerator-for-time-series-forecasting-in-keras/\n"
   ]
  },
  {
   "cell_type": "code",
   "execution_count": 14,
   "metadata": {},
   "outputs": [],
   "source": [
    "# define dataset\n",
    "in_seq1 = np.array([10, 20, 30, 40, 50, 60, 70, 80, 90, 100])\n",
    "in_seq2 = np.array([15, 25, 35, 45, 55, 65, 75, 85, 95, 105])\n",
    "\n",
    "# reshape series\n",
    "in_seq1 = in_seq1.reshape((len(in_seq1), 1))\n",
    "in_seq2 = in_seq2.reshape((len(in_seq2), 1))\n",
    "\n",
    "# horizontally stack columns\n",
    "dataset = np.hstack((in_seq1, in_seq2))"
   ]
  },
  {
   "cell_type": "code",
   "execution_count": 15,
   "metadata": {},
   "outputs": [
    {
     "data": {
      "text/plain": [
       "array([[ 10,  15],\n",
       "       [ 20,  25],\n",
       "       [ 30,  35],\n",
       "       [ 40,  45],\n",
       "       [ 50,  55],\n",
       "       [ 60,  65],\n",
       "       [ 70,  75],\n",
       "       [ 80,  85],\n",
       "       [ 90,  95],\n",
       "       [100, 105]])"
      ]
     },
     "execution_count": 15,
     "metadata": {},
     "output_type": "execute_result"
    }
   ],
   "source": [
    "dataset"
   ]
  },
  {
   "cell_type": "code",
   "execution_count": 121,
   "metadata": {},
   "outputs": [
    {
     "data": {
      "text/plain": [
       "array([[0.14590942, 0.16236409, 0.12544473, 0.12429516, 1.        ],\n",
       "       [0.11230825, 0.11170504, 0.09477365, 0.09882981, 0.28459312],\n",
       "       [0.08844655, 0.09305716, 0.08213716, 0.08045838, 0.16703073],\n",
       "       ...,\n",
       "       [0.98435598, 0.98451072, 0.99104404, 0.98120415, 0.0079276 ],\n",
       "       [0.97534697, 0.97874021, 0.97865293, 0.97962772, 0.01164298],\n",
       "       [0.97559046, 0.97691794, 0.98398969, 0.97453465, 0.00895932]])"
      ]
     },
     "execution_count": 121,
     "metadata": {},
     "output_type": "execute_result"
    }
   ],
   "source": [
    "dataSc.iloc[:,:2]\n",
    "np.array(dataSc)"
   ]
  },
  {
   "cell_type": "code",
   "execution_count": 67,
   "metadata": {},
   "outputs": [
    {
     "data": {
      "text/html": [
       "<div>\n",
       "<style scoped>\n",
       "    .dataframe tbody tr th:only-of-type {\n",
       "        vertical-align: middle;\n",
       "    }\n",
       "\n",
       "    .dataframe tbody tr th {\n",
       "        vertical-align: top;\n",
       "    }\n",
       "\n",
       "    .dataframe thead th {\n",
       "        text-align: right;\n",
       "    }\n",
       "</style>\n",
       "<table border=\"1\" class=\"dataframe\">\n",
       "  <thead>\n",
       "    <tr style=\"text-align: right;\">\n",
       "      <th></th>\n",
       "      <th>Open</th>\n",
       "      <th>High</th>\n",
       "      <th>Low</th>\n",
       "      <th>Close</th>\n",
       "      <th>Volume</th>\n",
       "    </tr>\n",
       "  </thead>\n",
       "  <tbody>\n",
       "    <tr>\n",
       "      <th>1105</th>\n",
       "      <td>0.679328</td>\n",
       "      <td>0.682925</td>\n",
       "      <td>0.684885</td>\n",
       "      <td>0.682168</td>\n",
       "      <td>0.014711</td>\n",
       "    </tr>\n",
       "    <tr>\n",
       "      <th>1106</th>\n",
       "      <td>0.682676</td>\n",
       "      <td>0.682561</td>\n",
       "      <td>0.678935</td>\n",
       "      <td>0.673801</td>\n",
       "      <td>0.018485</td>\n",
       "    </tr>\n",
       "    <tr>\n",
       "      <th>1107</th>\n",
       "      <td>0.675250</td>\n",
       "      <td>0.676608</td>\n",
       "      <td>0.680346</td>\n",
       "      <td>0.674953</td>\n",
       "      <td>0.007169</td>\n",
       "    </tr>\n",
       "    <tr>\n",
       "      <th>1108</th>\n",
       "      <td>0.670380</td>\n",
       "      <td>0.668043</td>\n",
       "      <td>0.669856</td>\n",
       "      <td>0.667495</td>\n",
       "      <td>0.018037</td>\n",
       "    </tr>\n",
       "    <tr>\n",
       "      <th>1109</th>\n",
       "      <td>0.672084</td>\n",
       "      <td>0.672295</td>\n",
       "      <td>0.674948</td>\n",
       "      <td>0.667859</td>\n",
       "      <td>0.010866</td>\n",
       "    </tr>\n",
       "  </tbody>\n",
       "</table>\n",
       "</div>"
      ],
      "text/plain": [
       "          Open      High       Low     Close    Volume\n",
       "1105  0.679328  0.682925  0.684885  0.682168  0.014711\n",
       "1106  0.682676  0.682561  0.678935  0.673801  0.018485\n",
       "1107  0.675250  0.676608  0.680346  0.674953  0.007169\n",
       "1108  0.670380  0.668043  0.669856  0.667495  0.018037\n",
       "1109  0.672084  0.672295  0.674948  0.667859  0.010866"
      ]
     },
     "execution_count": 67,
     "metadata": {},
     "output_type": "execute_result"
    }
   ],
   "source": [
    "# Determine where the index separating the training from the test set is. We will start with a 80% train/test split.\n",
    "divIndex = round(dataSc.shape[0] * 0.8)\n",
    "divIndex\n",
    "train = dataSc.iloc[:divIndex,:]\n",
    "test = dataSc.iloc[divIndex:,:]\n",
    "test.head()"
   ]
  },
  {
   "cell_type": "code",
   "execution_count": 214,
   "metadata": {},
   "outputs": [],
   "source": [
    "batch_size = 30\n",
    "n_input = 20\n",
    "seqTrain = TimeseriesGenerator(data=np.array(train), targets=np.array(train.Open), length=20, batch_size=30) #end_index=divIndex\n",
    "seqTest = TimeseriesGenerator(data=np.array(test), targets=np.array(test.Open), length=20, batch_size=30) #start_index=divIndex + 1,"
   ]
  },
  {
   "cell_type": "code",
   "execution_count": 185,
   "metadata": {},
   "outputs": [
    {
     "name": "stdout",
     "output_type": "stream",
     "text": [
      "(1105, 5)\n",
      "(1105,)\n"
     ]
    }
   ],
   "source": [
    "print(seqTrain.data.shape)\n",
    "print(seqTrain.targets.shape)\n",
    "#stepsEpochTrain = len"
   ]
  },
  {
   "cell_type": "code",
   "execution_count": 210,
   "metadata": {},
   "outputs": [
    {
     "data": {
      "text/plain": [
       "{'data': array([[0.14590942, 0.16236409, 0.12544473, 0.12429516, 1.        ],\n",
       "        [0.11230825, 0.11170504, 0.09477365, 0.09882981, 0.28459312],\n",
       "        [0.08844655, 0.09305716, 0.08213716, 0.08045838, 0.16703073],\n",
       "        ...,\n",
       "        [0.67062333, 0.67138432, 0.67648141, 0.67143637, 0.0105741 ],\n",
       "        [0.67171902, 0.67296362, 0.67801497, 0.67307343, 0.0093091 ],\n",
       "        [0.67543219, 0.67411772, 0.67954852, 0.67458922, 0.01034104]]),\n",
       " 'targets': array([0.14590942, 0.11230825, 0.08844655, ..., 0.67062333, 0.67171902,\n",
       "        0.67543219]),\n",
       " 'length': 20,\n",
       " 'sampling_rate': 1,\n",
       " 'stride': 1,\n",
       " 'start_index': 20,\n",
       " 'end_index': 1104,\n",
       " 'shuffle': False,\n",
       " 'reverse': False,\n",
       " 'batch_size': 30}"
      ]
     },
     "execution_count": 210,
     "metadata": {},
     "output_type": "execute_result"
    }
   ],
   "source": [
    "seqTrain.__dict__"
   ]
  },
  {
   "cell_type": "code",
   "execution_count": 213,
   "metadata": {},
   "outputs": [
    {
     "ename": "TypeError",
     "evalue": "'bool' object is not callable",
     "output_type": "error",
     "traceback": [
      "\u001b[0;31m---------------------------------------------------------------------------\u001b[0m",
      "\u001b[0;31mTypeError\u001b[0m                                 Traceback (most recent call last)",
      "\u001b[0;32m<ipython-input-213-dd780ef03306>\u001b[0m in \u001b[0;36m<module>\u001b[0;34m\u001b[0m\n\u001b[0;32m----> 1\u001b[0;31m \u001b[0mseqTrain\u001b[0m\u001b[0;34m.\u001b[0m\u001b[0muse_sequence_api\u001b[0m\u001b[0;34m(\u001b[0m\u001b[0;34m)\u001b[0m\u001b[0;34m\u001b[0m\u001b[0;34m\u001b[0m\u001b[0m\n\u001b[0m",
      "\u001b[0;31mTypeError\u001b[0m: 'bool' object is not callable"
     ]
    }
   ],
   "source": [
    "seqTrain."
   ]
  },
  {
   "cell_type": "markdown",
   "metadata": {},
   "source": [
    "Now we have our training and testsequence, so we can move to the model."
   ]
  },
  {
   "cell_type": "code",
   "execution_count": null,
   "metadata": {},
   "outputs": [],
   "source": [
    "# n_features = train.shape[1]\n",
    "\n",
    "model1 = Sequential([\n",
    "    layers.LSTM(100, activation='relu', input_shape=(1105, 20 ,5)),   \n",
    "])\n",
    "\n",
    "# layers.Dropout(0.5),\n",
    "# layers.Dense(50, activation='elu'),\n",
    "# layers.Dropout(0.5),\n",
    "# layers.Dense(2, activation='softmax')"
   ]
  },
  {
   "cell_type": "code",
   "execution_count": 178,
   "metadata": {},
   "outputs": [],
   "source": [
    "model1.compile(optimizer='adam', loss='mean_squared_error',metrics=['acc'])\n",
    "#steps_per_epoch = "
   ]
  },
  {
   "cell_type": "code",
   "execution_count": 186,
   "metadata": {},
   "outputs": [
    {
     "ename": "ValueError",
     "evalue": "Error when checking input: expected lstm_17_input to have 3 dimensions, but got array with shape (1105, 5)",
     "output_type": "error",
     "traceback": [
      "\u001b[0;31m---------------------------------------------------------------------------\u001b[0m",
      "\u001b[0;31mValueError\u001b[0m                                Traceback (most recent call last)",
      "\u001b[0;32m<ipython-input-186-ff3b5ac4b5fc>\u001b[0m in \u001b[0;36m<module>\u001b[0;34m\u001b[0m\n\u001b[0;32m----> 1\u001b[0;31m \u001b[0mmodel1\u001b[0m\u001b[0;34m.\u001b[0m\u001b[0mfit\u001b[0m\u001b[0;34m(\u001b[0m\u001b[0mx\u001b[0m\u001b[0;34m=\u001b[0m\u001b[0mseqTrain\u001b[0m\u001b[0;34m.\u001b[0m\u001b[0mdata\u001b[0m\u001b[0;34m,\u001b[0m \u001b[0my\u001b[0m\u001b[0;34m=\u001b[0m\u001b[0mseqTrain\u001b[0m\u001b[0;34m.\u001b[0m\u001b[0mtargets\u001b[0m\u001b[0;34m)\u001b[0m\u001b[0;34m\u001b[0m\u001b[0;34m\u001b[0m\u001b[0m\n\u001b[0m",
      "\u001b[0;32m~/.local/lib/python3.7/site-packages/keras/engine/training.py\u001b[0m in \u001b[0;36mfit\u001b[0;34m(self, x, y, batch_size, epochs, verbose, callbacks, validation_split, validation_data, shuffle, class_weight, sample_weight, initial_epoch, steps_per_epoch, validation_steps, validation_freq, max_queue_size, workers, use_multiprocessing, **kwargs)\u001b[0m\n\u001b[1;32m   1152\u001b[0m             \u001b[0msample_weight\u001b[0m\u001b[0;34m=\u001b[0m\u001b[0msample_weight\u001b[0m\u001b[0;34m,\u001b[0m\u001b[0;34m\u001b[0m\u001b[0;34m\u001b[0m\u001b[0m\n\u001b[1;32m   1153\u001b[0m             \u001b[0mclass_weight\u001b[0m\u001b[0;34m=\u001b[0m\u001b[0mclass_weight\u001b[0m\u001b[0;34m,\u001b[0m\u001b[0;34m\u001b[0m\u001b[0;34m\u001b[0m\u001b[0m\n\u001b[0;32m-> 1154\u001b[0;31m             batch_size=batch_size)\n\u001b[0m\u001b[1;32m   1155\u001b[0m \u001b[0;34m\u001b[0m\u001b[0m\n\u001b[1;32m   1156\u001b[0m         \u001b[0;31m# Prepare validation data.\u001b[0m\u001b[0;34m\u001b[0m\u001b[0;34m\u001b[0m\u001b[0;34m\u001b[0m\u001b[0m\n",
      "\u001b[0;32m~/.local/lib/python3.7/site-packages/keras/engine/training.py\u001b[0m in \u001b[0;36m_standardize_user_data\u001b[0;34m(self, x, y, sample_weight, class_weight, check_array_lengths, batch_size)\u001b[0m\n\u001b[1;32m    577\u001b[0m             \u001b[0mfeed_input_shapes\u001b[0m\u001b[0;34m,\u001b[0m\u001b[0;34m\u001b[0m\u001b[0;34m\u001b[0m\u001b[0m\n\u001b[1;32m    578\u001b[0m             \u001b[0mcheck_batch_axis\u001b[0m\u001b[0;34m=\u001b[0m\u001b[0;32mFalse\u001b[0m\u001b[0;34m,\u001b[0m  \u001b[0;31m# Don't enforce the batch size.\u001b[0m\u001b[0;34m\u001b[0m\u001b[0;34m\u001b[0m\u001b[0m\n\u001b[0;32m--> 579\u001b[0;31m             exception_prefix='input')\n\u001b[0m\u001b[1;32m    580\u001b[0m \u001b[0;34m\u001b[0m\u001b[0m\n\u001b[1;32m    581\u001b[0m         \u001b[0;32mif\u001b[0m \u001b[0my\u001b[0m \u001b[0;32mis\u001b[0m \u001b[0;32mnot\u001b[0m \u001b[0;32mNone\u001b[0m\u001b[0;34m:\u001b[0m\u001b[0;34m\u001b[0m\u001b[0;34m\u001b[0m\u001b[0m\n",
      "\u001b[0;32m~/.local/lib/python3.7/site-packages/keras/engine/training_utils.py\u001b[0m in \u001b[0;36mstandardize_input_data\u001b[0;34m(data, names, shapes, check_batch_axis, exception_prefix)\u001b[0m\n\u001b[1;32m    133\u001b[0m                         \u001b[0;34m': expected '\u001b[0m \u001b[0;34m+\u001b[0m \u001b[0mnames\u001b[0m\u001b[0;34m[\u001b[0m\u001b[0mi\u001b[0m\u001b[0;34m]\u001b[0m \u001b[0;34m+\u001b[0m \u001b[0;34m' to have '\u001b[0m \u001b[0;34m+\u001b[0m\u001b[0;34m\u001b[0m\u001b[0;34m\u001b[0m\u001b[0m\n\u001b[1;32m    134\u001b[0m                         \u001b[0mstr\u001b[0m\u001b[0;34m(\u001b[0m\u001b[0mlen\u001b[0m\u001b[0;34m(\u001b[0m\u001b[0mshape\u001b[0m\u001b[0;34m)\u001b[0m\u001b[0;34m)\u001b[0m \u001b[0;34m+\u001b[0m \u001b[0;34m' dimensions, but got array '\u001b[0m\u001b[0;34m\u001b[0m\u001b[0;34m\u001b[0m\u001b[0m\n\u001b[0;32m--> 135\u001b[0;31m                         'with shape ' + str(data_shape))\n\u001b[0m\u001b[1;32m    136\u001b[0m                 \u001b[0;32mif\u001b[0m \u001b[0;32mnot\u001b[0m \u001b[0mcheck_batch_axis\u001b[0m\u001b[0;34m:\u001b[0m\u001b[0;34m\u001b[0m\u001b[0;34m\u001b[0m\u001b[0m\n\u001b[1;32m    137\u001b[0m                     \u001b[0mdata_shape\u001b[0m \u001b[0;34m=\u001b[0m \u001b[0mdata_shape\u001b[0m\u001b[0;34m[\u001b[0m\u001b[0;36m1\u001b[0m\u001b[0;34m:\u001b[0m\u001b[0;34m]\u001b[0m\u001b[0;34m\u001b[0m\u001b[0;34m\u001b[0m\u001b[0m\n",
      "\u001b[0;31mValueError\u001b[0m: Error when checking input: expected lstm_17_input to have 3 dimensions, but got array with shape (1105, 5)"
     ]
    }
   ],
   "source": [
    "model1.fit(x=seqTrain.data, y=seqTrain.targets)"
   ]
  },
  {
   "cell_type": "code",
   "execution_count": 179,
   "metadata": {},
   "outputs": [
    {
     "name": "stdout",
     "output_type": "stream",
     "text": [
      "Epoch 1/10\n"
     ]
    },
    {
     "ename": "ValueError",
     "evalue": "Error when checking target: expected lstm_17 to have shape (100,) but got array with shape (1,)",
     "output_type": "error",
     "traceback": [
      "\u001b[0;31m---------------------------------------------------------------------------\u001b[0m",
      "\u001b[0;31mValueError\u001b[0m                                Traceback (most recent call last)",
      "\u001b[0;32m<ipython-input-179-edd3e6eb5262>\u001b[0m in \u001b[0;36m<module>\u001b[0;34m\u001b[0m\n\u001b[1;32m      1\u001b[0m model1.fit_generator(generator=seqTrain,\n\u001b[1;32m      2\u001b[0m \u001b[0;34m\u001b[0m\u001b[0m\n\u001b[0;32m----> 3\u001b[0;31m                      \u001b[0mepochs\u001b[0m\u001b[0;34m=\u001b[0m\u001b[0;36m10\u001b[0m\u001b[0;34m,\u001b[0m\u001b[0;34m\u001b[0m\u001b[0;34m\u001b[0m\u001b[0m\n\u001b[0m\u001b[1;32m      4\u001b[0m                      )\n",
      "\u001b[0;32m~/.local/lib/python3.7/site-packages/keras/legacy/interfaces.py\u001b[0m in \u001b[0;36mwrapper\u001b[0;34m(*args, **kwargs)\u001b[0m\n\u001b[1;32m     89\u001b[0m                 warnings.warn('Update your `' + object_name + '` call to the ' +\n\u001b[1;32m     90\u001b[0m                               'Keras 2 API: ' + signature, stacklevel=2)\n\u001b[0;32m---> 91\u001b[0;31m             \u001b[0;32mreturn\u001b[0m \u001b[0mfunc\u001b[0m\u001b[0;34m(\u001b[0m\u001b[0;34m*\u001b[0m\u001b[0margs\u001b[0m\u001b[0;34m,\u001b[0m \u001b[0;34m**\u001b[0m\u001b[0mkwargs\u001b[0m\u001b[0;34m)\u001b[0m\u001b[0;34m\u001b[0m\u001b[0;34m\u001b[0m\u001b[0m\n\u001b[0m\u001b[1;32m     92\u001b[0m         \u001b[0mwrapper\u001b[0m\u001b[0;34m.\u001b[0m\u001b[0m_original_function\u001b[0m \u001b[0;34m=\u001b[0m \u001b[0mfunc\u001b[0m\u001b[0;34m\u001b[0m\u001b[0;34m\u001b[0m\u001b[0m\n\u001b[1;32m     93\u001b[0m         \u001b[0;32mreturn\u001b[0m \u001b[0mwrapper\u001b[0m\u001b[0;34m\u001b[0m\u001b[0;34m\u001b[0m\u001b[0m\n",
      "\u001b[0;32m~/.local/lib/python3.7/site-packages/keras/engine/training.py\u001b[0m in \u001b[0;36mfit_generator\u001b[0;34m(self, generator, steps_per_epoch, epochs, verbose, callbacks, validation_data, validation_steps, validation_freq, class_weight, max_queue_size, workers, use_multiprocessing, shuffle, initial_epoch)\u001b[0m\n\u001b[1;32m   1730\u001b[0m             \u001b[0muse_multiprocessing\u001b[0m\u001b[0;34m=\u001b[0m\u001b[0muse_multiprocessing\u001b[0m\u001b[0;34m,\u001b[0m\u001b[0;34m\u001b[0m\u001b[0;34m\u001b[0m\u001b[0m\n\u001b[1;32m   1731\u001b[0m             \u001b[0mshuffle\u001b[0m\u001b[0;34m=\u001b[0m\u001b[0mshuffle\u001b[0m\u001b[0;34m,\u001b[0m\u001b[0;34m\u001b[0m\u001b[0;34m\u001b[0m\u001b[0m\n\u001b[0;32m-> 1732\u001b[0;31m             initial_epoch=initial_epoch)\n\u001b[0m\u001b[1;32m   1733\u001b[0m \u001b[0;34m\u001b[0m\u001b[0m\n\u001b[1;32m   1734\u001b[0m     \u001b[0;34m@\u001b[0m\u001b[0minterfaces\u001b[0m\u001b[0;34m.\u001b[0m\u001b[0mlegacy_generator_methods_support\u001b[0m\u001b[0;34m\u001b[0m\u001b[0;34m\u001b[0m\u001b[0m\n",
      "\u001b[0;32m~/.local/lib/python3.7/site-packages/keras/engine/training_generator.py\u001b[0m in \u001b[0;36mfit_generator\u001b[0;34m(model, generator, steps_per_epoch, epochs, verbose, callbacks, validation_data, validation_steps, validation_freq, class_weight, max_queue_size, workers, use_multiprocessing, shuffle, initial_epoch)\u001b[0m\n\u001b[1;32m    218\u001b[0m                                             \u001b[0msample_weight\u001b[0m\u001b[0;34m=\u001b[0m\u001b[0msample_weight\u001b[0m\u001b[0;34m,\u001b[0m\u001b[0;34m\u001b[0m\u001b[0;34m\u001b[0m\u001b[0m\n\u001b[1;32m    219\u001b[0m                                             \u001b[0mclass_weight\u001b[0m\u001b[0;34m=\u001b[0m\u001b[0mclass_weight\u001b[0m\u001b[0;34m,\u001b[0m\u001b[0;34m\u001b[0m\u001b[0;34m\u001b[0m\u001b[0m\n\u001b[0;32m--> 220\u001b[0;31m                                             reset_metrics=False)\n\u001b[0m\u001b[1;32m    221\u001b[0m \u001b[0;34m\u001b[0m\u001b[0m\n\u001b[1;32m    222\u001b[0m                 \u001b[0mouts\u001b[0m \u001b[0;34m=\u001b[0m \u001b[0mto_list\u001b[0m\u001b[0;34m(\u001b[0m\u001b[0mouts\u001b[0m\u001b[0;34m)\u001b[0m\u001b[0;34m\u001b[0m\u001b[0;34m\u001b[0m\u001b[0m\n",
      "\u001b[0;32m~/.local/lib/python3.7/site-packages/keras/engine/training.py\u001b[0m in \u001b[0;36mtrain_on_batch\u001b[0;34m(self, x, y, sample_weight, class_weight, reset_metrics)\u001b[0m\n\u001b[1;32m   1506\u001b[0m             \u001b[0mx\u001b[0m\u001b[0;34m,\u001b[0m \u001b[0my\u001b[0m\u001b[0;34m,\u001b[0m\u001b[0;34m\u001b[0m\u001b[0;34m\u001b[0m\u001b[0m\n\u001b[1;32m   1507\u001b[0m             \u001b[0msample_weight\u001b[0m\u001b[0;34m=\u001b[0m\u001b[0msample_weight\u001b[0m\u001b[0;34m,\u001b[0m\u001b[0;34m\u001b[0m\u001b[0;34m\u001b[0m\u001b[0m\n\u001b[0;32m-> 1508\u001b[0;31m             class_weight=class_weight)\n\u001b[0m\u001b[1;32m   1509\u001b[0m         \u001b[0;32mif\u001b[0m \u001b[0mself\u001b[0m\u001b[0;34m.\u001b[0m\u001b[0m_uses_dynamic_learning_phase\u001b[0m\u001b[0;34m(\u001b[0m\u001b[0;34m)\u001b[0m\u001b[0;34m:\u001b[0m\u001b[0;34m\u001b[0m\u001b[0;34m\u001b[0m\u001b[0m\n\u001b[1;32m   1510\u001b[0m             \u001b[0mins\u001b[0m \u001b[0;34m=\u001b[0m \u001b[0mx\u001b[0m \u001b[0;34m+\u001b[0m \u001b[0my\u001b[0m \u001b[0;34m+\u001b[0m \u001b[0msample_weights\u001b[0m \u001b[0;34m+\u001b[0m \u001b[0;34m[\u001b[0m\u001b[0;36m1\u001b[0m\u001b[0;34m]\u001b[0m\u001b[0;34m\u001b[0m\u001b[0;34m\u001b[0m\u001b[0m\n",
      "\u001b[0;32m~/.local/lib/python3.7/site-packages/keras/engine/training.py\u001b[0m in \u001b[0;36m_standardize_user_data\u001b[0;34m(self, x, y, sample_weight, class_weight, check_array_lengths, batch_size)\u001b[0m\n\u001b[1;32m    619\u001b[0m                 \u001b[0mfeed_output_shapes\u001b[0m\u001b[0;34m,\u001b[0m\u001b[0;34m\u001b[0m\u001b[0;34m\u001b[0m\u001b[0m\n\u001b[1;32m    620\u001b[0m                 \u001b[0mcheck_batch_axis\u001b[0m\u001b[0;34m=\u001b[0m\u001b[0;32mFalse\u001b[0m\u001b[0;34m,\u001b[0m  \u001b[0;31m# Don't enforce the batch size.\u001b[0m\u001b[0;34m\u001b[0m\u001b[0;34m\u001b[0m\u001b[0m\n\u001b[0;32m--> 621\u001b[0;31m                 exception_prefix='target')\n\u001b[0m\u001b[1;32m    622\u001b[0m \u001b[0;34m\u001b[0m\u001b[0m\n\u001b[1;32m    623\u001b[0m             \u001b[0;31m# Generate sample-wise weight values given the `sample_weight` and\u001b[0m\u001b[0;34m\u001b[0m\u001b[0;34m\u001b[0m\u001b[0;34m\u001b[0m\u001b[0m\n",
      "\u001b[0;32m~/.local/lib/python3.7/site-packages/keras/engine/training_utils.py\u001b[0m in \u001b[0;36mstandardize_input_data\u001b[0;34m(data, names, shapes, check_batch_axis, exception_prefix)\u001b[0m\n\u001b[1;32m    143\u001b[0m                             \u001b[0;34m': expected '\u001b[0m \u001b[0;34m+\u001b[0m \u001b[0mnames\u001b[0m\u001b[0;34m[\u001b[0m\u001b[0mi\u001b[0m\u001b[0;34m]\u001b[0m \u001b[0;34m+\u001b[0m \u001b[0;34m' to have shape '\u001b[0m \u001b[0;34m+\u001b[0m\u001b[0;34m\u001b[0m\u001b[0;34m\u001b[0m\u001b[0m\n\u001b[1;32m    144\u001b[0m                             \u001b[0mstr\u001b[0m\u001b[0;34m(\u001b[0m\u001b[0mshape\u001b[0m\u001b[0;34m)\u001b[0m \u001b[0;34m+\u001b[0m \u001b[0;34m' but got array with shape '\u001b[0m \u001b[0;34m+\u001b[0m\u001b[0;34m\u001b[0m\u001b[0;34m\u001b[0m\u001b[0m\n\u001b[0;32m--> 145\u001b[0;31m                             str(data_shape))\n\u001b[0m\u001b[1;32m    146\u001b[0m     \u001b[0;32mreturn\u001b[0m \u001b[0mdata\u001b[0m\u001b[0;34m\u001b[0m\u001b[0;34m\u001b[0m\u001b[0m\n\u001b[1;32m    147\u001b[0m \u001b[0;34m\u001b[0m\u001b[0m\n",
      "\u001b[0;31mValueError\u001b[0m: Error when checking target: expected lstm_17 to have shape (100,) but got array with shape (1,)"
     ]
    }
   ],
   "source": [
    "model1.fit_generator(generator=seqTrain,\n",
    "                     \n",
    "                     epochs=10, \n",
    "                     )"
   ]
  },
  {
   "cell_type": "code",
   "execution_count": 163,
   "metadata": {},
   "outputs": [
    {
     "data": {
      "text/html": [
       "<div>\n",
       "<style scoped>\n",
       "    .dataframe tbody tr th:only-of-type {\n",
       "        vertical-align: middle;\n",
       "    }\n",
       "\n",
       "    .dataframe tbody tr th {\n",
       "        vertical-align: top;\n",
       "    }\n",
       "\n",
       "    .dataframe thead th {\n",
       "        text-align: right;\n",
       "    }\n",
       "</style>\n",
       "<table border=\"1\" class=\"dataframe\">\n",
       "  <thead>\n",
       "    <tr style=\"text-align: right;\">\n",
       "      <th></th>\n",
       "      <th>Open</th>\n",
       "      <th>High</th>\n",
       "      <th>Low</th>\n",
       "      <th>Close</th>\n",
       "      <th>Volume</th>\n",
       "    </tr>\n",
       "  </thead>\n",
       "  <tbody>\n",
       "    <tr>\n",
       "      <th>0</th>\n",
       "      <td>0.145909</td>\n",
       "      <td>0.162364</td>\n",
       "      <td>0.125445</td>\n",
       "      <td>0.124295</td>\n",
       "      <td>1.000000</td>\n",
       "    </tr>\n",
       "    <tr>\n",
       "      <th>1</th>\n",
       "      <td>0.112308</td>\n",
       "      <td>0.111705</td>\n",
       "      <td>0.094774</td>\n",
       "      <td>0.098830</td>\n",
       "      <td>0.284593</td>\n",
       "    </tr>\n",
       "    <tr>\n",
       "      <th>2</th>\n",
       "      <td>0.088447</td>\n",
       "      <td>0.093057</td>\n",
       "      <td>0.082137</td>\n",
       "      <td>0.080458</td>\n",
       "      <td>0.167031</td>\n",
       "    </tr>\n",
       "    <tr>\n",
       "      <th>3</th>\n",
       "      <td>0.080898</td>\n",
       "      <td>0.086436</td>\n",
       "      <td>0.084714</td>\n",
       "      <td>0.086522</td>\n",
       "      <td>0.117950</td>\n",
       "    </tr>\n",
       "    <tr>\n",
       "      <th>4</th>\n",
       "      <td>0.090516</td>\n",
       "      <td>0.090749</td>\n",
       "      <td>0.087229</td>\n",
       "      <td>0.092767</td>\n",
       "      <td>0.063788</td>\n",
       "    </tr>\n",
       "    <tr>\n",
       "      <th>...</th>\n",
       "      <td>...</td>\n",
       "      <td>...</td>\n",
       "      <td>...</td>\n",
       "      <td>...</td>\n",
       "      <td>...</td>\n",
       "    </tr>\n",
       "    <tr>\n",
       "      <th>1376</th>\n",
       "      <td>0.976869</td>\n",
       "      <td>0.985118</td>\n",
       "      <td>0.986137</td>\n",
       "      <td>0.984903</td>\n",
       "      <td>0.012815</td>\n",
       "    </tr>\n",
       "    <tr>\n",
       "      <th>1377</th>\n",
       "      <td>0.988678</td>\n",
       "      <td>0.986928</td>\n",
       "      <td>0.992841</td>\n",
       "      <td>0.985388</td>\n",
       "      <td>0.012168</td>\n",
       "    </tr>\n",
       "    <tr>\n",
       "      <th>1378</th>\n",
       "      <td>0.984356</td>\n",
       "      <td>0.984511</td>\n",
       "      <td>0.991044</td>\n",
       "      <td>0.981204</td>\n",
       "      <td>0.007928</td>\n",
       "    </tr>\n",
       "    <tr>\n",
       "      <th>1379</th>\n",
       "      <td>0.975347</td>\n",
       "      <td>0.978740</td>\n",
       "      <td>0.978653</td>\n",
       "      <td>0.979628</td>\n",
       "      <td>0.011643</td>\n",
       "    </tr>\n",
       "    <tr>\n",
       "      <th>1380</th>\n",
       "      <td>0.975590</td>\n",
       "      <td>0.976918</td>\n",
       "      <td>0.983990</td>\n",
       "      <td>0.974535</td>\n",
       "      <td>0.008959</td>\n",
       "    </tr>\n",
       "  </tbody>\n",
       "</table>\n",
       "<p>1381 rows × 5 columns</p>\n",
       "</div>"
      ],
      "text/plain": [
       "          Open      High       Low     Close    Volume\n",
       "0     0.145909  0.162364  0.125445  0.124295  1.000000\n",
       "1     0.112308  0.111705  0.094774  0.098830  0.284593\n",
       "2     0.088447  0.093057  0.082137  0.080458  0.167031\n",
       "3     0.080898  0.086436  0.084714  0.086522  0.117950\n",
       "4     0.090516  0.090749  0.087229  0.092767  0.063788\n",
       "...        ...       ...       ...       ...       ...\n",
       "1376  0.976869  0.985118  0.986137  0.984903  0.012815\n",
       "1377  0.988678  0.986928  0.992841  0.985388  0.012168\n",
       "1378  0.984356  0.984511  0.991044  0.981204  0.007928\n",
       "1379  0.975347  0.978740  0.978653  0.979628  0.011643\n",
       "1380  0.975590  0.976918  0.983990  0.974535  0.008959\n",
       "\n",
       "[1381 rows x 5 columns]"
      ]
     },
     "execution_count": 163,
     "metadata": {},
     "output_type": "execute_result"
    }
   ],
   "source": [
    "dataSc"
   ]
  },
  {
   "cell_type": "code",
   "execution_count": 199,
   "metadata": {},
   "outputs": [],
   "source": [
    "n_features\n",
    "input_feature= dataSc.iloc[:,:n_features].values\n",
    "input_data = input_feature\n",
    "stock_data = dataSc"
   ]
  },
  {
   "cell_type": "code",
   "execution_count": 208,
   "metadata": {},
   "outputs": [],
   "source": [
    "lookback = 50\n",
    "test_size=int(.3 * len(stock_data))\n",
    "X=[]\n",
    "y=[]\n",
    "for i in range(len(stock_data)-lookback-1):\n",
    "    t=[]\n",
    "    for j in range(0,lookback):\n",
    "        t.append(input_data[[(i+j)], :])\n",
    "    X.append(t)\n",
    "    y.append(input_data[i+ lookback,0])"
   ]
  },
  {
   "cell_type": "code",
   "execution_count": 206,
   "metadata": {},
   "outputs": [
    {
     "name": "stdout",
     "output_type": "stream",
     "text": [
      "(1330, 50, 5)\n",
      "(464, 50, 5)\n"
     ]
    }
   ],
   "source": [
    "X, y= np.array(X), np.array(y)\n",
    "X_test = X[:test_size+lookback]\n",
    "X = X.reshape(X.shape[0],lookback, n_features)\n",
    "X_test = X_test.reshape(X_test.shape[0],lookback, n_features)\n",
    "print(X.shape)\n",
    "print(X_test.shape)"
   ]
  },
  {
   "cell_type": "code",
   "execution_count": 176,
   "metadata": {},
   "outputs": [
    {
     "data": {
      "text/plain": [
       "(50, 2)"
      ]
     },
     "execution_count": 176,
     "metadata": {},
     "output_type": "execute_result"
    }
   ],
   "source": [
    "(X.shape[1],2)"
   ]
  },
  {
   "cell_type": "code",
   "execution_count": 173,
   "metadata": {},
   "outputs": [
    {
     "name": "stdout",
     "output_type": "stream",
     "text": [
      "Model: \"sequential_17\"\n",
      "_________________________________________________________________\n",
      "Layer (type)                 Output Shape              Param #   \n",
      "=================================================================\n",
      "lstm_14 (LSTM)               (None, 50, 30)            3960      \n",
      "_________________________________________________________________\n",
      "lstm_15 (LSTM)               (None, 50, 30)            7320      \n",
      "_________________________________________________________________\n",
      "lstm_16 (LSTM)               (None, 30)                7320      \n",
      "_________________________________________________________________\n",
      "dense_21 (Dense)             (None, 1)                 31        \n",
      "=================================================================\n",
      "Total params: 18,631\n",
      "Trainable params: 18,631\n",
      "Non-trainable params: 0\n",
      "_________________________________________________________________\n"
     ]
    }
   ],
   "source": [
    "model = Sequential()\n",
    "model.add(LSTM(units=30, return_sequences= True, input_shape=(X.shape[1],2)))\n",
    "model.add(LSTM(units=30, return_sequences=True))\n",
    "model.add(LSTM(units=30))\n",
    "model.add(Dense(units=1))\n",
    "model.summary()"
   ]
  },
  {
   "cell_type": "code",
   "execution_count": 174,
   "metadata": {},
   "outputs": [],
   "source": [
    "model.compile(optimizer='adam', loss='mean_squared_error')"
   ]
  },
  {
   "cell_type": "code",
   "execution_count": 188,
   "metadata": {},
   "outputs": [
    {
     "data": {
      "text/plain": [
       "<keras.callbacks.callbacks.History at 0x7f3897d0c650>"
      ]
     },
     "execution_count": 188,
     "metadata": {},
     "output_type": "execute_result"
    }
   ],
   "source": [
    "model.fit(X, y, epochs=10, batch_size=32, verbose=0)"
   ]
  },
  {
   "cell_type": "code",
   "execution_count": 216,
   "metadata": {},
   "outputs": [],
   "source": [
    "def series_to_supervised(data, n_in=1, n_out=1, dropnan=True):\n",
    "\tn_vars = 1 if type(data) is list else data.shape[1]\n",
    "\tdf = pd.DataFrame(data)\n",
    "\tcols, names = list(), list()\n",
    "\t# input sequence (t-n, ... t-1)\n",
    "\tfor i in range(n_in, 0, -1):\n",
    "\t\tcols.append(df.shift(i))\n",
    "\t\tnames += [('var%d(t-%d)' % (j+1, i)) for j in range(n_vars)]\n",
    "\t# forecast sequence (t, t+1, ... t+n)\n",
    "\tfor i in range(0, n_out):\n",
    "\t\tcols.append(df.shift(-i))\n",
    "\t\tif i == 0:\n",
    "\t\t\tnames += [('var%d(t)' % (j+1)) for j in range(n_vars)]\n",
    "\t\telse:\n",
    "\t\t\tnames += [('var%d(t+%d)' % (j+1, i)) for j in range(n_vars)]\n",
    "\t# put it all together\n",
    "\tagg = pd.concat(cols, axis=1)\n",
    "\tagg.columns = names\n",
    "\t# drop rows with NaN values\n",
    "\tif dropnan:\n",
    "\t\tagg.dropna(inplace=True)\n",
    "\treturn agg"
   ]
  },
  {
   "cell_type": "code",
   "execution_count": 194,
   "metadata": {},
   "outputs": [
    {
     "data": {
      "text/html": [
       "<div>\n",
       "<style scoped>\n",
       "    .dataframe tbody tr th:only-of-type {\n",
       "        vertical-align: middle;\n",
       "    }\n",
       "\n",
       "    .dataframe tbody tr th {\n",
       "        vertical-align: top;\n",
       "    }\n",
       "\n",
       "    .dataframe thead th {\n",
       "        text-align: right;\n",
       "    }\n",
       "</style>\n",
       "<table border=\"1\" class=\"dataframe\">\n",
       "  <thead>\n",
       "    <tr style=\"text-align: right;\">\n",
       "      <th></th>\n",
       "      <th>var1(t-30)</th>\n",
       "      <th>var2(t-30)</th>\n",
       "      <th>var3(t-30)</th>\n",
       "      <th>var4(t-30)</th>\n",
       "      <th>var5(t-30)</th>\n",
       "      <th>var1(t-29)</th>\n",
       "      <th>var2(t-29)</th>\n",
       "      <th>var3(t-29)</th>\n",
       "      <th>var4(t-29)</th>\n",
       "      <th>var5(t-29)</th>\n",
       "      <th>...</th>\n",
       "      <th>var1(t-1)</th>\n",
       "      <th>var2(t-1)</th>\n",
       "      <th>var3(t-1)</th>\n",
       "      <th>var4(t-1)</th>\n",
       "      <th>var5(t-1)</th>\n",
       "      <th>var1(t)</th>\n",
       "      <th>var2(t)</th>\n",
       "      <th>var3(t)</th>\n",
       "      <th>var4(t)</th>\n",
       "      <th>var5(t)</th>\n",
       "    </tr>\n",
       "  </thead>\n",
       "  <tbody>\n",
       "    <tr>\n",
       "      <th>30</th>\n",
       "      <td>0.145909</td>\n",
       "      <td>0.162364</td>\n",
       "      <td>0.125445</td>\n",
       "      <td>0.124295</td>\n",
       "      <td>1.000000</td>\n",
       "      <td>0.112308</td>\n",
       "      <td>0.111705</td>\n",
       "      <td>0.094774</td>\n",
       "      <td>0.098830</td>\n",
       "      <td>0.284593</td>\n",
       "      <td>...</td>\n",
       "      <td>0.084246</td>\n",
       "      <td>0.083338</td>\n",
       "      <td>0.081033</td>\n",
       "      <td>0.081004</td>\n",
       "      <td>0.023681</td>\n",
       "      <td>0.080168</td>\n",
       "      <td>0.081759</td>\n",
       "      <td>0.079745</td>\n",
       "      <td>0.079064</td>\n",
       "      <td>0.014299</td>\n",
       "    </tr>\n",
       "    <tr>\n",
       "      <th>31</th>\n",
       "      <td>0.112308</td>\n",
       "      <td>0.111705</td>\n",
       "      <td>0.094774</td>\n",
       "      <td>0.098830</td>\n",
       "      <td>0.284593</td>\n",
       "      <td>0.088447</td>\n",
       "      <td>0.093057</td>\n",
       "      <td>0.082137</td>\n",
       "      <td>0.080458</td>\n",
       "      <td>0.167031</td>\n",
       "      <td>...</td>\n",
       "      <td>0.080168</td>\n",
       "      <td>0.081759</td>\n",
       "      <td>0.079745</td>\n",
       "      <td>0.079064</td>\n",
       "      <td>0.014299</td>\n",
       "      <td>0.078098</td>\n",
       "      <td>0.079998</td>\n",
       "      <td>0.081278</td>\n",
       "      <td>0.081671</td>\n",
       "      <td>0.004965</td>\n",
       "    </tr>\n",
       "    <tr>\n",
       "      <th>32</th>\n",
       "      <td>0.088447</td>\n",
       "      <td>0.093057</td>\n",
       "      <td>0.082137</td>\n",
       "      <td>0.080458</td>\n",
       "      <td>0.167031</td>\n",
       "      <td>0.080898</td>\n",
       "      <td>0.086436</td>\n",
       "      <td>0.084714</td>\n",
       "      <td>0.086522</td>\n",
       "      <td>0.117950</td>\n",
       "      <td>...</td>\n",
       "      <td>0.078098</td>\n",
       "      <td>0.079998</td>\n",
       "      <td>0.081278</td>\n",
       "      <td>0.081671</td>\n",
       "      <td>0.004965</td>\n",
       "      <td>0.080351</td>\n",
       "      <td>0.081152</td>\n",
       "      <td>0.082628</td>\n",
       "      <td>0.083308</td>\n",
       "      <td>0.007174</td>\n",
       "    </tr>\n",
       "    <tr>\n",
       "      <th>33</th>\n",
       "      <td>0.080898</td>\n",
       "      <td>0.086436</td>\n",
       "      <td>0.084714</td>\n",
       "      <td>0.086522</td>\n",
       "      <td>0.117950</td>\n",
       "      <td>0.090516</td>\n",
       "      <td>0.090749</td>\n",
       "      <td>0.087229</td>\n",
       "      <td>0.092767</td>\n",
       "      <td>0.063788</td>\n",
       "      <td>...</td>\n",
       "      <td>0.080351</td>\n",
       "      <td>0.081152</td>\n",
       "      <td>0.082628</td>\n",
       "      <td>0.083308</td>\n",
       "      <td>0.007174</td>\n",
       "      <td>0.081325</td>\n",
       "      <td>0.082792</td>\n",
       "      <td>0.084100</td>\n",
       "      <td>0.084884</td>\n",
       "      <td>0.008763</td>\n",
       "    </tr>\n",
       "    <tr>\n",
       "      <th>34</th>\n",
       "      <td>0.090516</td>\n",
       "      <td>0.090749</td>\n",
       "      <td>0.087229</td>\n",
       "      <td>0.092767</td>\n",
       "      <td>0.063788</td>\n",
       "      <td>0.090212</td>\n",
       "      <td>0.089170</td>\n",
       "      <td>0.083180</td>\n",
       "      <td>0.085976</td>\n",
       "      <td>0.054393</td>\n",
       "      <td>...</td>\n",
       "      <td>0.081325</td>\n",
       "      <td>0.082792</td>\n",
       "      <td>0.084100</td>\n",
       "      <td>0.084884</td>\n",
       "      <td>0.008763</td>\n",
       "      <td>0.085342</td>\n",
       "      <td>0.088744</td>\n",
       "      <td>0.088578</td>\n",
       "      <td>0.087552</td>\n",
       "      <td>0.020643</td>\n",
       "    </tr>\n",
       "    <tr>\n",
       "      <th>...</th>\n",
       "      <td>...</td>\n",
       "      <td>...</td>\n",
       "      <td>...</td>\n",
       "      <td>...</td>\n",
       "      <td>...</td>\n",
       "      <td>...</td>\n",
       "      <td>...</td>\n",
       "      <td>...</td>\n",
       "      <td>...</td>\n",
       "      <td>...</td>\n",
       "      <td>...</td>\n",
       "      <td>...</td>\n",
       "      <td>...</td>\n",
       "      <td>...</td>\n",
       "      <td>...</td>\n",
       "      <td>...</td>\n",
       "      <td>...</td>\n",
       "      <td>...</td>\n",
       "      <td>...</td>\n",
       "      <td>...</td>\n",
       "      <td>...</td>\n",
       "    </tr>\n",
       "    <tr>\n",
       "      <th>1376</th>\n",
       "      <td>0.920136</td>\n",
       "      <td>0.917391</td>\n",
       "      <td>0.883389</td>\n",
       "      <td>0.880010</td>\n",
       "      <td>0.061440</td>\n",
       "      <td>0.891283</td>\n",
       "      <td>0.894308</td>\n",
       "      <td>0.890872</td>\n",
       "      <td>0.888134</td>\n",
       "      <td>0.030330</td>\n",
       "      <td>...</td>\n",
       "      <td>0.981312</td>\n",
       "      <td>0.981534</td>\n",
       "      <td>0.976322</td>\n",
       "      <td>0.977324</td>\n",
       "      <td>0.020729</td>\n",
       "      <td>0.976869</td>\n",
       "      <td>0.985118</td>\n",
       "      <td>0.986137</td>\n",
       "      <td>0.984903</td>\n",
       "      <td>0.012815</td>\n",
       "    </tr>\n",
       "    <tr>\n",
       "      <th>1377</th>\n",
       "      <td>0.891283</td>\n",
       "      <td>0.894308</td>\n",
       "      <td>0.890872</td>\n",
       "      <td>0.888134</td>\n",
       "      <td>0.030330</td>\n",
       "      <td>0.899805</td>\n",
       "      <td>0.911559</td>\n",
       "      <td>0.907987</td>\n",
       "      <td>0.909174</td>\n",
       "      <td>0.023040</td>\n",
       "      <td>...</td>\n",
       "      <td>0.976869</td>\n",
       "      <td>0.985118</td>\n",
       "      <td>0.986137</td>\n",
       "      <td>0.984903</td>\n",
       "      <td>0.012815</td>\n",
       "      <td>0.988678</td>\n",
       "      <td>0.986928</td>\n",
       "      <td>0.992841</td>\n",
       "      <td>0.985388</td>\n",
       "      <td>0.012168</td>\n",
       "    </tr>\n",
       "    <tr>\n",
       "      <th>1378</th>\n",
       "      <td>0.899805</td>\n",
       "      <td>0.911559</td>\n",
       "      <td>0.907987</td>\n",
       "      <td>0.909174</td>\n",
       "      <td>0.023040</td>\n",
       "      <td>0.912223</td>\n",
       "      <td>0.915993</td>\n",
       "      <td>0.917740</td>\n",
       "      <td>0.915540</td>\n",
       "      <td>0.010876</td>\n",
       "      <td>...</td>\n",
       "      <td>0.988678</td>\n",
       "      <td>0.986928</td>\n",
       "      <td>0.992841</td>\n",
       "      <td>0.985388</td>\n",
       "      <td>0.012168</td>\n",
       "      <td>0.984356</td>\n",
       "      <td>0.984511</td>\n",
       "      <td>0.991044</td>\n",
       "      <td>0.981204</td>\n",
       "      <td>0.007928</td>\n",
       "    </tr>\n",
       "    <tr>\n",
       "      <th>1379</th>\n",
       "      <td>0.912223</td>\n",
       "      <td>0.915993</td>\n",
       "      <td>0.917740</td>\n",
       "      <td>0.915540</td>\n",
       "      <td>0.010876</td>\n",
       "      <td>0.917641</td>\n",
       "      <td>0.931726</td>\n",
       "      <td>0.927862</td>\n",
       "      <td>0.928515</td>\n",
       "      <td>0.016342</td>\n",
       "      <td>...</td>\n",
       "      <td>0.984356</td>\n",
       "      <td>0.984511</td>\n",
       "      <td>0.991044</td>\n",
       "      <td>0.981204</td>\n",
       "      <td>0.007928</td>\n",
       "      <td>0.975347</td>\n",
       "      <td>0.978740</td>\n",
       "      <td>0.978653</td>\n",
       "      <td>0.979628</td>\n",
       "      <td>0.011643</td>\n",
       "    </tr>\n",
       "    <tr>\n",
       "      <th>1380</th>\n",
       "      <td>0.917641</td>\n",
       "      <td>0.931726</td>\n",
       "      <td>0.927862</td>\n",
       "      <td>0.928515</td>\n",
       "      <td>0.016342</td>\n",
       "      <td>0.933224</td>\n",
       "      <td>0.933001</td>\n",
       "      <td>0.927494</td>\n",
       "      <td>0.920027</td>\n",
       "      <td>0.012977</td>\n",
       "      <td>...</td>\n",
       "      <td>0.975347</td>\n",
       "      <td>0.978740</td>\n",
       "      <td>0.978653</td>\n",
       "      <td>0.979628</td>\n",
       "      <td>0.011643</td>\n",
       "      <td>0.975590</td>\n",
       "      <td>0.976918</td>\n",
       "      <td>0.983990</td>\n",
       "      <td>0.974535</td>\n",
       "      <td>0.008959</td>\n",
       "    </tr>\n",
       "  </tbody>\n",
       "</table>\n",
       "<p>1351 rows × 155 columns</p>\n",
       "</div>"
      ],
      "text/plain": [
       "      var1(t-30)  var2(t-30)  var3(t-30)  var4(t-30)  var5(t-30)  var1(t-29)  \\\n",
       "30      0.145909    0.162364    0.125445    0.124295    1.000000    0.112308   \n",
       "31      0.112308    0.111705    0.094774    0.098830    0.284593    0.088447   \n",
       "32      0.088447    0.093057    0.082137    0.080458    0.167031    0.080898   \n",
       "33      0.080898    0.086436    0.084714    0.086522    0.117950    0.090516   \n",
       "34      0.090516    0.090749    0.087229    0.092767    0.063788    0.090212   \n",
       "...          ...         ...         ...         ...         ...         ...   \n",
       "1376    0.920136    0.917391    0.883389    0.880010    0.061440    0.891283   \n",
       "1377    0.891283    0.894308    0.890872    0.888134    0.030330    0.899805   \n",
       "1378    0.899805    0.911559    0.907987    0.909174    0.023040    0.912223   \n",
       "1379    0.912223    0.915993    0.917740    0.915540    0.010876    0.917641   \n",
       "1380    0.917641    0.931726    0.927862    0.928515    0.016342    0.933224   \n",
       "\n",
       "      var2(t-29)  var3(t-29)  var4(t-29)  var5(t-29)  ...  var1(t-1)  \\\n",
       "30      0.111705    0.094774    0.098830    0.284593  ...   0.084246   \n",
       "31      0.093057    0.082137    0.080458    0.167031  ...   0.080168   \n",
       "32      0.086436    0.084714    0.086522    0.117950  ...   0.078098   \n",
       "33      0.090749    0.087229    0.092767    0.063788  ...   0.080351   \n",
       "34      0.089170    0.083180    0.085976    0.054393  ...   0.081325   \n",
       "...          ...         ...         ...         ...  ...        ...   \n",
       "1376    0.894308    0.890872    0.888134    0.030330  ...   0.981312   \n",
       "1377    0.911559    0.907987    0.909174    0.023040  ...   0.976869   \n",
       "1378    0.915993    0.917740    0.915540    0.010876  ...   0.988678   \n",
       "1379    0.931726    0.927862    0.928515    0.016342  ...   0.984356   \n",
       "1380    0.933001    0.927494    0.920027    0.012977  ...   0.975347   \n",
       "\n",
       "      var2(t-1)  var3(t-1)  var4(t-1)  var5(t-1)   var1(t)   var2(t)  \\\n",
       "30     0.083338   0.081033   0.081004   0.023681  0.080168  0.081759   \n",
       "31     0.081759   0.079745   0.079064   0.014299  0.078098  0.079998   \n",
       "32     0.079998   0.081278   0.081671   0.004965  0.080351  0.081152   \n",
       "33     0.081152   0.082628   0.083308   0.007174  0.081325  0.082792   \n",
       "34     0.082792   0.084100   0.084884   0.008763  0.085342  0.088744   \n",
       "...         ...        ...        ...        ...       ...       ...   \n",
       "1376   0.981534   0.976322   0.977324   0.020729  0.976869  0.985118   \n",
       "1377   0.985118   0.986137   0.984903   0.012815  0.988678  0.986928   \n",
       "1378   0.986928   0.992841   0.985388   0.012168  0.984356  0.984511   \n",
       "1379   0.984511   0.991044   0.981204   0.007928  0.975347  0.978740   \n",
       "1380   0.978740   0.978653   0.979628   0.011643  0.975590  0.976918   \n",
       "\n",
       "       var3(t)   var4(t)   var5(t)  \n",
       "30    0.079745  0.079064  0.014299  \n",
       "31    0.081278  0.081671  0.004965  \n",
       "32    0.082628  0.083308  0.007174  \n",
       "33    0.084100  0.084884  0.008763  \n",
       "34    0.088578  0.087552  0.020643  \n",
       "...        ...       ...       ...  \n",
       "1376  0.986137  0.984903  0.012815  \n",
       "1377  0.992841  0.985388  0.012168  \n",
       "1378  0.991044  0.981204  0.007928  \n",
       "1379  0.978653  0.979628  0.011643  \n",
       "1380  0.983990  0.974535  0.008959  \n",
       "\n",
       "[1351 rows x 155 columns]"
      ]
     },
     "execution_count": 194,
     "metadata": {},
     "output_type": "execute_result"
    }
   ],
   "source": [
    "series_to_supervised(dataSc, n_in=30, n_out=1)"
   ]
  },
  {
   "cell_type": "code",
   "execution_count": 228,
   "metadata": {},
   "outputs": [],
   "source": [
    "from splitSequence import split_sequence"
   ]
  },
  {
   "cell_type": "code",
   "execution_count": 234,
   "metadata": {},
   "outputs": [
    {
     "data": {
      "text/plain": [
       "0       0.145909\n",
       "1       0.112308\n",
       "2       0.088447\n",
       "3       0.080898\n",
       "4       0.090516\n",
       "          ...   \n",
       "1376    0.976869\n",
       "1377    0.988678\n",
       "1378    0.984356\n",
       "1379    0.975347\n",
       "1380    0.975590\n",
       "Name: Open, Length: 1381, dtype: float64"
      ]
     },
     "execution_count": 234,
     "metadata": {},
     "output_type": "execute_result"
    }
   ],
   "source": [
    "cols = list(dataSc.columns)\n",
    "dataSc['Open']"
   ]
  },
  {
   "cell_type": "code",
   "execution_count": 237,
   "metadata": {},
   "outputs": [
    {
     "ename": "TypeError",
     "evalue": "'NoneType' object is not iterable",
     "output_type": "error",
     "traceback": [
      "\u001b[0;31m---------------------------------------------------------------------------\u001b[0m",
      "\u001b[0;31mTypeError\u001b[0m                                 Traceback (most recent call last)",
      "\u001b[0;32m<ipython-input-237-2852e5e0fdc9>\u001b[0m in \u001b[0;36m<module>\u001b[0;34m\u001b[0m\n\u001b[0;32m----> 1\u001b[0;31m \u001b[0mtuple\u001b[0m\u001b[0;34m(\u001b[0m\u001b[0msplit_sequence\u001b[0m\u001b[0;34m(\u001b[0m\u001b[0mnp\u001b[0m\u001b[0;34m.\u001b[0m\u001b[0marray\u001b[0m\u001b[0;34m(\u001b[0m\u001b[0mdataSc\u001b[0m\u001b[0;34m[\u001b[0m\u001b[0;34m'Open'\u001b[0m\u001b[0;34m]\u001b[0m\u001b[0;34m)\u001b[0m\u001b[0;34m,\u001b[0m \u001b[0;36m30\u001b[0m\u001b[0;34m)\u001b[0m\u001b[0;34m)\u001b[0m\u001b[0;34m\u001b[0m\u001b[0;34m\u001b[0m\u001b[0m\n\u001b[0m",
      "\u001b[0;31mTypeError\u001b[0m: 'NoneType' object is not iterable"
     ]
    }
   ],
   "source": [
    "split_sequence(np.array(dataSc['Open']), 30)"
   ]
  },
  {
   "cell_type": "code",
   "execution_count": 230,
   "metadata": {},
   "outputs": [],
   "source": [
    "n_steps = 30\n",
    "X = [(split_sequence(dataSc[col], n_steps)) for col in cols]"
   ]
  },
  {
   "cell_type": "code",
   "execution_count": 231,
   "metadata": {},
   "outputs": [
    {
     "data": {
      "text/plain": [
       "[None, None, None, None, None]"
      ]
     },
     "execution_count": 231,
     "metadata": {},
     "output_type": "execute_result"
    }
   ],
   "source": [
    "X"
   ]
  },
  {
   "cell_type": "code",
   "execution_count": 240,
   "metadata": {},
   "outputs": [],
   "source": [
    "df = dataSc\n",
    "input_cols = df.columns\n",
    "# Put your inputs into a single list\n",
    "df['single_input_vector'] = df[input_cols].apply(tuple, axis=1).apply(list)\n",
    "# Double-encapsulate list so that you can sum it in the next step and keep time steps as separate elements\n",
    "df['single_input_vector'] = df.single_input_vector.apply(lambda x: [list(x)])\n",
    "# Use .cumsum() to include previous row vectors in the current row list of vectors\n",
    "df['cumulative_input_vectors'] = df.single_input_vector.cumsum()"
   ]
  },
  {
   "cell_type": "code",
   "execution_count": 245,
   "metadata": {},
   "outputs": [
    {
     "data": {
      "text/html": [
       "<div>\n",
       "<style scoped>\n",
       "    .dataframe tbody tr th:only-of-type {\n",
       "        vertical-align: middle;\n",
       "    }\n",
       "\n",
       "    .dataframe tbody tr th {\n",
       "        vertical-align: top;\n",
       "    }\n",
       "\n",
       "    .dataframe thead th {\n",
       "        text-align: right;\n",
       "    }\n",
       "</style>\n",
       "<table border=\"1\" class=\"dataframe\">\n",
       "  <thead>\n",
       "    <tr style=\"text-align: right;\">\n",
       "      <th></th>\n",
       "      <th>Open</th>\n",
       "      <th>High</th>\n",
       "      <th>Low</th>\n",
       "      <th>Close</th>\n",
       "      <th>Volume</th>\n",
       "      <th>single_input_vector</th>\n",
       "      <th>cumulative_input_vectors</th>\n",
       "    </tr>\n",
       "  </thead>\n",
       "  <tbody>\n",
       "    <tr>\n",
       "      <th>0</th>\n",
       "      <td>0.145909</td>\n",
       "      <td>0.162364</td>\n",
       "      <td>0.125445</td>\n",
       "      <td>0.124295</td>\n",
       "      <td>1.000000</td>\n",
       "      <td>[[0.1459094229364499, 0.16236408916965317, 0.1...</td>\n",
       "      <td>[[0.1459094229364499, 0.16236408916965317, 0.1...</td>\n",
       "    </tr>\n",
       "    <tr>\n",
       "      <th>1</th>\n",
       "      <td>0.112308</td>\n",
       "      <td>0.111705</td>\n",
       "      <td>0.094774</td>\n",
       "      <td>0.098830</td>\n",
       "      <td>0.284593</td>\n",
       "      <td>[[0.11230825420014609, 0.11170503553422825, 0....</td>\n",
       "      <td>[[0.1459094229364499, 0.16236408916965317, 0.1...</td>\n",
       "    </tr>\n",
       "    <tr>\n",
       "      <th>2</th>\n",
       "      <td>0.088447</td>\n",
       "      <td>0.093057</td>\n",
       "      <td>0.082137</td>\n",
       "      <td>0.080458</td>\n",
       "      <td>0.167031</td>\n",
       "      <td>[[0.08844655466277088, 0.09305715847658388, 0....</td>\n",
       "      <td>[[0.1459094229364499, 0.16236408916965317, 0.1...</td>\n",
       "    </tr>\n",
       "    <tr>\n",
       "      <th>3</th>\n",
       "      <td>0.080898</td>\n",
       "      <td>0.086436</td>\n",
       "      <td>0.084714</td>\n",
       "      <td>0.086522</td>\n",
       "      <td>0.117950</td>\n",
       "      <td>[[0.08089846603360115, 0.0864362509870619, 0.0...</td>\n",
       "      <td>[[0.1459094229364499, 0.16236408916965317, 0.1...</td>\n",
       "    </tr>\n",
       "    <tr>\n",
       "      <th>4</th>\n",
       "      <td>0.090516</td>\n",
       "      <td>0.090749</td>\n",
       "      <td>0.087229</td>\n",
       "      <td>0.092767</td>\n",
       "      <td>0.063788</td>\n",
       "      <td>[[0.09051619186754323, 0.0907489521958331, 0.0...</td>\n",
       "      <td>[[0.1459094229364499, 0.16236408916965317, 0.1...</td>\n",
       "    </tr>\n",
       "  </tbody>\n",
       "</table>\n",
       "</div>"
      ],
      "text/plain": [
       "       Open      High       Low     Close    Volume  \\\n",
       "0  0.145909  0.162364  0.125445  0.124295  1.000000   \n",
       "1  0.112308  0.111705  0.094774  0.098830  0.284593   \n",
       "2  0.088447  0.093057  0.082137  0.080458  0.167031   \n",
       "3  0.080898  0.086436  0.084714  0.086522  0.117950   \n",
       "4  0.090516  0.090749  0.087229  0.092767  0.063788   \n",
       "\n",
       "                                 single_input_vector  \\\n",
       "0  [[0.1459094229364499, 0.16236408916965317, 0.1...   \n",
       "1  [[0.11230825420014609, 0.11170503553422825, 0....   \n",
       "2  [[0.08844655466277088, 0.09305715847658388, 0....   \n",
       "3  [[0.08089846603360115, 0.0864362509870619, 0.0...   \n",
       "4  [[0.09051619186754323, 0.0907489521958331, 0.0...   \n",
       "\n",
       "                            cumulative_input_vectors  \n",
       "0  [[0.1459094229364499, 0.16236408916965317, 0.1...  \n",
       "1  [[0.1459094229364499, 0.16236408916965317, 0.1...  \n",
       "2  [[0.1459094229364499, 0.16236408916965317, 0.1...  \n",
       "3  [[0.1459094229364499, 0.16236408916965317, 0.1...  \n",
       "4  [[0.1459094229364499, 0.16236408916965317, 0.1...  "
      ]
     },
     "execution_count": 245,
     "metadata": {},
     "output_type": "execute_result"
    }
   ],
   "source": [
    "df.head()"
   ]
  },
  {
   "cell_type": "code",
   "execution_count": 247,
   "metadata": {},
   "outputs": [],
   "source": [
    "output_cols = 'Open'\n",
    "#df['output_vector'] = df[output_cols].apply(tuple, axis=1).apply(list)\n",
    "df['output_vector'] = df.Open"
   ]
  },
  {
   "cell_type": "code",
   "execution_count": 248,
   "metadata": {},
   "outputs": [
    {
     "data": {
      "text/html": [
       "<div>\n",
       "<style scoped>\n",
       "    .dataframe tbody tr th:only-of-type {\n",
       "        vertical-align: middle;\n",
       "    }\n",
       "\n",
       "    .dataframe tbody tr th {\n",
       "        vertical-align: top;\n",
       "    }\n",
       "\n",
       "    .dataframe thead th {\n",
       "        text-align: right;\n",
       "    }\n",
       "</style>\n",
       "<table border=\"1\" class=\"dataframe\">\n",
       "  <thead>\n",
       "    <tr style=\"text-align: right;\">\n",
       "      <th></th>\n",
       "      <th>Open</th>\n",
       "      <th>High</th>\n",
       "      <th>Low</th>\n",
       "      <th>Close</th>\n",
       "      <th>Volume</th>\n",
       "      <th>single_input_vector</th>\n",
       "      <th>cumulative_input_vectors</th>\n",
       "      <th>output_vector</th>\n",
       "    </tr>\n",
       "  </thead>\n",
       "  <tbody>\n",
       "    <tr>\n",
       "      <th>0</th>\n",
       "      <td>0.145909</td>\n",
       "      <td>0.162364</td>\n",
       "      <td>0.125445</td>\n",
       "      <td>0.124295</td>\n",
       "      <td>1.000000</td>\n",
       "      <td>[[0.1459094229364499, 0.16236408916965317, 0.1...</td>\n",
       "      <td>[[0.1459094229364499, 0.16236408916965317, 0.1...</td>\n",
       "      <td>0.145909</td>\n",
       "    </tr>\n",
       "    <tr>\n",
       "      <th>1</th>\n",
       "      <td>0.112308</td>\n",
       "      <td>0.111705</td>\n",
       "      <td>0.094774</td>\n",
       "      <td>0.098830</td>\n",
       "      <td>0.284593</td>\n",
       "      <td>[[0.11230825420014609, 0.11170503553422825, 0....</td>\n",
       "      <td>[[0.1459094229364499, 0.16236408916965317, 0.1...</td>\n",
       "      <td>0.112308</td>\n",
       "    </tr>\n",
       "    <tr>\n",
       "      <th>2</th>\n",
       "      <td>0.088447</td>\n",
       "      <td>0.093057</td>\n",
       "      <td>0.082137</td>\n",
       "      <td>0.080458</td>\n",
       "      <td>0.167031</td>\n",
       "      <td>[[0.08844655466277088, 0.09305715847658388, 0....</td>\n",
       "      <td>[[0.1459094229364499, 0.16236408916965317, 0.1...</td>\n",
       "      <td>0.088447</td>\n",
       "    </tr>\n",
       "    <tr>\n",
       "      <th>3</th>\n",
       "      <td>0.080898</td>\n",
       "      <td>0.086436</td>\n",
       "      <td>0.084714</td>\n",
       "      <td>0.086522</td>\n",
       "      <td>0.117950</td>\n",
       "      <td>[[0.08089846603360115, 0.0864362509870619, 0.0...</td>\n",
       "      <td>[[0.1459094229364499, 0.16236408916965317, 0.1...</td>\n",
       "      <td>0.080898</td>\n",
       "    </tr>\n",
       "    <tr>\n",
       "      <th>4</th>\n",
       "      <td>0.090516</td>\n",
       "      <td>0.090749</td>\n",
       "      <td>0.087229</td>\n",
       "      <td>0.092767</td>\n",
       "      <td>0.063788</td>\n",
       "      <td>[[0.09051619186754323, 0.0907489521958331, 0.0...</td>\n",
       "      <td>[[0.1459094229364499, 0.16236408916965317, 0.1...</td>\n",
       "      <td>0.090516</td>\n",
       "    </tr>\n",
       "  </tbody>\n",
       "</table>\n",
       "</div>"
      ],
      "text/plain": [
       "       Open      High       Low     Close    Volume  \\\n",
       "0  0.145909  0.162364  0.125445  0.124295  1.000000   \n",
       "1  0.112308  0.111705  0.094774  0.098830  0.284593   \n",
       "2  0.088447  0.093057  0.082137  0.080458  0.167031   \n",
       "3  0.080898  0.086436  0.084714  0.086522  0.117950   \n",
       "4  0.090516  0.090749  0.087229  0.092767  0.063788   \n",
       "\n",
       "                                 single_input_vector  \\\n",
       "0  [[0.1459094229364499, 0.16236408916965317, 0.1...   \n",
       "1  [[0.11230825420014609, 0.11170503553422825, 0....   \n",
       "2  [[0.08844655466277088, 0.09305715847658388, 0....   \n",
       "3  [[0.08089846603360115, 0.0864362509870619, 0.0...   \n",
       "4  [[0.09051619186754323, 0.0907489521958331, 0.0...   \n",
       "\n",
       "                            cumulative_input_vectors  output_vector  \n",
       "0  [[0.1459094229364499, 0.16236408916965317, 0.1...       0.145909  \n",
       "1  [[0.1459094229364499, 0.16236408916965317, 0.1...       0.112308  \n",
       "2  [[0.1459094229364499, 0.16236408916965317, 0.1...       0.088447  \n",
       "3  [[0.1459094229364499, 0.16236408916965317, 0.1...       0.080898  \n",
       "4  [[0.1459094229364499, 0.16236408916965317, 0.1...       0.090516  "
      ]
     },
     "execution_count": 248,
     "metadata": {},
     "output_type": "execute_result"
    }
   ],
   "source": [
    "df.head()"
   ]
  },
  {
   "cell_type": "code",
   "execution_count": 249,
   "metadata": {},
   "outputs": [],
   "source": [
    "# Pad your sequences so they are the same length\n",
    "from keras.preprocessing.sequence import pad_sequences\n",
    "\n",
    "max_sequence_length = df.cumulative_input_vectors.apply(len).max()\n",
    "# Save it as a list   \n",
    "padded_sequences = pad_sequences(df.cumulative_input_vectors.tolist(), max_sequence_length).tolist()\n",
    "df['padded_input_vectors'] = pd.Series(padded_sequences).apply(np.asarray)"
   ]
  },
  {
   "cell_type": "code",
   "execution_count": 250,
   "metadata": {},
   "outputs": [
    {
     "data": {
      "text/html": [
       "<div>\n",
       "<style scoped>\n",
       "    .dataframe tbody tr th:only-of-type {\n",
       "        vertical-align: middle;\n",
       "    }\n",
       "\n",
       "    .dataframe tbody tr th {\n",
       "        vertical-align: top;\n",
       "    }\n",
       "\n",
       "    .dataframe thead th {\n",
       "        text-align: right;\n",
       "    }\n",
       "</style>\n",
       "<table border=\"1\" class=\"dataframe\">\n",
       "  <thead>\n",
       "    <tr style=\"text-align: right;\">\n",
       "      <th></th>\n",
       "      <th>Open</th>\n",
       "      <th>High</th>\n",
       "      <th>Low</th>\n",
       "      <th>Close</th>\n",
       "      <th>Volume</th>\n",
       "      <th>single_input_vector</th>\n",
       "      <th>cumulative_input_vectors</th>\n",
       "      <th>output_vector</th>\n",
       "      <th>padded_input_vectors</th>\n",
       "    </tr>\n",
       "  </thead>\n",
       "  <tbody>\n",
       "    <tr>\n",
       "      <th>0</th>\n",
       "      <td>0.145909</td>\n",
       "      <td>0.162364</td>\n",
       "      <td>0.125445</td>\n",
       "      <td>0.124295</td>\n",
       "      <td>1.000000</td>\n",
       "      <td>[[0.1459094229364499, 0.16236408916965317, 0.1...</td>\n",
       "      <td>[[0.1459094229364499, 0.16236408916965317, 0.1...</td>\n",
       "      <td>0.145909</td>\n",
       "      <td>[[0, 0, 0, 0, 0], [0, 0, 0, 0, 0], [0, 0, 0, 0...</td>\n",
       "    </tr>\n",
       "    <tr>\n",
       "      <th>1</th>\n",
       "      <td>0.112308</td>\n",
       "      <td>0.111705</td>\n",
       "      <td>0.094774</td>\n",
       "      <td>0.098830</td>\n",
       "      <td>0.284593</td>\n",
       "      <td>[[0.11230825420014609, 0.11170503553422825, 0....</td>\n",
       "      <td>[[0.1459094229364499, 0.16236408916965317, 0.1...</td>\n",
       "      <td>0.112308</td>\n",
       "      <td>[[0, 0, 0, 0, 0], [0, 0, 0, 0, 0], [0, 0, 0, 0...</td>\n",
       "    </tr>\n",
       "    <tr>\n",
       "      <th>2</th>\n",
       "      <td>0.088447</td>\n",
       "      <td>0.093057</td>\n",
       "      <td>0.082137</td>\n",
       "      <td>0.080458</td>\n",
       "      <td>0.167031</td>\n",
       "      <td>[[0.08844655466277088, 0.09305715847658388, 0....</td>\n",
       "      <td>[[0.1459094229364499, 0.16236408916965317, 0.1...</td>\n",
       "      <td>0.088447</td>\n",
       "      <td>[[0, 0, 0, 0, 0], [0, 0, 0, 0, 0], [0, 0, 0, 0...</td>\n",
       "    </tr>\n",
       "    <tr>\n",
       "      <th>3</th>\n",
       "      <td>0.080898</td>\n",
       "      <td>0.086436</td>\n",
       "      <td>0.084714</td>\n",
       "      <td>0.086522</td>\n",
       "      <td>0.117950</td>\n",
       "      <td>[[0.08089846603360115, 0.0864362509870619, 0.0...</td>\n",
       "      <td>[[0.1459094229364499, 0.16236408916965317, 0.1...</td>\n",
       "      <td>0.080898</td>\n",
       "      <td>[[0, 0, 0, 0, 0], [0, 0, 0, 0, 0], [0, 0, 0, 0...</td>\n",
       "    </tr>\n",
       "    <tr>\n",
       "      <th>4</th>\n",
       "      <td>0.090516</td>\n",
       "      <td>0.090749</td>\n",
       "      <td>0.087229</td>\n",
       "      <td>0.092767</td>\n",
       "      <td>0.063788</td>\n",
       "      <td>[[0.09051619186754323, 0.0907489521958331, 0.0...</td>\n",
       "      <td>[[0.1459094229364499, 0.16236408916965317, 0.1...</td>\n",
       "      <td>0.090516</td>\n",
       "      <td>[[0, 0, 0, 0, 0], [0, 0, 0, 0, 0], [0, 0, 0, 0...</td>\n",
       "    </tr>\n",
       "  </tbody>\n",
       "</table>\n",
       "</div>"
      ],
      "text/plain": [
       "       Open      High       Low     Close    Volume  \\\n",
       "0  0.145909  0.162364  0.125445  0.124295  1.000000   \n",
       "1  0.112308  0.111705  0.094774  0.098830  0.284593   \n",
       "2  0.088447  0.093057  0.082137  0.080458  0.167031   \n",
       "3  0.080898  0.086436  0.084714  0.086522  0.117950   \n",
       "4  0.090516  0.090749  0.087229  0.092767  0.063788   \n",
       "\n",
       "                                 single_input_vector  \\\n",
       "0  [[0.1459094229364499, 0.16236408916965317, 0.1...   \n",
       "1  [[0.11230825420014609, 0.11170503553422825, 0....   \n",
       "2  [[0.08844655466277088, 0.09305715847658388, 0....   \n",
       "3  [[0.08089846603360115, 0.0864362509870619, 0.0...   \n",
       "4  [[0.09051619186754323, 0.0907489521958331, 0.0...   \n",
       "\n",
       "                            cumulative_input_vectors  output_vector  \\\n",
       "0  [[0.1459094229364499, 0.16236408916965317, 0.1...       0.145909   \n",
       "1  [[0.1459094229364499, 0.16236408916965317, 0.1...       0.112308   \n",
       "2  [[0.1459094229364499, 0.16236408916965317, 0.1...       0.088447   \n",
       "3  [[0.1459094229364499, 0.16236408916965317, 0.1...       0.080898   \n",
       "4  [[0.1459094229364499, 0.16236408916965317, 0.1...       0.090516   \n",
       "\n",
       "                                padded_input_vectors  \n",
       "0  [[0, 0, 0, 0, 0], [0, 0, 0, 0, 0], [0, 0, 0, 0...  \n",
       "1  [[0, 0, 0, 0, 0], [0, 0, 0, 0, 0], [0, 0, 0, 0...  \n",
       "2  [[0, 0, 0, 0, 0], [0, 0, 0, 0, 0], [0, 0, 0, 0...  \n",
       "3  [[0, 0, 0, 0, 0], [0, 0, 0, 0, 0], [0, 0, 0, 0...  \n",
       "4  [[0, 0, 0, 0, 0], [0, 0, 0, 0, 0], [0, 0, 0, 0...  "
      ]
     },
     "execution_count": 250,
     "metadata": {},
     "output_type": "execute_result"
    }
   ],
   "source": [
    "df.head()"
   ]
  },
  {
   "cell_type": "code",
   "execution_count": 251,
   "metadata": {},
   "outputs": [
    {
     "ename": "ValueError",
     "evalue": "cannot reshape array of size 1381 into shape (1381,4)",
     "output_type": "error",
     "traceback": [
      "\u001b[0;31m---------------------------------------------------------------------------\u001b[0m",
      "\u001b[0;31mValueError\u001b[0m                                Traceback (most recent call last)",
      "\u001b[0;32m<ipython-input-251-bf782a9ac1ab>\u001b[0m in \u001b[0;36m<module>\u001b[0;34m\u001b[0m\n\u001b[1;32m      3\u001b[0m \u001b[0;31m# Use hstack to and reshape to make the inputs a 3d vector\u001b[0m\u001b[0;34m\u001b[0m\u001b[0;34m\u001b[0m\u001b[0;34m\u001b[0m\u001b[0m\n\u001b[1;32m      4\u001b[0m \u001b[0mX_train\u001b[0m \u001b[0;34m=\u001b[0m \u001b[0mnp\u001b[0m\u001b[0;34m.\u001b[0m\u001b[0mhstack\u001b[0m\u001b[0;34m(\u001b[0m\u001b[0mX_train_init\u001b[0m\u001b[0;34m)\u001b[0m\u001b[0;34m.\u001b[0m\u001b[0mreshape\u001b[0m\u001b[0;34m(\u001b[0m\u001b[0mlen\u001b[0m\u001b[0;34m(\u001b[0m\u001b[0mdf\u001b[0m\u001b[0;34m)\u001b[0m\u001b[0;34m,\u001b[0m\u001b[0mmax_sequence_length\u001b[0m\u001b[0;34m,\u001b[0m\u001b[0mlen\u001b[0m\u001b[0;34m(\u001b[0m\u001b[0minput_cols\u001b[0m\u001b[0;34m)\u001b[0m\u001b[0;34m)\u001b[0m\u001b[0;34m\u001b[0m\u001b[0;34m\u001b[0m\u001b[0m\n\u001b[0;32m----> 5\u001b[0;31m \u001b[0my_train\u001b[0m \u001b[0;34m=\u001b[0m \u001b[0mnp\u001b[0m\u001b[0;34m.\u001b[0m\u001b[0mhstack\u001b[0m\u001b[0;34m(\u001b[0m\u001b[0mnp\u001b[0m\u001b[0;34m.\u001b[0m\u001b[0masarray\u001b[0m\u001b[0;34m(\u001b[0m\u001b[0mdf\u001b[0m\u001b[0;34m.\u001b[0m\u001b[0moutput_vector\u001b[0m\u001b[0;34m)\u001b[0m\u001b[0;34m)\u001b[0m\u001b[0;34m.\u001b[0m\u001b[0mreshape\u001b[0m\u001b[0;34m(\u001b[0m\u001b[0mlen\u001b[0m\u001b[0;34m(\u001b[0m\u001b[0mdf\u001b[0m\u001b[0;34m)\u001b[0m\u001b[0;34m,\u001b[0m\u001b[0mlen\u001b[0m\u001b[0;34m(\u001b[0m\u001b[0moutput_cols\u001b[0m\u001b[0;34m)\u001b[0m\u001b[0;34m)\u001b[0m\u001b[0;34m\u001b[0m\u001b[0;34m\u001b[0m\u001b[0m\n\u001b[0m",
      "\u001b[0;31mValueError\u001b[0m: cannot reshape array of size 1381 into shape (1381,4)"
     ]
    }
   ],
   "source": [
    "# Extract your training data\n",
    "X_train_init = np.asarray(df.padded_input_vectors)\n",
    "# Use hstack to and reshape to make the inputs a 3d vector\n",
    "X_train = np.hstack(X_train_init).reshape(len(df),max_sequence_length,len(input_cols))\n",
    "y_train = np.hstack(np.asarray(df.output_vector)).reshape(len(df),len(output_cols))"
   ]
  },
  {
   "cell_type": "markdown",
   "metadata": {},
   "source": [
    "# One more attempt, with split_sequence\n",
    "\n",
    "Important to change into numpy array before operations"
   ]
  },
  {
   "cell_type": "code",
   "execution_count": 265,
   "metadata": {},
   "outputs": [
    {
     "name": "stdout",
     "output_type": "stream",
     "text": [
      "Index(['Open', 'High', 'Low', 'Close'], dtype='object')\n"
     ]
    }
   ],
   "source": [
    "data = dataSc.iloc[:,:4]\n",
    "print(data.columns)\n",
    "dataNP = np.array(data)"
   ]
  },
  {
   "cell_type": "code",
   "execution_count": 261,
   "metadata": {},
   "outputs": [],
   "source": [
    "def split_sequence(sequence, n_steps):\n",
    "\tX, y = list(), list()\n",
    "\tfor i in range(len(sequence)):\n",
    "\t\t# find the end of this pattern\n",
    "\t\tend_ix = i + n_steps\n",
    "\t\t# check if we are beyond the sequence\n",
    "\t\tif end_ix > len(sequence)-1:\n",
    "\t\t\tbreak\n",
    "\t\t# gather input and output parts of the pattern\n",
    "\t\tseq_x, seq_y = sequence[i:end_ix], sequence[end_ix]\n",
    "\t\tX.append(seq_x)\n",
    "\t\ty.append(seq_y)\n",
    "\treturn np.array(X), np.array(y)"
   ]
  },
  {
   "cell_type": "code",
   "execution_count": 268,
   "metadata": {},
   "outputs": [],
   "source": [
    "X, y = split_sequence(dataNP[:,0], 30)"
   ]
  },
  {
   "cell_type": "code",
   "execution_count": 269,
   "metadata": {},
   "outputs": [
    {
     "name": "stdout",
     "output_type": "stream",
     "text": [
      "(1351, 30)\n",
      "(1351,)\n"
     ]
    }
   ],
   "source": [
    "print(X.shape)\n",
    "print(y.shape)"
   ]
  },
  {
   "cell_type": "code",
   "execution_count": 270,
   "metadata": {},
   "outputs": [],
   "source": [
    "n_features = 1\n",
    "X = X.reshape((X.shape[0], X.shape[1], n_features))"
   ]
  },
  {
   "cell_type": "code",
   "execution_count": 285,
   "metadata": {},
   "outputs": [
    {
     "data": {
      "text/plain": [
       "(30, 1)"
      ]
     },
     "execution_count": 285,
     "metadata": {},
     "output_type": "execute_result"
    }
   ],
   "source": [
    "input_shape = X.shape[1:]\n",
    "input_shape"
   ]
  },
  {
   "cell_type": "code",
   "execution_count": 287,
   "metadata": {},
   "outputs": [],
   "source": [
    "model = Sequential([\n",
    "    layers.Dense(50, activation='elu', input_shape=(input_shape)),\n",
    "    layers.Dropout(0.5),\n",
    "    layers.Dense(50, activation='elu', input_shape=(input_shape)),\n",
    "    keras.layers.Dropout(0.5),\n",
    "    keras.layers.Dense(2, activation='softmax'),\n",
    "])"
   ]
  },
  {
   "cell_type": "code",
   "execution_count": 288,
   "metadata": {},
   "outputs": [],
   "source": [
    "model.compile(optimizer='adam', loss='mean_squared_error')"
   ]
  },
  {
   "cell_type": "code",
   "execution_count": 293,
   "metadata": {},
   "outputs": [],
   "source": [
    "from keras.layers import Conv1D, MaxPooling1D, Flatten"
   ]
  },
  {
   "cell_type": "code",
   "execution_count": 294,
   "metadata": {},
   "outputs": [],
   "source": [
    "# define model\n",
    "model = Sequential()\n",
    "model.add(Conv1D(filters=64, kernel_size=2, activation='relu', input_shape=input_shape))\n",
    "model.add(MaxPooling1D(pool_size=2))\n",
    "model.add(Flatten())\n",
    "model.add(Dense(50, activation='relu'))\n",
    "model.add(Dense(1))\n",
    "model.compile(optimizer='adam', loss='mse')"
   ]
  },
  {
   "cell_type": "code",
   "execution_count": 295,
   "metadata": {},
   "outputs": [
    {
     "name": "stdout",
     "output_type": "stream",
     "text": [
      "Epoch 1/10\n",
      "1351/1351 [==============================] - 0s 340us/step - loss: 0.0190\n",
      "Epoch 2/10\n",
      "1351/1351 [==============================] - 0s 80us/step - loss: 6.9871e-04\n",
      "Epoch 3/10\n",
      "1351/1351 [==============================] - 0s 70us/step - loss: 5.9684e-04\n",
      "Epoch 4/10\n",
      "1351/1351 [==============================] - 0s 84us/step - loss: 5.5118e-04\n",
      "Epoch 5/10\n",
      "1351/1351 [==============================] - 0s 81us/step - loss: 5.1227e-04\n",
      "Epoch 6/10\n",
      "1351/1351 [==============================] - 0s 83us/step - loss: 5.2140e-04\n",
      "Epoch 7/10\n",
      "1351/1351 [==============================] - 0s 86us/step - loss: 4.2736e-04\n",
      "Epoch 8/10\n",
      "1351/1351 [==============================] - 0s 82us/step - loss: 4.0592e-04\n",
      "Epoch 9/10\n",
      "1351/1351 [==============================] - 0s 84us/step - loss: 3.9384e-04\n",
      "Epoch 10/10\n",
      "1351/1351 [==============================] - 0s 92us/step - loss: 3.7040e-04\n"
     ]
    },
    {
     "data": {
      "text/plain": [
       "<keras.callbacks.callbacks.History at 0x7f387ad54f90>"
      ]
     },
     "execution_count": 295,
     "metadata": {},
     "output_type": "execute_result"
    }
   ],
   "source": [
    "model.fit(x= X, y=y, epochs=10, batch_size=32)"
   ]
  },
  {
   "cell_type": "code",
   "execution_count": 310,
   "metadata": {},
   "outputs": [
    {
     "data": {
      "text/plain": [
       "(1351,)"
      ]
     },
     "execution_count": 310,
     "metadata": {},
     "output_type": "execute_result"
    }
   ],
   "source": [
    "y_pred = model.predict(x= X)\n",
    "y.shape\n",
    "y_pred[:,0].shape"
   ]
  },
  {
   "cell_type": "code",
   "execution_count": 311,
   "metadata": {},
   "outputs": [
    {
     "data": {
      "text/plain": [
       "<matplotlib.axes._subplots.AxesSubplot at 0x7f38973990d0>"
      ]
     },
     "execution_count": 311,
     "metadata": {},
     "output_type": "execute_result"
    },
    {
     "data": {
      "image/png": "[encoded data removed]",
      "text/plain": [
       "<Figure size 432x288 with 1 Axes>"
      ]
     },
     "metadata": {
      "needs_background": "light"
     },
     "output_type": "display_data"
    }
   ],
   "source": [
    "sns.scatterplot(x=y, y=y_pred[:,0])"
   ]
  },
  {
   "cell_type": "code",
   "execution_count": 60,
   "metadata": {},
   "outputs": [],
   "source": [
    "from sklearn.metrics import mean_squared_error"
   ]
  },
  {
   "cell_type": "code",
   "execution_count": 315,
   "metadata": {},
   "outputs": [
    {
     "data": {
      "text/plain": [
       "0.00045468888669267726"
      ]
     },
     "execution_count": 315,
     "metadata": {},
     "output_type": "execute_result"
    }
   ],
   "source": [
    "mean_squared_error(y, y_pred)"
   ]
  },
  {
   "cell_type": "code",
   "execution_count": 317,
   "metadata": {},
   "outputs": [],
   "source": [
    "from keras.layers import Dropout"
   ]
  },
  {
   "cell_type": "code",
   "execution_count": 318,
   "metadata": {},
   "outputs": [],
   "source": [
    "model = Sequential()\n",
    "model.add(LSTM(units=50,return_sequences=True,input_shape=(input_shape)))\n",
    "model.add(Dropout(0.2))\n",
    "model.add(LSTM(units=50,return_sequences=True))\n",
    "model.add(Dropout(0.2))\n",
    "model.add(LSTM(units=50,return_sequences=True))\n",
    "model.add(Dropout(0.2))\n",
    "model.add(LSTM(units=50))\n",
    "model.add(Dropout(0.2))\n",
    "model.add(Dense(units=1))\n",
    "model.compile(optimizer='adam',loss='mean_squared_error')"
   ]
  },
  {
   "cell_type": "code",
   "execution_count": 319,
   "metadata": {},
   "outputs": [
    {
     "name": "stdout",
     "output_type": "stream",
     "text": [
      "Epoch 1/10\n",
      "1351/1351 [==============================] - 4s 3ms/step - loss: 0.0286\n",
      "Epoch 2/10\n",
      "1351/1351 [==============================] - 2s 1ms/step - loss: 0.0037\n",
      "Epoch 3/10\n",
      "1351/1351 [==============================] - 2s 1ms/step - loss: 0.0038\n",
      "Epoch 4/10\n",
      "1351/1351 [==============================] - 2s 2ms/step - loss: 0.0041\n",
      "Epoch 5/10\n",
      "1351/1351 [==============================] - 2s 1ms/step - loss: 0.0029\n",
      "Epoch 6/10\n",
      "1351/1351 [==============================] - 2s 1ms/step - loss: 0.0035\n",
      "Epoch 7/10\n",
      "1351/1351 [==============================] - 2s 1ms/step - loss: 0.0031\n",
      "Epoch 8/10\n",
      "1351/1351 [==============================] - 2s 1ms/step - loss: 0.0026\n",
      "Epoch 9/10\n",
      "1351/1351 [==============================] - 2s 1ms/step - loss: 0.0022\n",
      "Epoch 10/10\n",
      "1351/1351 [==============================] - 2s 1ms/step - loss: 0.0028\n"
     ]
    },
    {
     "data": {
      "text/plain": [
       "<keras.callbacks.callbacks.History at 0x7f386279bc90>"
      ]
     },
     "execution_count": 319,
     "metadata": {},
     "output_type": "execute_result"
    }
   ],
   "source": [
    "model.fit(x= X, y=y, epochs=10, batch_size=32)"
   ]
  },
  {
   "cell_type": "code",
   "execution_count": 325,
   "metadata": {},
   "outputs": [],
   "source": [
    "model = Sequential()\n",
    "model.add(LSTM(128, input_shape=(input_shape), return_sequences=True))\n",
    "model.add(LSTM(64, return_sequences=False))\n",
    "model.add(Dense(16, activation=\"relu\", kernel_initializer=\"uniform\"))\n",
    "model.add(Dense(1, activation=\"linear\", kernel_initializer=\"uniform\"))\n",
    "model.compile(optimizer='adam',loss='mean_squared_error')"
   ]
  },
  {
   "cell_type": "code",
   "execution_count": 327,
   "metadata": {},
   "outputs": [
    {
     "name": "stdout",
     "output_type": "stream",
     "text": [
      "Epoch 1/30\n",
      "1351/1351 [==============================] - 1s 1ms/step - loss: 0.0011\n",
      "Epoch 2/30\n",
      "1351/1351 [==============================] - 1s 981us/step - loss: 0.0011\n",
      "Epoch 3/30\n",
      "1351/1351 [==============================] - 1s 956us/step - loss: 0.0012\n",
      "Epoch 4/30\n",
      "1351/1351 [==============================] - 1s 970us/step - loss: 0.0011\n",
      "Epoch 5/30\n",
      "1351/1351 [==============================] - 1s 998us/step - loss: 9.6143e-04\n",
      "Epoch 6/30\n",
      "1351/1351 [==============================] - 1s 1ms/step - loss: 0.0010\n",
      "Epoch 7/30\n",
      "1351/1351 [==============================] - 1s 1ms/step - loss: 0.0011\n",
      "Epoch 8/30\n",
      "1351/1351 [==============================] - 1s 1ms/step - loss: 0.0012\n",
      "Epoch 9/30\n",
      "1351/1351 [==============================] - 1s 1ms/step - loss: 0.0010\n",
      "Epoch 10/30\n",
      "1351/1351 [==============================] - 1s 1ms/step - loss: 9.9266e-04\n",
      "Epoch 11/30\n",
      "1351/1351 [==============================] - 1s 1ms/step - loss: 9.7646e-04\n",
      "Epoch 12/30\n",
      "1351/1351 [==============================] - 1s 1ms/step - loss: 0.0011\n",
      "Epoch 13/30\n",
      "1351/1351 [==============================] - 1s 1ms/step - loss: 9.6052e-04\n",
      "Epoch 14/30\n",
      "1351/1351 [==============================] - 1s 1ms/step - loss: 9.3177e-04\n",
      "Epoch 15/30\n",
      "1351/1351 [==============================] - 2s 1ms/step - loss: 9.9102e-04\n",
      "Epoch 16/30\n",
      "1351/1351 [==============================] - 2s 1ms/step - loss: 7.7605e-04\n",
      "Epoch 17/30\n",
      "1351/1351 [==============================] - 1s 1ms/step - loss: 7.2456e-04\n",
      "Epoch 18/30\n",
      "1351/1351 [==============================] - 1s 1ms/step - loss: 0.0013\n",
      "Epoch 19/30\n",
      "1351/1351 [==============================] - 1s 1ms/step - loss: 7.5203e-04\n",
      "Epoch 20/30\n",
      "1351/1351 [==============================] - 1s 1ms/step - loss: 7.6058e-04\n",
      "Epoch 21/30\n",
      "1351/1351 [==============================] - 2s 1ms/step - loss: 6.3449e-04\n",
      "Epoch 22/30\n",
      "1351/1351 [==============================] - 2s 1ms/step - loss: 7.8306e-04\n",
      "Epoch 23/30\n",
      "1351/1351 [==============================] - 2s 1ms/step - loss: 7.3329e-04\n",
      "Epoch 24/30\n",
      "1351/1351 [==============================] - 1s 1ms/step - loss: 6.5993e-04\n",
      "Epoch 25/30\n",
      "1351/1351 [==============================] - 1s 983us/step - loss: 6.2777e-04\n",
      "Epoch 26/30\n",
      "1351/1351 [==============================] - 1s 969us/step - loss: 5.4805e-04\n",
      "Epoch 27/30\n",
      "1351/1351 [==============================] - 1s 1ms/step - loss: 5.6316e-04\n",
      "Epoch 28/30\n",
      "1351/1351 [==============================] - 2s 1ms/step - loss: 5.0348e-04\n",
      "Epoch 29/30\n",
      "1351/1351 [==============================] - 2s 1ms/step - loss: 7.8036e-04\n",
      "Epoch 30/30\n",
      "1351/1351 [==============================] - 1s 1ms/step - loss: 5.7061e-04\n"
     ]
    },
    {
     "data": {
      "text/plain": [
       "<keras.callbacks.callbacks.History at 0x7f386205be50>"
      ]
     },
     "execution_count": 327,
     "metadata": {},
     "output_type": "execute_result"
    }
   ],
   "source": [
    "model.fit(x= X, y=y, epochs=30, batch_size=32)"
   ]
  },
  {
   "cell_type": "code",
   "execution_count": 5,
   "metadata": {},
   "outputs": [],
   "source": [
    "import splitSequence as sq"
   ]
  },
  {
   "cell_type": "code",
   "execution_count": 7,
   "metadata": {},
   "outputs": [
    {
     "name": "stdout",
     "output_type": "stream",
     "text": "[(0, 'Date'), (1, 'Open'), (2, 'High'), (3, 'Low'), (4, 'Close')]\n"
    }
   ],
   "source": [
    "data2 = data.iloc[:,:5]\n",
    "print(list(enumerate(data2.columns)))\n",
    "data2 = np.array(data2)"
   ]
  },
  {
   "cell_type": "code",
   "execution_count": 8,
   "metadata": {},
   "outputs": [
    {
     "name": "stdout",
     "output_type": "stream",
     "text": "1105\n"
    }
   ],
   "source": [
    "split = round(len(data2) * 0.8)\n",
    "print(split)\n",
    "train = data2[:split,:]\n",
    "test = data2[split:,:]"
   ]
  },
  {
   "cell_type": "code",
   "execution_count": 9,
   "metadata": {},
   "outputs": [],
   "source": [
    "import splitSequence as sq"
   ]
  },
  {
   "cell_type": "code",
   "execution_count": 10,
   "metadata": {},
   "outputs": [],
   "source": [
    "train, test = sq.timeseriesSplitTestTrain(data2, proportion=0.8)"
   ]
  },
  {
   "cell_type": "code",
   "execution_count": 11,
   "metadata": {},
   "outputs": [
    {
     "data": {
      "text/plain": "(276, 5)"
     },
     "execution_count": 11,
     "metadata": {},
     "output_type": "execute_result"
    }
   ],
   "source": [
    "train.shape\n",
    "test.shape"
   ]
  },
  {
   "cell_type": "markdown",
   "metadata": {},
   "source": [
    "### We should standardize the training and testing set separately, to avoid look-ahead bias\n",
    "https://datascience.stackexchange.com/questions/47008/is-normalizing-the-validation-set-of-time-series-a-kind-of-look-ahead-bias"
   ]
  },
  {
   "cell_type": "code",
   "execution_count": 63,
   "metadata": {},
   "outputs": [],
   "source": [
    "from sklearn.preprocessing import StandardScaler"
   ]
  },
  {
   "cell_type": "code",
   "execution_count": 69,
   "metadata": {},
   "outputs": [
    {
     "data": {
      "text/plain": [
       "array([67.75902262, 68.55434299, 66.90387249, 67.74956109])"
      ]
     },
     "execution_count": 69,
     "metadata": {},
     "output_type": "execute_result"
    }
   ],
   "source": [
    "scaler = StandardScaler()\n",
    "standardized = scaler.fit(train[:,1:])\n",
    "standardized.mean_"
   ]
  },
  {
   "cell_type": "code",
   "execution_count": 4,
   "metadata": {},
   "outputs": [],
   "source": [
    "import splitSequence as sq"
   ]
  },
  {
   "cell_type": "code",
   "execution_count": 12,
   "metadata": {},
   "outputs": [],
   "source": [
    "X_train_open = sq.splitSeqGetX(train[:,1], 50)\n",
    "X_train_close = sq.splitSeqGetX(train[:,4], 50)\n",
    "ytrain = sq.splitSeqGety(train[:,1], 50)\n",
    "X_test_open = sq.splitSeqGetX(test[:,1], 50)\n",
    "X_test_close = sq.splitSeqGetX(test[:,4], 50)\n",
    "ytest = sq.splitSeqGety(test[:,1], 50)"
   ]
  },
  {
   "cell_type": "code",
   "execution_count": 26,
   "metadata": {},
   "outputs": [
    {
     "data": {
      "text/plain": "(1055, 50, 4)"
     },
     "execution_count": 26,
     "metadata": {},
     "output_type": "execute_result"
    }
   ],
   "source": [
    "X = []\n",
    "col_index = [1,2,3,4]\n",
    "for i in col_index:\n",
    "    X.append(sq.splitSeqGetX(train[:,i], 50))\n",
    "np.dstack(X).shape"
   ]
  },
  {
   "cell_type": "code",
   "execution_count": 23,
   "metadata": {},
   "outputs": [
    {
     "data": {
      "text/plain": "(1055, 50, 3)"
     },
     "execution_count": 23,
     "metadata": {},
     "output_type": "execute_result"
    }
   ],
   "source": [
    "np.dstack(X).shape"
   ]
  },
  {
   "cell_type": "code",
   "execution_count": 47,
   "metadata": {},
   "outputs": [
    {
     "data": {
      "text/plain": [
       "(50, 2)"
      ]
     },
     "execution_count": 47,
     "metadata": {},
     "output_type": "execute_result"
    }
   ],
   "source": [
    "Xtrain = np.dstack((X_train_open, X_train_close))\n",
    "Xtest = np.dstack((X_test_open, X_test_close))\n",
    "Xtrain.shape[1:]"
   ]
  },
  {
   "cell_type": "code",
   "execution_count": 48,
   "metadata": {},
   "outputs": [],
   "source": [
    "input_shape = Xtrain.shape[1:]"
   ]
  },
  {
   "cell_type": "code",
   "execution_count": 50,
   "metadata": {},
   "outputs": [],
   "source": [
    "from keras.layers import LSTM, Dense"
   ]
  },
  {
   "cell_type": "code",
   "execution_count": 51,
   "metadata": {},
   "outputs": [],
   "source": [
    "model = Sequential()\n",
    "model.add(LSTM(128, input_shape=(input_shape), return_sequences=True))\n",
    "model.add(LSTM(64, return_sequences=False))\n",
    "model.add(Dense(16, activation=\"relu\", kernel_initializer=\"uniform\"))\n",
    "model.add(Dense(1, activation=\"linear\", kernel_initializer=\"uniform\"))\n",
    "model.compile(optimizer='adam',loss='mean_squared_error')"
   ]
  },
  {
   "cell_type": "code",
   "execution_count": 54,
   "metadata": {},
   "outputs": [
    {
     "name": "stdout",
     "output_type": "stream",
     "text": [
      "Epoch 1/20\n",
      "1055/1055 [==============================] - 2s 2ms/step - loss: 5588.2935\n",
      "Epoch 2/20\n",
      "1055/1055 [==============================] - 2s 2ms/step - loss: 5048.2004\n",
      "Epoch 3/20\n",
      "1055/1055 [==============================] - 2s 2ms/step - loss: 4281.0692\n",
      "Epoch 4/20\n",
      "1055/1055 [==============================] - 2s 2ms/step - loss: 3397.8134\n",
      "Epoch 5/20\n",
      "1055/1055 [==============================] - 2s 2ms/step - loss: 2555.3250\n",
      "Epoch 6/20\n",
      "1055/1055 [==============================] - 2s 2ms/step - loss: 1881.8009\n",
      "Epoch 7/20\n",
      "1055/1055 [==============================] - 2s 2ms/step - loss: 1434.9083\n",
      "Epoch 8/20\n",
      "1055/1055 [==============================] - 2s 2ms/step - loss: 1197.0598\n",
      "Epoch 9/20\n",
      "1055/1055 [==============================] - 2s 2ms/step - loss: 1098.0957\n",
      "Epoch 10/20\n",
      "1055/1055 [==============================] - 2s 2ms/step - loss: 1065.9476\n",
      "Epoch 11/20\n",
      "1055/1055 [==============================] - 2s 2ms/step - loss: 1058.1793\n",
      "Epoch 12/20\n",
      "1055/1055 [==============================] - 2s 2ms/step - loss: 1056.4671\n",
      "Epoch 13/20\n",
      "1055/1055 [==============================] - 2s 2ms/step - loss: 1046.6342\n",
      "Epoch 14/20\n",
      "1055/1055 [==============================] - 2s 2ms/step - loss: 751.4777\n",
      "Epoch 15/20\n",
      "1055/1055 [==============================] - 2s 2ms/step - loss: 362.1205\n",
      "Epoch 16/20\n",
      "1055/1055 [==============================] - 2s 2ms/step - loss: 220.7976\n",
      "Epoch 17/20\n",
      "1055/1055 [==============================] - 2s 2ms/step - loss: 142.1488\n",
      "Epoch 18/20\n",
      "1055/1055 [==============================] - 2s 2ms/step - loss: 95.5249\n",
      "Epoch 19/20\n",
      "1055/1055 [==============================] - 2s 2ms/step - loss: 63.2929\n",
      "Epoch 20/20\n",
      "1055/1055 [==============================] - 2s 2ms/step - loss: 42.0140\n"
     ]
    },
    {
     "data": {
      "text/plain": [
       "<keras.callbacks.callbacks.History at 0x7f1b0c39b050>"
      ]
     },
     "execution_count": 54,
     "metadata": {},
     "output_type": "execute_result"
    }
   ],
   "source": [
    "model.fit(x=Xtrain, y=ytrain, epochs=20, batch_size=32)"
   ]
  },
  {
   "cell_type": "code",
   "execution_count": 59,
   "metadata": {},
   "outputs": [],
   "source": [
    "pred_y = model.predict(x= Xtest, batch_size=32)"
   ]
  },
  {
   "cell_type": "code",
   "execution_count": 62,
   "metadata": {},
   "outputs": [
    {
     "data": {
      "text/plain": [
       "49.27552222027465"
      ]
     },
     "execution_count": 62,
     "metadata": {},
     "output_type": "execute_result"
    }
   ],
   "source": [
    "from math import sqrt\n",
    "sqrt(mean_squared_error(ytest, pred_y))"
   ]
  },
  {
   "cell_type": "code",
   "execution_count": null,
   "metadata": {},
   "outputs": [],
   "source": []
  }
 ],
 "metadata": {
  "kernelspec": {
   "display_name": "Python 3.7.6 64-bit",
   "language": "python",
   "name": "python37664bitc736265aa96942798be544ff59087e30"
  },
  "language_info": {
   "codemirror_mode": {
    "name": "ipython",
    "version": 3
   },
   "file_extension": ".py",
   "mimetype": "text/x-python",
   "name": "python",
   "nbconvert_exporter": "python",
   "pygments_lexer": "ipython3",
   "version": "3.7.5-candidate"
  }
 },
 "nbformat": 4,
 "nbformat_minor": 4
}