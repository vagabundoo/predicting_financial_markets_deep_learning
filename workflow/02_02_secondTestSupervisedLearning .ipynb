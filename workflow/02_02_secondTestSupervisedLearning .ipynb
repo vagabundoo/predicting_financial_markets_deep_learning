{
 "cells": [
  {
   "cell_type": "code",
   "execution_count": 0,
   "metadata": {
    "colab": {
     "base_uri": "https://localhost:8080/",
     "height": 34
    },
    "colab_type": "code",
    "id": "6PAe1yaBmGbO",
    "outputId": "b1a94a03-d811-4786-88b9-3e78cea58bf4"
   },
   "outputs": [
    {
     "name": "stdout",
     "output_type": "stream",
     "text": [
      "Drive already mounted at /content/gdrive; to attempt to forcibly remount, call drive.mount(\"/content/gdrive\", force_remount=True).\n"
     ]
    }
   ],
   "source": [
    "from google.colab import drive\n",
    "drive.mount('/content/gdrive')                                                                                                                                                                                        "
   ]
  },
  {
   "cell_type": "code",
   "execution_count": 0,
   "metadata": {
    "colab": {},
    "colab_type": "code",
    "id": "iNvBT27Xmhkv"
   },
   "outputs": [],
   "source": [
    "!apt-get install openjdk-8-jdk -qq > /dev/null\n",
    "!pip install h2o -qq"
   ]
  },
  {
   "cell_type": "code",
   "execution_count": 0,
   "metadata": {
    "colab": {
     "base_uri": "https://localhost:8080/",
     "height": 17
    },
    "colab_type": "code",
    "id": "UyZ_wk1knfBd",
    "outputId": "87e41ac8-1909-43a9-d88a-5afbf230cac0"
   },
   "outputs": [
    {
     "name": "stdout",
     "output_type": "stream",
     "text": [
      "\u001b[?25h"
     ]
    }
   ],
   "source": [
    "!npm install -g localtunnel -qq > /dev/null\n",
    "get_ipython().system_raw('lt --port 54321 >> url.txt 2>&1 &')\n",
    "!cat url.txt"
   ]
  },
  {
   "cell_type": "code",
   "execution_count": 1,
   "metadata": {
    "colab": {
     "base_uri": "https://localhost:8080/",
     "height": 51
    },
    "colab_type": "code",
    "id": "rTbpFsZQnGgW",
    "outputId": "5f9cad30-ba91-4316-8c6f-36244d8f2a5d"
   },
   "outputs": [
    {
     "name": "stdout",
     "output_type": "stream",
     "text": [
      "C:\\Users\\Eduardo\\Documents\\1-ironhack\\googleDrive\\financial-predictions\\colabNotebooks\n"
     ]
    },
    {
     "ename": "FileNotFoundError",
     "evalue": "[WinError 3] The system cannot find the path specified: 'gdrive/My Drive/financial-predictions'",
     "output_type": "error",
     "traceback": [
      "\u001b[1;31m---------------------------------------------------------------------------\u001b[0m",
      "\u001b[1;31mFileNotFoundError\u001b[0m                         Traceback (most recent call last)",
      "\u001b[1;32m<ipython-input-1-824df7482bc5>\u001b[0m in \u001b[0;36m<module>\u001b[1;34m\u001b[0m\n\u001b[0;32m      2\u001b[0m \u001b[1;33m\u001b[0m\u001b[0m\n\u001b[0;32m      3\u001b[0m \u001b[0mprint\u001b[0m\u001b[1;33m(\u001b[0m\u001b[0mos\u001b[0m\u001b[1;33m.\u001b[0m\u001b[0mgetcwd\u001b[0m\u001b[1;33m(\u001b[0m\u001b[1;33m)\u001b[0m\u001b[1;33m)\u001b[0m\u001b[1;33m\u001b[0m\u001b[1;33m\u001b[0m\u001b[0m\n\u001b[1;32m----> 4\u001b[1;33m \u001b[0mos\u001b[0m\u001b[1;33m.\u001b[0m\u001b[0mchdir\u001b[0m\u001b[1;33m(\u001b[0m\u001b[1;34m'gdrive/My Drive/financial-predictions'\u001b[0m\u001b[1;33m)\u001b[0m\u001b[1;33m\u001b[0m\u001b[1;33m\u001b[0m\u001b[0m\n\u001b[0m\u001b[0;32m      5\u001b[0m \u001b[0mprint\u001b[0m\u001b[1;33m(\u001b[0m\u001b[0mos\u001b[0m\u001b[1;33m.\u001b[0m\u001b[0mgetcwd\u001b[0m\u001b[1;33m(\u001b[0m\u001b[1;33m)\u001b[0m\u001b[1;33m)\u001b[0m\u001b[1;33m\u001b[0m\u001b[1;33m\u001b[0m\u001b[0m\n",
      "\u001b[1;31mFileNotFoundError\u001b[0m: [WinError 3] The system cannot find the path specified: 'gdrive/My Drive/financial-predictions'"
     ]
    }
   ],
   "source": [
    "import os\n",
    "\n",
    "print(os.getcwd())\n",
    "os.chdir('gdrive/My Drive/financial-predictions')\n",
    "print(os.getcwd())"
   ]
  },
  {
   "cell_type": "code",
   "execution_count": 14,
   "metadata": {
    "colab": {},
    "colab_type": "code",
    "id": "7PaHQSJxmD8V"
   },
   "outputs": [],
   "source": [
    "import pandas as pd\n",
    "from timeSeriesToSupervised import series_to_supervised\n",
    "from transformData import minMaxScaleOnTrain\n",
    "import numpy as np\n",
    "import splitSequence as sq\n",
    "import h2o\n",
    "from h2o.automl import H2OAutoML\n",
    "import ta"
   ]
  },
  {
   "cell_type": "code",
   "execution_count": 11,
   "metadata": {
    "colab": {
     "base_uri": "https://localhost:8080/",
     "height": 252
    },
    "colab_type": "code",
    "id": "p16KMSvpmD8d",
    "outputId": "cbc144b6-6152-4ea4-d5c4-b95bbdc3e5b1"
   },
   "outputs": [
    {
     "data": {
      "text/html": [
       "<div>\n",
       "<style scoped>\n",
       "    .dataframe tbody tr th:only-of-type {\n",
       "        vertical-align: middle;\n",
       "    }\n",
       "\n",
       "    .dataframe tbody tr th {\n",
       "        vertical-align: top;\n",
       "    }\n",
       "\n",
       "    .dataframe thead th {\n",
       "        text-align: right;\n",
       "    }\n",
       "</style>\n",
       "<table border=\"1\" class=\"dataframe\">\n",
       "  <thead>\n",
       "    <tr style=\"text-align: right;\">\n",
       "      <th></th>\n",
       "      <th>Open</th>\n",
       "      <th>High</th>\n",
       "      <th>Low</th>\n",
       "      <th>Close</th>\n",
       "      <th>Volume</th>\n",
       "    </tr>\n",
       "    <tr>\n",
       "      <th>Date</th>\n",
       "      <th></th>\n",
       "      <th></th>\n",
       "      <th></th>\n",
       "      <th></th>\n",
       "      <th></th>\n",
       "    </tr>\n",
       "  </thead>\n",
       "  <tbody>\n",
       "    <tr>\n",
       "      <td>1970-01-02</td>\n",
       "      <td>1.5325</td>\n",
       "      <td>1.5783</td>\n",
       "      <td>1.5325</td>\n",
       "      <td>1.5631</td>\n",
       "      <td>13511</td>\n",
       "    </tr>\n",
       "    <tr>\n",
       "      <td>1970-01-05</td>\n",
       "      <td>1.5631</td>\n",
       "      <td>1.5783</td>\n",
       "      <td>1.5403</td>\n",
       "      <td>1.5783</td>\n",
       "      <td>23083</td>\n",
       "    </tr>\n",
       "    <tr>\n",
       "      <td>1970-01-06</td>\n",
       "      <td>1.5783</td>\n",
       "      <td>1.5934</td>\n",
       "      <td>1.5708</td>\n",
       "      <td>1.5708</td>\n",
       "      <td>18360</td>\n",
       "    </tr>\n",
       "    <tr>\n",
       "      <td>1970-01-07</td>\n",
       "      <td>1.5708</td>\n",
       "      <td>1.5783</td>\n",
       "      <td>1.5552</td>\n",
       "      <td>1.5783</td>\n",
       "      <td>10098</td>\n",
       "    </tr>\n",
       "    <tr>\n",
       "      <td>1970-01-08</td>\n",
       "      <td>1.5708</td>\n",
       "      <td>1.5708</td>\n",
       "      <td>1.5552</td>\n",
       "      <td>1.5552</td>\n",
       "      <td>21375</td>\n",
       "    </tr>\n",
       "  </tbody>\n",
       "</table>\n",
       "</div>"
      ],
      "text/plain": [
       "              Open    High     Low   Close  Volume\n",
       "Date                                              \n",
       "1970-01-02  1.5325  1.5783  1.5325  1.5631   13511\n",
       "1970-01-05  1.5631  1.5783  1.5403  1.5783   23083\n",
       "1970-01-06  1.5783  1.5934  1.5708  1.5708   18360\n",
       "1970-01-07  1.5708  1.5783  1.5552  1.5783   10098\n",
       "1970-01-08  1.5708  1.5708  1.5552  1.5552   21375"
      ]
     },
     "metadata": {},
     "output_type": "display_data"
    },
    {
     "data": {
      "text/plain": [
       "Index(['Open', 'High', 'Low', 'Close', 'Volume', 'trend_macd',\n",
       "       'trend_macd_signal', 'trend_macd_diff', 'trend_ema_fast',\n",
       "       'trend_ema_slow', 'trend_adx', 'trend_adx_pos', 'trend_adx_neg',\n",
       "       'trend_vortex_ind_pos', 'trend_vortex_ind_neg', 'trend_vortex_ind_diff',\n",
       "       'trend_trix', 'trend_mass_index', 'trend_cci', 'trend_dpo', 'trend_kst',\n",
       "       'trend_kst_sig', 'trend_kst_diff', 'trend_ichimoku_a',\n",
       "       'trend_ichimoku_b', 'trend_visual_ichimoku_a',\n",
       "       'trend_visual_ichimoku_b', 'trend_aroon_up', 'trend_aroon_down',\n",
       "       'trend_aroon_ind', 'trend_psar', 'trend_psar_up', 'trend_psar_down',\n",
       "       'trend_psar_up_indicator', 'trend_psar_down_indicator', 'others_dr',\n",
       "       'others_dlr', 'others_cr'],\n",
       "      dtype='object')"
      ]
     },
     "execution_count": 11,
     "metadata": {},
     "output_type": "execute_result"
    }
   ],
   "source": [
    "symbol = 'aep'\n",
    "stock = pd.read_csv(f'../inputData/stocksLong/{symbol}.us.txt', parse_dates=True).drop(columns='OpenInt')\n",
    "stock.set_index('Date', inplace=True)\n",
    "display(stock.head())\n",
    "stock  = ta.add_trend_ta(stock, high='High', low='Low', close='Close', fillna=True)\n",
    "stock = ta.add_others_ta(stock, close='Close', fillna=True)\n",
    "stock.columns\n",
    "#print(stock.shape)"
   ]
  },
  {
   "cell_type": "code",
   "execution_count": 12,
   "metadata": {
    "colab": {
     "base_uri": "https://localhost:8080/",
     "height": 386
    },
    "colab_type": "code",
    "id": "4vNw5ao4mD8n",
    "outputId": "b2069c8b-15de-4338-813f-fcc8863446e2"
   },
   "outputs": [
    {
     "data": {
      "text/html": [
       "<div>\n",
       "<style scoped>\n",
       "    .dataframe tbody tr th:only-of-type {\n",
       "        vertical-align: middle;\n",
       "    }\n",
       "\n",
       "    .dataframe tbody tr th {\n",
       "        vertical-align: top;\n",
       "    }\n",
       "\n",
       "    .dataframe thead th {\n",
       "        text-align: right;\n",
       "    }\n",
       "</style>\n",
       "<table border=\"1\" class=\"dataframe\">\n",
       "  <thead>\n",
       "    <tr style=\"text-align: right;\">\n",
       "      <th></th>\n",
       "      <th>Close(t-50)</th>\n",
       "      <th>Close(t-49)</th>\n",
       "      <th>Close(t-48)</th>\n",
       "      <th>Close(t-47)</th>\n",
       "      <th>Close(t-46)</th>\n",
       "      <th>Close(t-45)</th>\n",
       "      <th>Close(t-44)</th>\n",
       "      <th>Close(t-43)</th>\n",
       "      <th>Close(t-42)</th>\n",
       "      <th>Close(t-41)</th>\n",
       "      <th>...</th>\n",
       "      <th>others_dr(t-10)</th>\n",
       "      <th>others_dr(t-9)</th>\n",
       "      <th>others_dr(t-8)</th>\n",
       "      <th>others_dr(t-7)</th>\n",
       "      <th>others_dr(t-6)</th>\n",
       "      <th>others_dr(t-5)</th>\n",
       "      <th>others_dr(t-4)</th>\n",
       "      <th>others_dr(t-3)</th>\n",
       "      <th>others_dr(t-2)</th>\n",
       "      <th>others_dr(t-1)</th>\n",
       "    </tr>\n",
       "    <tr>\n",
       "      <th>Date</th>\n",
       "      <th></th>\n",
       "      <th></th>\n",
       "      <th></th>\n",
       "      <th></th>\n",
       "      <th></th>\n",
       "      <th></th>\n",
       "      <th></th>\n",
       "      <th></th>\n",
       "      <th></th>\n",
       "      <th></th>\n",
       "      <th></th>\n",
       "      <th></th>\n",
       "      <th></th>\n",
       "      <th></th>\n",
       "      <th></th>\n",
       "      <th></th>\n",
       "      <th></th>\n",
       "      <th></th>\n",
       "      <th></th>\n",
       "      <th></th>\n",
       "      <th></th>\n",
       "    </tr>\n",
       "  </thead>\n",
       "  <tbody>\n",
       "    <tr>\n",
       "      <td>1970-03-16</td>\n",
       "      <td>1.5631</td>\n",
       "      <td>1.5783</td>\n",
       "      <td>1.5708</td>\n",
       "      <td>1.5783</td>\n",
       "      <td>1.5552</td>\n",
       "      <td>1.5708</td>\n",
       "      <td>1.5552</td>\n",
       "      <td>1.5097</td>\n",
       "      <td>1.5097</td>\n",
       "      <td>1.5019</td>\n",
       "      <td>...</td>\n",
       "      <td>4.449588</td>\n",
       "      <td>-0.960355</td>\n",
       "      <td>0.969667</td>\n",
       "      <td>-1.434376</td>\n",
       "      <td>-2.373368</td>\n",
       "      <td>0.000000</td>\n",
       "      <td>-0.505406</td>\n",
       "      <td>0.000000</td>\n",
       "      <td>0.000000</td>\n",
       "      <td>0.507973</td>\n",
       "    </tr>\n",
       "    <tr>\n",
       "      <td>1970-03-17</td>\n",
       "      <td>1.5783</td>\n",
       "      <td>1.5708</td>\n",
       "      <td>1.5783</td>\n",
       "      <td>1.5552</td>\n",
       "      <td>1.5708</td>\n",
       "      <td>1.5552</td>\n",
       "      <td>1.5097</td>\n",
       "      <td>1.5097</td>\n",
       "      <td>1.5019</td>\n",
       "      <td>1.4942</td>\n",
       "      <td>...</td>\n",
       "      <td>-0.960355</td>\n",
       "      <td>0.969667</td>\n",
       "      <td>-1.434376</td>\n",
       "      <td>-2.373368</td>\n",
       "      <td>0.000000</td>\n",
       "      <td>-0.505406</td>\n",
       "      <td>0.000000</td>\n",
       "      <td>0.000000</td>\n",
       "      <td>0.507973</td>\n",
       "      <td>0.000000</td>\n",
       "    </tr>\n",
       "    <tr>\n",
       "      <td>1970-03-18</td>\n",
       "      <td>1.5708</td>\n",
       "      <td>1.5783</td>\n",
       "      <td>1.5552</td>\n",
       "      <td>1.5708</td>\n",
       "      <td>1.5552</td>\n",
       "      <td>1.5097</td>\n",
       "      <td>1.5097</td>\n",
       "      <td>1.5019</td>\n",
       "      <td>1.4942</td>\n",
       "      <td>1.5248</td>\n",
       "      <td>...</td>\n",
       "      <td>0.969667</td>\n",
       "      <td>-1.434376</td>\n",
       "      <td>-2.373368</td>\n",
       "      <td>0.000000</td>\n",
       "      <td>-0.505406</td>\n",
       "      <td>0.000000</td>\n",
       "      <td>0.000000</td>\n",
       "      <td>0.507973</td>\n",
       "      <td>0.000000</td>\n",
       "      <td>-0.505406</td>\n",
       "    </tr>\n",
       "    <tr>\n",
       "      <td>1970-03-19</td>\n",
       "      <td>1.5783</td>\n",
       "      <td>1.5552</td>\n",
       "      <td>1.5708</td>\n",
       "      <td>1.5552</td>\n",
       "      <td>1.5097</td>\n",
       "      <td>1.5097</td>\n",
       "      <td>1.5019</td>\n",
       "      <td>1.4942</td>\n",
       "      <td>1.5248</td>\n",
       "      <td>1.4942</td>\n",
       "      <td>...</td>\n",
       "      <td>-1.434376</td>\n",
       "      <td>-2.373368</td>\n",
       "      <td>0.000000</td>\n",
       "      <td>-0.505406</td>\n",
       "      <td>0.000000</td>\n",
       "      <td>0.000000</td>\n",
       "      <td>0.507973</td>\n",
       "      <td>0.000000</td>\n",
       "      <td>-0.505406</td>\n",
       "      <td>0.000000</td>\n",
       "    </tr>\n",
       "    <tr>\n",
       "      <td>1970-03-20</td>\n",
       "      <td>1.5552</td>\n",
       "      <td>1.5708</td>\n",
       "      <td>1.5552</td>\n",
       "      <td>1.5097</td>\n",
       "      <td>1.5097</td>\n",
       "      <td>1.5019</td>\n",
       "      <td>1.4942</td>\n",
       "      <td>1.5248</td>\n",
       "      <td>1.4942</td>\n",
       "      <td>1.5097</td>\n",
       "      <td>...</td>\n",
       "      <td>-2.373368</td>\n",
       "      <td>0.000000</td>\n",
       "      <td>-0.505406</td>\n",
       "      <td>0.000000</td>\n",
       "      <td>0.000000</td>\n",
       "      <td>0.507973</td>\n",
       "      <td>0.000000</td>\n",
       "      <td>-0.505406</td>\n",
       "      <td>0.000000</td>\n",
       "      <td>-0.958076</td>\n",
       "    </tr>\n",
       "  </tbody>\n",
       "</table>\n",
       "<p>5 rows × 351 columns</p>\n",
       "</div>"
      ],
      "text/plain": [
       "            Close(t-50)  Close(t-49)  Close(t-48)  Close(t-47)  Close(t-46)  \\\n",
       "Date                                                                          \n",
       "1970-03-16       1.5631       1.5783       1.5708       1.5783       1.5552   \n",
       "1970-03-17       1.5783       1.5708       1.5783       1.5552       1.5708   \n",
       "1970-03-18       1.5708       1.5783       1.5552       1.5708       1.5552   \n",
       "1970-03-19       1.5783       1.5552       1.5708       1.5552       1.5097   \n",
       "1970-03-20       1.5552       1.5708       1.5552       1.5097       1.5097   \n",
       "\n",
       "            Close(t-45)  Close(t-44)  Close(t-43)  Close(t-42)  Close(t-41)  \\\n",
       "Date                                                                          \n",
       "1970-03-16       1.5708       1.5552       1.5097       1.5097       1.5019   \n",
       "1970-03-17       1.5552       1.5097       1.5097       1.5019       1.4942   \n",
       "1970-03-18       1.5097       1.5097       1.5019       1.4942       1.5248   \n",
       "1970-03-19       1.5097       1.5019       1.4942       1.5248       1.4942   \n",
       "1970-03-20       1.5019       1.4942       1.5248       1.4942       1.5097   \n",
       "\n",
       "            ...  others_dr(t-10)  others_dr(t-9)  others_dr(t-8)  \\\n",
       "Date        ...                                                    \n",
       "1970-03-16  ...         4.449588       -0.960355        0.969667   \n",
       "1970-03-17  ...        -0.960355        0.969667       -1.434376   \n",
       "1970-03-18  ...         0.969667       -1.434376       -2.373368   \n",
       "1970-03-19  ...        -1.434376       -2.373368        0.000000   \n",
       "1970-03-20  ...        -2.373368        0.000000       -0.505406   \n",
       "\n",
       "            others_dr(t-7)  others_dr(t-6)  others_dr(t-5)  others_dr(t-4)  \\\n",
       "Date                                                                         \n",
       "1970-03-16       -1.434376       -2.373368        0.000000       -0.505406   \n",
       "1970-03-17       -2.373368        0.000000       -0.505406        0.000000   \n",
       "1970-03-18        0.000000       -0.505406        0.000000        0.000000   \n",
       "1970-03-19       -0.505406        0.000000        0.000000        0.507973   \n",
       "1970-03-20        0.000000        0.000000        0.507973        0.000000   \n",
       "\n",
       "            others_dr(t-3)  others_dr(t-2)  others_dr(t-1)  \n",
       "Date                                                        \n",
       "1970-03-16        0.000000        0.000000        0.507973  \n",
       "1970-03-17        0.000000        0.507973        0.000000  \n",
       "1970-03-18        0.507973        0.000000       -0.505406  \n",
       "1970-03-19        0.000000       -0.505406        0.000000  \n",
       "1970-03-20       -0.505406        0.000000       -0.958076  \n",
       "\n",
       "[5 rows x 351 columns]"
      ]
     },
     "execution_count": 12,
     "metadata": {},
     "output_type": "execute_result"
    }
   ],
   "source": [
    "columns = ['Open', 'High', 'Low', 'Volume', 'trend_macd', 'others_dr']\n",
    "df_forML = series_to_supervised(list(stock['Close']), n_in=50, n_out=1, name_var='Close')\n",
    "df_forML.rename(columns={'Close(t)':'y'}, inplace=True) \n",
    "for col in columns:\n",
    "    df_forML = df_forML.merge(series_to_supervised(list(stock[col]), n_in=50, n_out=0, name_var=col), left_index=True, right_index=True)\n",
    "df_forML = df_forML.set_index(stock.iloc[50:].index)\n",
    "df_forML = df_forML.iloc[:int(len(df_forML) * 0.8)]\n",
    "df_forML.head()"
   ]
  },
  {
   "cell_type": "code",
   "execution_count": 16,
   "metadata": {},
   "outputs": [],
   "source": [
    "# We scale the data based on the training period.\n",
    "df_forML = minMaxScaleOnTrain(df_forML)"
   ]
  },
  {
   "cell_type": "code",
   "execution_count": 17,
   "metadata": {
    "colab": {
     "base_uri": "https://localhost:8080/",
     "height": 508
    },
    "colab_type": "code",
    "id": "rSAmFbRJnnoH",
    "outputId": "c2489f69-205d-4a5d-e29e-96e1dc68fad7"
   },
   "outputs": [
    {
     "name": "stdout",
     "output_type": "stream",
     "text": [
      "Checking whether there is an H2O instance running at http://localhost:54321 . connected.\n"
     ]
    },
    {
     "data": {
      "text/html": [
       "<div style=\"overflow:auto\"><table style=\"width:50%\"><tr><td>H2O cluster uptime:</td>\n",
       "<td>22 mins 56 secs</td></tr>\n",
       "<tr><td>H2O cluster timezone:</td>\n",
       "<td>Europe/Paris</td></tr>\n",
       "<tr><td>H2O data parsing timezone:</td>\n",
       "<td>UTC</td></tr>\n",
       "<tr><td>H2O cluster version:</td>\n",
       "<td>3.28.0.3</td></tr>\n",
       "<tr><td>H2O cluster version age:</td>\n",
       "<td>1 month and 7 days </td></tr>\n",
       "<tr><td>H2O cluster name:</td>\n",
       "<td>H2O_from_python_Eduardo_euh5m4</td></tr>\n",
       "<tr><td>H2O cluster total nodes:</td>\n",
       "<td>1</td></tr>\n",
       "<tr><td>H2O cluster free memory:</td>\n",
       "<td>6.939 Gb</td></tr>\n",
       "<tr><td>H2O cluster total cores:</td>\n",
       "<td>4</td></tr>\n",
       "<tr><td>H2O cluster allowed cores:</td>\n",
       "<td>3</td></tr>\n",
       "<tr><td>H2O cluster status:</td>\n",
       "<td>locked, healthy</td></tr>\n",
       "<tr><td>H2O connection url:</td>\n",
       "<td>http://localhost:54321</td></tr>\n",
       "<tr><td>H2O connection proxy:</td>\n",
       "<td>{'http': None, 'https': None}</td></tr>\n",
       "<tr><td>H2O internal security:</td>\n",
       "<td>False</td></tr>\n",
       "<tr><td>H2O API Extensions:</td>\n",
       "<td>Amazon S3, Algos, AutoML, Core V3, TargetEncoder, Core V4</td></tr>\n",
       "<tr><td>Python version:</td>\n",
       "<td>3.7.4 final</td></tr></table></div>"
      ],
      "text/plain": [
       "--------------------------  ---------------------------------------------------------\n",
       "H2O cluster uptime:         22 mins 56 secs\n",
       "H2O cluster timezone:       Europe/Paris\n",
       "H2O data parsing timezone:  UTC\n",
       "H2O cluster version:        3.28.0.3\n",
       "H2O cluster version age:    1 month and 7 days\n",
       "H2O cluster name:           H2O_from_python_Eduardo_euh5m4\n",
       "H2O cluster total nodes:    1\n",
       "H2O cluster free memory:    6.939 Gb\n",
       "H2O cluster total cores:    4\n",
       "H2O cluster allowed cores:  3\n",
       "H2O cluster status:         locked, healthy\n",
       "H2O connection url:         http://localhost:54321\n",
       "H2O connection proxy:       {'http': None, 'https': None}\n",
       "H2O internal security:      False\n",
       "H2O API Extensions:         Amazon S3, Algos, AutoML, Core V3, TargetEncoder, Core V4\n",
       "Python version:             3.7.4 final\n",
       "--------------------------  ---------------------------------------------------------"
      ]
     },
     "metadata": {},
     "output_type": "display_data"
    }
   ],
   "source": [
    "h2o.init(\n",
    "    nthreads=3)"
   ]
  },
  {
   "cell_type": "code",
   "execution_count": 18,
   "metadata": {
    "colab": {
     "base_uri": "https://localhost:8080/",
     "height": 34
    },
    "colab_type": "code",
    "id": "Bgt-vnECmD8s",
    "outputId": "f10d60aa-de29-4b07-baeb-d7dd0f392edd"
   },
   "outputs": [
    {
     "name": "stdout",
     "output_type": "stream",
     "text": [
      "Parse progress: |█████████████████████████████████████████████████████████| 100%\n"
     ]
    }
   ],
   "source": [
    "dfh2o = h2o.H2OFrame(df_forML)"
   ]
  },
  {
   "cell_type": "code",
   "execution_count": 19,
   "metadata": {
    "colab": {},
    "colab_type": "code",
    "id": "bbUAa215mD81"
   },
   "outputs": [],
   "source": [
    "train, test = dfh2o.split_frame(ratios=[0.8])"
   ]
  },
  {
   "cell_type": "code",
   "execution_count": 20,
   "metadata": {
    "colab": {
     "base_uri": "https://localhost:8080/",
     "height": 34
    },
    "colab_type": "code",
    "id": "6pW6NP_fmD9D",
    "outputId": "03fa9f74-2768-4a59-ee42-77191d78f5d4"
   },
   "outputs": [
    {
     "name": "stdout",
     "output_type": "stream",
     "text": [
      "AutoML progress: |█\n",
      "22:47:57.614: AutoML: XGBoost is not available; skipping it.\n",
      "\n",
      "███████Failed polling AutoML progress log: [WinError 32] The process cannot access the file because it is being used by another process: 'C:\\\\Users\\\\Eduardo\\\\AppData\\\\Local\\\\Temp\\\\tmp_v0u8un4.csv'\n",
      "██Failed polling AutoML progress log: [WinError 32] The process cannot access the file because it is being used by another process: 'C:\\\\Users\\\\Eduardo\\\\AppData\\\\Local\\\\Temp\\\\tmpdkj50bd0.csv'\n",
      "█ (cancelled)\n"
     ]
    },
    {
     "ename": "H2OJobCancelled",
     "evalue": "Job<$03017f00000132d4ffffffff$_ac43cd321a2a51b61521c398b63140d2> was cancelled by the user.",
     "output_type": "error",
     "traceback": [
      "\u001b[1;31m---------------------------------------------------------------------------\u001b[0m",
      "\u001b[1;31mH2OJobCancelled\u001b[0m                           Traceback (most recent call last)",
      "\u001b[1;32m<ipython-input-20-f612fcaf2e63>\u001b[0m in \u001b[0;36m<module>\u001b[1;34m\u001b[0m\n\u001b[0;32m      1\u001b[0m \u001b[0maml\u001b[0m \u001b[1;33m=\u001b[0m \u001b[0mH2OAutoML\u001b[0m\u001b[1;33m(\u001b[0m\u001b[0mmax_models\u001b[0m\u001b[1;33m=\u001b[0m\u001b[1;36m20\u001b[0m\u001b[1;33m)\u001b[0m\u001b[1;33m\u001b[0m\u001b[1;33m\u001b[0m\u001b[0m\n\u001b[1;32m----> 2\u001b[1;33m \u001b[0maml\u001b[0m\u001b[1;33m.\u001b[0m\u001b[0mtrain\u001b[0m\u001b[1;33m(\u001b[0m\u001b[0my\u001b[0m\u001b[1;33m=\u001b[0m \u001b[1;34m'y'\u001b[0m\u001b[1;33m,\u001b[0m \u001b[0mtraining_frame\u001b[0m\u001b[1;33m=\u001b[0m\u001b[0mtrain\u001b[0m\u001b[1;33m,\u001b[0m \u001b[0mleaderboard_frame\u001b[0m\u001b[1;33m=\u001b[0m\u001b[0mtest\u001b[0m\u001b[1;33m)\u001b[0m\u001b[1;33m\u001b[0m\u001b[1;33m\u001b[0m\u001b[0m\n\u001b[0m",
      "\u001b[1;32m~\\Anaconda3\\lib\\site-packages\\h2o\\automl\\autoh2o.py\u001b[0m in \u001b[0;36mtrain\u001b[1;34m(self, x, y, training_frame, fold_column, weights_column, validation_frame, leaderboard_frame, blending_frame)\u001b[0m\n\u001b[0;32m    485\u001b[0m         \u001b[0mpoll_updates\u001b[0m \u001b[1;33m=\u001b[0m \u001b[0mft\u001b[0m\u001b[1;33m.\u001b[0m\u001b[0mpartial\u001b[0m\u001b[1;33m(\u001b[0m\u001b[0mself\u001b[0m\u001b[1;33m.\u001b[0m\u001b[0m_poll_training_updates\u001b[0m\u001b[1;33m,\u001b[0m \u001b[0mverbosity\u001b[0m\u001b[1;33m=\u001b[0m\u001b[0mself\u001b[0m\u001b[1;33m.\u001b[0m\u001b[0m_verbosity\u001b[0m\u001b[1;33m,\u001b[0m \u001b[0mstate\u001b[0m\u001b[1;33m=\u001b[0m\u001b[1;33m{\u001b[0m\u001b[1;33m}\u001b[0m\u001b[1;33m)\u001b[0m\u001b[1;33m\u001b[0m\u001b[1;33m\u001b[0m\u001b[0m\n\u001b[0;32m    486\u001b[0m         \u001b[1;32mtry\u001b[0m\u001b[1;33m:\u001b[0m\u001b[1;33m\u001b[0m\u001b[1;33m\u001b[0m\u001b[0m\n\u001b[1;32m--> 487\u001b[1;33m             \u001b[0mself\u001b[0m\u001b[1;33m.\u001b[0m\u001b[0m_job\u001b[0m\u001b[1;33m.\u001b[0m\u001b[0mpoll\u001b[0m\u001b[1;33m(\u001b[0m\u001b[0mpoll_updates\u001b[0m\u001b[1;33m=\u001b[0m\u001b[0mpoll_updates\u001b[0m\u001b[1;33m)\u001b[0m\u001b[1;33m\u001b[0m\u001b[1;33m\u001b[0m\u001b[0m\n\u001b[0m\u001b[0;32m    488\u001b[0m         \u001b[1;32mfinally\u001b[0m\u001b[1;33m:\u001b[0m\u001b[1;33m\u001b[0m\u001b[1;33m\u001b[0m\u001b[0m\n\u001b[0;32m    489\u001b[0m             \u001b[0mpoll_updates\u001b[0m\u001b[1;33m(\u001b[0m\u001b[0mself\u001b[0m\u001b[1;33m.\u001b[0m\u001b[0m_job\u001b[0m\u001b[1;33m,\u001b[0m \u001b[1;36m1\u001b[0m\u001b[1;33m)\u001b[0m\u001b[1;33m\u001b[0m\u001b[1;33m\u001b[0m\u001b[0m\n",
      "\u001b[1;32m~\\Anaconda3\\lib\\site-packages\\h2o\\job.py\u001b[0m in \u001b[0;36mpoll\u001b[1;34m(self, poll_updates)\u001b[0m\n\u001b[0;32m     72\u001b[0m         \u001b[1;31m# check if failed... and politely print relevant message\u001b[0m\u001b[1;33m\u001b[0m\u001b[1;33m\u001b[0m\u001b[1;33m\u001b[0m\u001b[0m\n\u001b[0;32m     73\u001b[0m         \u001b[1;32mif\u001b[0m \u001b[0mself\u001b[0m\u001b[1;33m.\u001b[0m\u001b[0mstatus\u001b[0m \u001b[1;33m==\u001b[0m \u001b[1;34m\"CANCELLED\"\u001b[0m\u001b[1;33m:\u001b[0m\u001b[1;33m\u001b[0m\u001b[1;33m\u001b[0m\u001b[0m\n\u001b[1;32m---> 74\u001b[1;33m             \u001b[1;32mraise\u001b[0m \u001b[0mH2OJobCancelled\u001b[0m\u001b[1;33m(\u001b[0m\u001b[1;34m\"Job<%s> was cancelled by the user.\"\u001b[0m \u001b[1;33m%\u001b[0m \u001b[0mself\u001b[0m\u001b[1;33m.\u001b[0m\u001b[0mjob_key\u001b[0m\u001b[1;33m)\u001b[0m\u001b[1;33m\u001b[0m\u001b[1;33m\u001b[0m\u001b[0m\n\u001b[0m\u001b[0;32m     75\u001b[0m         \u001b[1;32mif\u001b[0m \u001b[0mself\u001b[0m\u001b[1;33m.\u001b[0m\u001b[0mstatus\u001b[0m \u001b[1;33m==\u001b[0m \u001b[1;34m\"FAILED\"\u001b[0m\u001b[1;33m:\u001b[0m\u001b[1;33m\u001b[0m\u001b[1;33m\u001b[0m\u001b[0m\n\u001b[0;32m     76\u001b[0m             \u001b[1;32mif\u001b[0m \u001b[1;33m(\u001b[0m\u001b[0misinstance\u001b[0m\u001b[1;33m(\u001b[0m\u001b[0mself\u001b[0m\u001b[1;33m.\u001b[0m\u001b[0mjob\u001b[0m\u001b[1;33m,\u001b[0m \u001b[0mdict\u001b[0m\u001b[1;33m)\u001b[0m\u001b[1;33m)\u001b[0m \u001b[1;32mand\u001b[0m \u001b[1;33m(\u001b[0m\u001b[1;34m\"stacktrace\"\u001b[0m \u001b[1;32min\u001b[0m \u001b[0mlist\u001b[0m\u001b[1;33m(\u001b[0m\u001b[0mself\u001b[0m\u001b[1;33m.\u001b[0m\u001b[0mjob\u001b[0m\u001b[1;33m)\u001b[0m\u001b[1;33m)\u001b[0m\u001b[1;33m:\u001b[0m\u001b[1;33m\u001b[0m\u001b[1;33m\u001b[0m\u001b[0m\n",
      "\u001b[1;31mH2OJobCancelled\u001b[0m: Job<$03017f00000132d4ffffffff$_ac43cd321a2a51b61521c398b63140d2> was cancelled by the user."
     ]
    }
   ],
   "source": [
    "aml = H2OAutoML(max_models=20)\n",
    "aml.train(y= 'y', training_frame=train, leaderboard_frame=test)"
   ]
  },
  {
   "cell_type": "code",
   "execution_count": 0,
   "metadata": {
    "colab": {
     "base_uri": "https://localhost:8080/",
     "height": 250
    },
    "colab_type": "code",
    "id": "-_NPcOE5mD9K",
    "outputId": "6ba7cd71-1672-48a5-c14f-0df59e9f8f8f"
   },
   "outputs": [
    {
     "data": {
      "text/html": [
       "<table>\n",
       "<thead>\n",
       "<tr><th>model_id                                           </th><th style=\"text-align: right;\">  mean_residual_deviance</th><th style=\"text-align: right;\">    rmse</th><th style=\"text-align: right;\">     mse</th><th style=\"text-align: right;\">     mae</th><th style=\"text-align: right;\">    rmsle</th></tr>\n",
       "</thead>\n",
       "<tbody>\n",
       "<tr><td>StackedEnsemble_BestOfFamily_AutoML_20200310_133143</td><td style=\"text-align: right;\">                0.301318</td><td style=\"text-align: right;\">0.548924</td><td style=\"text-align: right;\">0.301318</td><td style=\"text-align: right;\">0.336726</td><td style=\"text-align: right;\">0.0208681</td></tr>\n",
       "<tr><td>GBM_2_AutoML_20200310_133143                       </td><td style=\"text-align: right;\">                0.30327 </td><td style=\"text-align: right;\">0.5507  </td><td style=\"text-align: right;\">0.30327 </td><td style=\"text-align: right;\">0.338034</td><td style=\"text-align: right;\">0.0206853</td></tr>\n",
       "<tr><td>GBM_grid__1_AutoML_20200310_133143_model_1         </td><td style=\"text-align: right;\">                0.304954</td><td style=\"text-align: right;\">0.552227</td><td style=\"text-align: right;\">0.304954</td><td style=\"text-align: right;\">0.334389</td><td style=\"text-align: right;\">0.0220337</td></tr>\n",
       "<tr><td>XGBoost_grid__1_AutoML_20200310_133143_model_3     </td><td style=\"text-align: right;\">                0.30576 </td><td style=\"text-align: right;\">0.552956</td><td style=\"text-align: right;\">0.30576 </td><td style=\"text-align: right;\">0.333477</td><td style=\"text-align: right;\">0.0210758</td></tr>\n",
       "<tr><td>GBM_3_AutoML_20200310_133143                       </td><td style=\"text-align: right;\">                0.305766</td><td style=\"text-align: right;\">0.552961</td><td style=\"text-align: right;\">0.305766</td><td style=\"text-align: right;\">0.33999 </td><td style=\"text-align: right;\">0.0204518</td></tr>\n",
       "<tr><td>XGBoost_2_AutoML_20200310_133143                   </td><td style=\"text-align: right;\">                0.306345</td><td style=\"text-align: right;\">0.553485</td><td style=\"text-align: right;\">0.306345</td><td style=\"text-align: right;\">0.335647</td><td style=\"text-align: right;\">0.0204553</td></tr>\n",
       "<tr><td>XGBoost_1_AutoML_20200310_133143                   </td><td style=\"text-align: right;\">                0.306851</td><td style=\"text-align: right;\">0.553942</td><td style=\"text-align: right;\">0.306851</td><td style=\"text-align: right;\">0.338911</td><td style=\"text-align: right;\">0.0205816</td></tr>\n",
       "<tr><td>GBM_4_AutoML_20200310_133143                       </td><td style=\"text-align: right;\">                0.307008</td><td style=\"text-align: right;\">0.554083</td><td style=\"text-align: right;\">0.307008</td><td style=\"text-align: right;\">0.338656</td><td style=\"text-align: right;\">0.0201676</td></tr>\n",
       "<tr><td>StackedEnsemble_AllModels_AutoML_20200310_133143   </td><td style=\"text-align: right;\">                0.307648</td><td style=\"text-align: right;\">0.55466 </td><td style=\"text-align: right;\">0.307648</td><td style=\"text-align: right;\">0.343002</td><td style=\"text-align: right;\">0.0211196</td></tr>\n",
       "<tr><td>GBM_1_AutoML_20200310_133143                       </td><td style=\"text-align: right;\">                0.310236</td><td style=\"text-align: right;\">0.556988</td><td style=\"text-align: right;\">0.310236</td><td style=\"text-align: right;\">0.334538</td><td style=\"text-align: right;\">0.0211219</td></tr>\n",
       "</tbody>\n",
       "</table>"
      ]
     },
     "metadata": {
      "tags": []
     },
     "output_type": "display_data"
    },
    {
     "data": {
      "text/plain": []
     },
     "execution_count": 25,
     "metadata": {
      "tags": []
     },
     "output_type": "execute_result"
    }
   ],
   "source": [
    "aml.leaderboard"
   ]
  },
  {
   "cell_type": "code",
   "execution_count": 0,
   "metadata": {
    "colab": {
     "base_uri": "https://localhost:8080/",
     "height": 250
    },
    "colab_type": "code",
    "id": "AUPL_AaZmD9P",
    "outputId": "e01ab4d1-1e26-490c-9762-2c867794f25a"
   },
   "outputs": [
    {
     "data": {
      "text/html": [
       "<table>\n",
       "<thead>\n",
       "<tr><th>timestamp   </th><th>level  </th><th>stage     </th><th>message                                                                                                                                       </th><th>name  </th><th>value  </th></tr>\n",
       "</thead>\n",
       "<tbody>\n",
       "<tr><td>13:31:43.823</td><td>Info   </td><td>Workflow  </td><td>Project: AutoML_20200310_133143823                                                                                                            </td><td>      </td><td>       </td></tr>\n",
       "<tr><td>13:31:43.824</td><td>Info   </td><td>Validation</td><td>Setting stopping tolerance adaptively based on the training frame: 0.014476040267536081                                                       </td><td>      </td><td>       </td></tr>\n",
       "<tr><td>13:31:43.824</td><td>Info   </td><td>Validation</td><td>Build control seed: -1 (random)                                                                                                               </td><td>      </td><td>       </td></tr>\n",
       "<tr><td>13:31:43.824</td><td>Info   </td><td>DataImport</td><td>training frame: Frame key: automl_training_py_3_sid_b261    cols: 251    rows: 4772  chunks: 4    size: 8696048  checksum: 2209500737200144964</td><td>      </td><td>       </td></tr>\n",
       "<tr><td>13:31:43.824</td><td>Info   </td><td>DataImport</td><td>validation frame: NULL                                                                                                                        </td><td>      </td><td>       </td></tr>\n",
       "<tr><td>13:31:43.825</td><td>Info   </td><td>DataImport</td><td>leaderboard frame: Frame key: py_4_sid_b261    cols: 251    rows: 1203  chunks: 4    size: 2243296  checksum: -6069475821277226518            </td><td>      </td><td>       </td></tr>\n",
       "<tr><td>13:31:43.825</td><td>Info   </td><td>DataImport</td><td>blending frame: NULL                                                                                                                          </td><td>      </td><td>       </td></tr>\n",
       "<tr><td>13:31:43.825</td><td>Info   </td><td>DataImport</td><td>response column: y                                                                                                                            </td><td>      </td><td>       </td></tr>\n",
       "<tr><td>13:31:43.825</td><td>Info   </td><td>DataImport</td><td>fold column: null                                                                                                                             </td><td>      </td><td>       </td></tr>\n",
       "<tr><td>13:31:43.825</td><td>Info   </td><td>DataImport</td><td>weights column: null                                                                                                                          </td><td>      </td><td>       </td></tr>\n",
       "</tbody>\n",
       "</table>"
      ]
     },
     "metadata": {
      "tags": []
     },
     "output_type": "display_data"
    },
    {
     "data": {
      "text/plain": []
     },
     "execution_count": 26,
     "metadata": {
      "tags": []
     },
     "output_type": "execute_result"
    }
   ],
   "source": [
    "aml.event_log"
   ]
  },
  {
   "cell_type": "code",
   "execution_count": 0,
   "metadata": {
    "colab": {},
    "colab_type": "code",
    "id": "YQ3fmf15mD9V"
   },
   "outputs": [],
   "source": [
    "os.getcwd()\n",
    "#model_path = h2o.save_model(model=aml.leader, path=\"./h2o-model\")\n",
    "model2 = h2o.get_model(aml.leaderboard.as_data_frame()['model_id'][2])\n",
    "model3 = h2o.get_model(aml.leaderboard.as_data_frame()['model_id'][3])\n",
    "model4 = h2o.get_model(aml.leaderboard.as_data_frame()['model_id'][4])"
   ]
  },
  {
   "cell_type": "code",
   "execution_count": 0,
   "metadata": {
    "colab": {},
    "colab_type": "code",
    "id": "SfM_5mkf-p3o"
   },
   "outputs": [],
   "source": [
    "model_path = h2o.save_model(model=model4, path=\"./h2o-model\")\n",
    "# model_path = h2o.save_model(model=model2, path=\"./h2o-model\")\n",
    "# model_path = h2o.save_model(model=model3, path=\"./h2o-model\")"
   ]
  },
  {
   "cell_type": "code",
   "execution_count": 0,
   "metadata": {
    "colab": {},
    "colab_type": "code",
    "id": "9fUY7oIumD9d"
   },
   "outputs": [],
   "source": [
    "h2o.shutdown()"
   ]
  }
 ],
 "metadata": {
  "colab": {
   "name": "02-01 testingSupervisedLearning",
   "provenance": []
  },
  "file_extension": ".py",
  "kernelspec": {
   "display_name": "Python 3",
   "language": "python",
   "name": "python3"
  },
  "language_info": {
   "codemirror_mode": {
    "name": "ipython",
    "version": 3
   },
   "file_extension": ".py",
   "mimetype": "text/x-python",
   "name": "python",
   "nbconvert_exporter": "python",
   "pygments_lexer": "ipython3",
   "version": "3.7.4"
  },
  "mimetype": "text/x-python",
  "name": "python",
  "npconvert_exporter": "python",
  "pygments_lexer": "ipython3",
  "version": 3
 },
 "nbformat": 4,
 "nbformat_minor": 1
}
