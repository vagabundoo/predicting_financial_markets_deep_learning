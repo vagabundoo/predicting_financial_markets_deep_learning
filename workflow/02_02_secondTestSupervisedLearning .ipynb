{
 "cells": [
  {
   "cell_type": "code",
   "execution_count": null,
   "metadata": {
    "colab": {
     "base_uri": "https://localhost:8080/",
     "height": 34
    },
    "colab_type": "code",
    "id": "6PAe1yaBmGbO",
    "outputId": "b1a94a03-d811-4786-88b9-3e78cea58bf4"
   },
   "outputs": [
    {
     "name": "stdout",
     "output_type": "stream",
     "text": [
      "Drive already mounted at /content/gdrive; to attempt to forcibly remount, call drive.mount(\"/content/gdrive\", force_remount=True).\n"
     ]
    }
   ],
   "source": [
    "from google.colab import drive\n",
    "drive.mount('/content/gdrive')                                                                                                                                                                                        "
   ]
  },
  {
   "cell_type": "code",
   "execution_count": null,
   "metadata": {
    "colab": {},
    "colab_type": "code",
    "id": "iNvBT27Xmhkv"
   },
   "outputs": [],
   "source": [
    "!apt-get install openjdk-8-jdk -qq > /dev/null\n",
    "!pip install h2o -qq"
   ]
  },
  {
   "cell_type": "code",
   "execution_count": null,
   "metadata": {
    "colab": {
     "base_uri": "https://localhost:8080/",
     "height": 17
    },
    "colab_type": "code",
    "id": "UyZ_wk1knfBd",
    "outputId": "87e41ac8-1909-43a9-d88a-5afbf230cac0"
   },
   "outputs": [
    {
     "name": "stdout",
     "output_type": "stream",
     "text": [
      "\u001b[?25h"
     ]
    }
   ],
   "source": [
    "!npm install -g localtunnel -qq > /dev/null\n",
    "get_ipython().system_raw('lt --port 54321 >> url.txt 2>&1 &')\n",
    "!cat url.txt"
   ]
  },
  {
   "cell_type": "code",
   "execution_count": 1,
   "metadata": {
    "colab": {
     "base_uri": "https://localhost:8080/",
     "height": 51
    },
    "colab_type": "code",
    "id": "rTbpFsZQnGgW",
    "outputId": "5f9cad30-ba91-4316-8c6f-36244d8f2a5d"
   },
   "outputs": [
    {
     "name": "stdout",
     "output_type": "stream",
     "text": [
      "/home/edu/Documents/1-projects-ironhack/1-final-project/1-predicting-markets-DL/workflow\n"
     ]
    },
    {
     "ename": "FileNotFoundError",
     "evalue": "[Errno 2] No such file or directory: 'gdrive/My Drive/financial-predictions'",
     "output_type": "error",
     "traceback": [
      "\u001b[0;31m---------------------------------------------------------------------------\u001b[0m",
      "\u001b[0;31mFileNotFoundError\u001b[0m                         Traceback (most recent call last)",
      "\u001b[0;32m<ipython-input-1-824df7482bc5>\u001b[0m in \u001b[0;36m<module>\u001b[0;34m\u001b[0m\n\u001b[1;32m      2\u001b[0m \u001b[0;34m\u001b[0m\u001b[0m\n\u001b[1;32m      3\u001b[0m \u001b[0mprint\u001b[0m\u001b[0;34m(\u001b[0m\u001b[0mos\u001b[0m\u001b[0;34m.\u001b[0m\u001b[0mgetcwd\u001b[0m\u001b[0;34m(\u001b[0m\u001b[0;34m)\u001b[0m\u001b[0;34m)\u001b[0m\u001b[0;34m\u001b[0m\u001b[0;34m\u001b[0m\u001b[0m\n\u001b[0;32m----> 4\u001b[0;31m \u001b[0mos\u001b[0m\u001b[0;34m.\u001b[0m\u001b[0mchdir\u001b[0m\u001b[0;34m(\u001b[0m\u001b[0;34m'gdrive/My Drive/financial-predictions'\u001b[0m\u001b[0;34m)\u001b[0m\u001b[0;34m\u001b[0m\u001b[0;34m\u001b[0m\u001b[0m\n\u001b[0m\u001b[1;32m      5\u001b[0m \u001b[0mprint\u001b[0m\u001b[0;34m(\u001b[0m\u001b[0mos\u001b[0m\u001b[0;34m.\u001b[0m\u001b[0mgetcwd\u001b[0m\u001b[0;34m(\u001b[0m\u001b[0;34m)\u001b[0m\u001b[0;34m)\u001b[0m\u001b[0;34m\u001b[0m\u001b[0;34m\u001b[0m\u001b[0m\n",
      "\u001b[0;31mFileNotFoundError\u001b[0m: [Errno 2] No such file or directory: 'gdrive/My Drive/financial-predictions'"
     ]
    }
   ],
   "source": [
    "import os\n",
    "\n",
    "print(os.getcwd())\n",
    "os.chdir('gdrive/My Drive/financial-predictions')\n",
    "print(os.getcwd())"
   ]
  },
  {
   "cell_type": "code",
   "execution_count": 2,
   "metadata": {
    "colab": {},
    "colab_type": "code",
    "id": "7PaHQSJxmD8V"
   },
   "outputs": [
    {
     "name": "stderr",
     "output_type": "stream",
     "text": [
      "Using TensorFlow backend.\n"
     ]
    }
   ],
   "source": [
    "import pandas as pd\n",
    "from timeSeriesToSupervised import series_to_supervised\n",
    "from transformData import minMaxScaleOnTrain\n",
    "import numpy as np\n",
    "import splitSequence as sq\n",
    "import h2o\n",
    "from h2o.automl import H2OAutoML\n",
    "import ta"
   ]
  },
  {
   "cell_type": "code",
   "execution_count": 3,
   "metadata": {
    "colab": {
     "base_uri": "https://localhost:8080/",
     "height": 252
    },
    "colab_type": "code",
    "id": "p16KMSvpmD8d",
    "outputId": "cbc144b6-6152-4ea4-d5c4-b95bbdc3e5b1"
   },
   "outputs": [
    {
     "data": {
      "text/html": [
       "<div>\n",
       "<style scoped>\n",
       "    .dataframe tbody tr th:only-of-type {\n",
       "        vertical-align: middle;\n",
       "    }\n",
       "\n",
       "    .dataframe tbody tr th {\n",
       "        vertical-align: top;\n",
       "    }\n",
       "\n",
       "    .dataframe thead th {\n",
       "        text-align: right;\n",
       "    }\n",
       "</style>\n",
       "<table border=\"1\" class=\"dataframe\">\n",
       "  <thead>\n",
       "    <tr style=\"text-align: right;\">\n",
       "      <th></th>\n",
       "      <th>Open</th>\n",
       "      <th>High</th>\n",
       "      <th>Low</th>\n",
       "      <th>Close</th>\n",
       "      <th>Volume</th>\n",
       "    </tr>\n",
       "    <tr>\n",
       "      <th>Date</th>\n",
       "      <th></th>\n",
       "      <th></th>\n",
       "      <th></th>\n",
       "      <th></th>\n",
       "      <th></th>\n",
       "    </tr>\n",
       "  </thead>\n",
       "  <tbody>\n",
       "    <tr>\n",
       "      <th>1970-01-02</th>\n",
       "      <td>1.5325</td>\n",
       "      <td>1.5783</td>\n",
       "      <td>1.5325</td>\n",
       "      <td>1.5631</td>\n",
       "      <td>13511</td>\n",
       "    </tr>\n",
       "    <tr>\n",
       "      <th>1970-01-05</th>\n",
       "      <td>1.5631</td>\n",
       "      <td>1.5783</td>\n",
       "      <td>1.5403</td>\n",
       "      <td>1.5783</td>\n",
       "      <td>23083</td>\n",
       "    </tr>\n",
       "    <tr>\n",
       "      <th>1970-01-06</th>\n",
       "      <td>1.5783</td>\n",
       "      <td>1.5934</td>\n",
       "      <td>1.5708</td>\n",
       "      <td>1.5708</td>\n",
       "      <td>18360</td>\n",
       "    </tr>\n",
       "    <tr>\n",
       "      <th>1970-01-07</th>\n",
       "      <td>1.5708</td>\n",
       "      <td>1.5783</td>\n",
       "      <td>1.5552</td>\n",
       "      <td>1.5783</td>\n",
       "      <td>10098</td>\n",
       "    </tr>\n",
       "    <tr>\n",
       "      <th>1970-01-08</th>\n",
       "      <td>1.5708</td>\n",
       "      <td>1.5708</td>\n",
       "      <td>1.5552</td>\n",
       "      <td>1.5552</td>\n",
       "      <td>21375</td>\n",
       "    </tr>\n",
       "  </tbody>\n",
       "</table>\n",
       "</div>"
      ],
      "text/plain": [
       "              Open    High     Low   Close  Volume\n",
       "Date                                              \n",
       "1970-01-02  1.5325  1.5783  1.5325  1.5631   13511\n",
       "1970-01-05  1.5631  1.5783  1.5403  1.5783   23083\n",
       "1970-01-06  1.5783  1.5934  1.5708  1.5708   18360\n",
       "1970-01-07  1.5708  1.5783  1.5552  1.5783   10098\n",
       "1970-01-08  1.5708  1.5708  1.5552  1.5552   21375"
      ]
     },
     "metadata": {},
     "output_type": "display_data"
    },
    {
     "name": "stderr",
     "output_type": "stream",
     "text": [
      "/home/edu/.local/lib/python3.7/site-packages/ta/trend.py:543: RuntimeWarning: invalid value encountered in double_scalars\n",
      "  dip[i] = 100 * (self._dip[i]/self._trs[i])\n",
      "/home/edu/.local/lib/python3.7/site-packages/ta/trend.py:547: RuntimeWarning: invalid value encountered in double_scalars\n",
      "  din[i] = 100 * (self._din[i]/self._trs[i])\n"
     ]
    },
    {
     "data": {
      "text/plain": [
       "Index(['Open', 'High', 'Low', 'Close', 'Volume', 'trend_macd',\n",
       "       'trend_macd_signal', 'trend_macd_diff', 'trend_ema_fast',\n",
       "       'trend_ema_slow', 'trend_adx', 'trend_adx_pos', 'trend_adx_neg',\n",
       "       'trend_vortex_ind_pos', 'trend_vortex_ind_neg', 'trend_vortex_ind_diff',\n",
       "       'trend_trix', 'trend_mass_index', 'trend_cci', 'trend_dpo', 'trend_kst',\n",
       "       'trend_kst_sig', 'trend_kst_diff', 'trend_ichimoku_a',\n",
       "       'trend_ichimoku_b', 'trend_visual_ichimoku_a',\n",
       "       'trend_visual_ichimoku_b', 'trend_aroon_up', 'trend_aroon_down',\n",
       "       'trend_aroon_ind', 'trend_psar', 'trend_psar_up', 'trend_psar_down',\n",
       "       'trend_psar_up_indicator', 'trend_psar_down_indicator', 'others_dr',\n",
       "       'others_dlr', 'others_cr'],\n",
       "      dtype='object')"
      ]
     },
     "execution_count": 3,
     "metadata": {},
     "output_type": "execute_result"
    }
   ],
   "source": [
    "symbol = 'aep'\n",
    "stock = pd.read_csv(f'../inputData/stocksLong/{symbol}.us.txt', parse_dates=True).drop(columns='OpenInt')\n",
    "stock.set_index('Date', inplace=True)\n",
    "display(stock.head())\n",
    "stock  = ta.add_trend_ta(stock, high='High', low='Low', close='Close', fillna=True)\n",
    "stock = ta.add_others_ta(stock, close='Close', fillna=True)\n",
    "stock.columns\n",
    "#print(stock.shape)"
   ]
  },
  {
   "cell_type": "code",
   "execution_count": 4,
   "metadata": {
    "colab": {
     "base_uri": "https://localhost:8080/",
     "height": 386
    },
    "colab_type": "code",
    "id": "4vNw5ao4mD8n",
    "outputId": "b2069c8b-15de-4338-813f-fcc8863446e2"
   },
   "outputs": [
    {
     "data": {
      "text/html": [
       "<div>\n",
       "<style scoped>\n",
       "    .dataframe tbody tr th:only-of-type {\n",
       "        vertical-align: middle;\n",
       "    }\n",
       "\n",
       "    .dataframe tbody tr th {\n",
       "        vertical-align: top;\n",
       "    }\n",
       "\n",
       "    .dataframe thead th {\n",
       "        text-align: right;\n",
       "    }\n",
       "</style>\n",
       "<table border=\"1\" class=\"dataframe\">\n",
       "  <thead>\n",
       "    <tr style=\"text-align: right;\">\n",
       "      <th></th>\n",
       "      <th>Close(t-50)</th>\n",
       "      <th>Close(t-49)</th>\n",
       "      <th>Close(t-48)</th>\n",
       "      <th>Close(t-47)</th>\n",
       "      <th>Close(t-46)</th>\n",
       "      <th>Close(t-45)</th>\n",
       "      <th>Close(t-44)</th>\n",
       "      <th>Close(t-43)</th>\n",
       "      <th>Close(t-42)</th>\n",
       "      <th>Close(t-41)</th>\n",
       "      <th>...</th>\n",
       "      <th>others_dr(t-10)</th>\n",
       "      <th>others_dr(t-9)</th>\n",
       "      <th>others_dr(t-8)</th>\n",
       "      <th>others_dr(t-7)</th>\n",
       "      <th>others_dr(t-6)</th>\n",
       "      <th>others_dr(t-5)</th>\n",
       "      <th>others_dr(t-4)</th>\n",
       "      <th>others_dr(t-3)</th>\n",
       "      <th>others_dr(t-2)</th>\n",
       "      <th>others_dr(t-1)</th>\n",
       "    </tr>\n",
       "    <tr>\n",
       "      <th>Date</th>\n",
       "      <th></th>\n",
       "      <th></th>\n",
       "      <th></th>\n",
       "      <th></th>\n",
       "      <th></th>\n",
       "      <th></th>\n",
       "      <th></th>\n",
       "      <th></th>\n",
       "      <th></th>\n",
       "      <th></th>\n",
       "      <th></th>\n",
       "      <th></th>\n",
       "      <th></th>\n",
       "      <th></th>\n",
       "      <th></th>\n",
       "      <th></th>\n",
       "      <th></th>\n",
       "      <th></th>\n",
       "      <th></th>\n",
       "      <th></th>\n",
       "      <th></th>\n",
       "    </tr>\n",
       "  </thead>\n",
       "  <tbody>\n",
       "    <tr>\n",
       "      <th>1970-03-16</th>\n",
       "      <td>1.5631</td>\n",
       "      <td>1.5783</td>\n",
       "      <td>1.5708</td>\n",
       "      <td>1.5783</td>\n",
       "      <td>1.5552</td>\n",
       "      <td>1.5708</td>\n",
       "      <td>1.5552</td>\n",
       "      <td>1.5097</td>\n",
       "      <td>1.5097</td>\n",
       "      <td>1.5019</td>\n",
       "      <td>...</td>\n",
       "      <td>4.449588</td>\n",
       "      <td>-0.960355</td>\n",
       "      <td>0.969667</td>\n",
       "      <td>-1.434376</td>\n",
       "      <td>-2.373368</td>\n",
       "      <td>0.000000</td>\n",
       "      <td>-0.505406</td>\n",
       "      <td>0.000000</td>\n",
       "      <td>0.000000</td>\n",
       "      <td>0.507973</td>\n",
       "    </tr>\n",
       "    <tr>\n",
       "      <th>1970-03-17</th>\n",
       "      <td>1.5783</td>\n",
       "      <td>1.5708</td>\n",
       "      <td>1.5783</td>\n",
       "      <td>1.5552</td>\n",
       "      <td>1.5708</td>\n",
       "      <td>1.5552</td>\n",
       "      <td>1.5097</td>\n",
       "      <td>1.5097</td>\n",
       "      <td>1.5019</td>\n",
       "      <td>1.4942</td>\n",
       "      <td>...</td>\n",
       "      <td>-0.960355</td>\n",
       "      <td>0.969667</td>\n",
       "      <td>-1.434376</td>\n",
       "      <td>-2.373368</td>\n",
       "      <td>0.000000</td>\n",
       "      <td>-0.505406</td>\n",
       "      <td>0.000000</td>\n",
       "      <td>0.000000</td>\n",
       "      <td>0.507973</td>\n",
       "      <td>0.000000</td>\n",
       "    </tr>\n",
       "    <tr>\n",
       "      <th>1970-03-18</th>\n",
       "      <td>1.5708</td>\n",
       "      <td>1.5783</td>\n",
       "      <td>1.5552</td>\n",
       "      <td>1.5708</td>\n",
       "      <td>1.5552</td>\n",
       "      <td>1.5097</td>\n",
       "      <td>1.5097</td>\n",
       "      <td>1.5019</td>\n",
       "      <td>1.4942</td>\n",
       "      <td>1.5248</td>\n",
       "      <td>...</td>\n",
       "      <td>0.969667</td>\n",
       "      <td>-1.434376</td>\n",
       "      <td>-2.373368</td>\n",
       "      <td>0.000000</td>\n",
       "      <td>-0.505406</td>\n",
       "      <td>0.000000</td>\n",
       "      <td>0.000000</td>\n",
       "      <td>0.507973</td>\n",
       "      <td>0.000000</td>\n",
       "      <td>-0.505406</td>\n",
       "    </tr>\n",
       "    <tr>\n",
       "      <th>1970-03-19</th>\n",
       "      <td>1.5783</td>\n",
       "      <td>1.5552</td>\n",
       "      <td>1.5708</td>\n",
       "      <td>1.5552</td>\n",
       "      <td>1.5097</td>\n",
       "      <td>1.5097</td>\n",
       "      <td>1.5019</td>\n",
       "      <td>1.4942</td>\n",
       "      <td>1.5248</td>\n",
       "      <td>1.4942</td>\n",
       "      <td>...</td>\n",
       "      <td>-1.434376</td>\n",
       "      <td>-2.373368</td>\n",
       "      <td>0.000000</td>\n",
       "      <td>-0.505406</td>\n",
       "      <td>0.000000</td>\n",
       "      <td>0.000000</td>\n",
       "      <td>0.507973</td>\n",
       "      <td>0.000000</td>\n",
       "      <td>-0.505406</td>\n",
       "      <td>0.000000</td>\n",
       "    </tr>\n",
       "    <tr>\n",
       "      <th>1970-03-20</th>\n",
       "      <td>1.5552</td>\n",
       "      <td>1.5708</td>\n",
       "      <td>1.5552</td>\n",
       "      <td>1.5097</td>\n",
       "      <td>1.5097</td>\n",
       "      <td>1.5019</td>\n",
       "      <td>1.4942</td>\n",
       "      <td>1.5248</td>\n",
       "      <td>1.4942</td>\n",
       "      <td>1.5097</td>\n",
       "      <td>...</td>\n",
       "      <td>-2.373368</td>\n",
       "      <td>0.000000</td>\n",
       "      <td>-0.505406</td>\n",
       "      <td>0.000000</td>\n",
       "      <td>0.000000</td>\n",
       "      <td>0.507973</td>\n",
       "      <td>0.000000</td>\n",
       "      <td>-0.505406</td>\n",
       "      <td>0.000000</td>\n",
       "      <td>-0.958076</td>\n",
       "    </tr>\n",
       "  </tbody>\n",
       "</table>\n",
       "<p>5 rows × 351 columns</p>\n",
       "</div>"
      ],
      "text/plain": [
       "            Close(t-50)  Close(t-49)  Close(t-48)  Close(t-47)  Close(t-46)  \\\n",
       "Date                                                                          \n",
       "1970-03-16       1.5631       1.5783       1.5708       1.5783       1.5552   \n",
       "1970-03-17       1.5783       1.5708       1.5783       1.5552       1.5708   \n",
       "1970-03-18       1.5708       1.5783       1.5552       1.5708       1.5552   \n",
       "1970-03-19       1.5783       1.5552       1.5708       1.5552       1.5097   \n",
       "1970-03-20       1.5552       1.5708       1.5552       1.5097       1.5097   \n",
       "\n",
       "            Close(t-45)  Close(t-44)  Close(t-43)  Close(t-42)  Close(t-41)  \\\n",
       "Date                                                                          \n",
       "1970-03-16       1.5708       1.5552       1.5097       1.5097       1.5019   \n",
       "1970-03-17       1.5552       1.5097       1.5097       1.5019       1.4942   \n",
       "1970-03-18       1.5097       1.5097       1.5019       1.4942       1.5248   \n",
       "1970-03-19       1.5097       1.5019       1.4942       1.5248       1.4942   \n",
       "1970-03-20       1.5019       1.4942       1.5248       1.4942       1.5097   \n",
       "\n",
       "            ...  others_dr(t-10)  others_dr(t-9)  others_dr(t-8)  \\\n",
       "Date        ...                                                    \n",
       "1970-03-16  ...         4.449588       -0.960355        0.969667   \n",
       "1970-03-17  ...        -0.960355        0.969667       -1.434376   \n",
       "1970-03-18  ...         0.969667       -1.434376       -2.373368   \n",
       "1970-03-19  ...        -1.434376       -2.373368        0.000000   \n",
       "1970-03-20  ...        -2.373368        0.000000       -0.505406   \n",
       "\n",
       "            others_dr(t-7)  others_dr(t-6)  others_dr(t-5)  others_dr(t-4)  \\\n",
       "Date                                                                         \n",
       "1970-03-16       -1.434376       -2.373368        0.000000       -0.505406   \n",
       "1970-03-17       -2.373368        0.000000       -0.505406        0.000000   \n",
       "1970-03-18        0.000000       -0.505406        0.000000        0.000000   \n",
       "1970-03-19       -0.505406        0.000000        0.000000        0.507973   \n",
       "1970-03-20        0.000000        0.000000        0.507973        0.000000   \n",
       "\n",
       "            others_dr(t-3)  others_dr(t-2)  others_dr(t-1)  \n",
       "Date                                                        \n",
       "1970-03-16        0.000000        0.000000        0.507973  \n",
       "1970-03-17        0.000000        0.507973        0.000000  \n",
       "1970-03-18        0.507973        0.000000       -0.505406  \n",
       "1970-03-19        0.000000       -0.505406        0.000000  \n",
       "1970-03-20       -0.505406        0.000000       -0.958076  \n",
       "\n",
       "[5 rows x 351 columns]"
      ]
     },
     "execution_count": 4,
     "metadata": {},
     "output_type": "execute_result"
    }
   ],
   "source": [
    "columns = ['Open', 'High', 'Low', 'Volume', 'trend_macd', 'others_dr']\n",
    "df_forML = series_to_supervised(list(stock['Close']), n_in=50, n_out=1, name_var='Close')\n",
    "df_forML.rename(columns={'Close(t)':'y'}, inplace=True) \n",
    "for col in columns:\n",
    "    df_forML = df_forML.merge(series_to_supervised(list(stock[col]), n_in=50, n_out=0, name_var=col), left_index=True, right_index=True)\n",
    "df_forML = df_forML.set_index(stock.iloc[50:].index)\n",
    "df_forML = df_forML.iloc[:int(len(df_forML) * 0.8)]\n",
    "df_forML.head()"
   ]
  },
  {
   "cell_type": "code",
   "execution_count": 5,
   "metadata": {},
   "outputs": [],
   "source": [
    "# We scale the data based on the training period.\n",
    "df_forML = minMaxScaleOnTrain(df_forML)"
   ]
  },
  {
   "cell_type": "code",
   "execution_count": 15,
   "metadata": {},
   "outputs": [
    {
     "data": {
      "text/html": [
       "<div>\n",
       "<style scoped>\n",
       "    .dataframe tbody tr th:only-of-type {\n",
       "        vertical-align: middle;\n",
       "    }\n",
       "\n",
       "    .dataframe tbody tr th {\n",
       "        vertical-align: top;\n",
       "    }\n",
       "\n",
       "    .dataframe thead th {\n",
       "        text-align: right;\n",
       "    }\n",
       "</style>\n",
       "<table border=\"1\" class=\"dataframe\">\n",
       "  <thead>\n",
       "    <tr style=\"text-align: right;\">\n",
       "      <th></th>\n",
       "      <th>Close(t-50)</th>\n",
       "      <th>Close(t-49)</th>\n",
       "      <th>Close(t-48)</th>\n",
       "      <th>Close(t-47)</th>\n",
       "      <th>Close(t-46)</th>\n",
       "      <th>Close(t-45)</th>\n",
       "      <th>Close(t-44)</th>\n",
       "      <th>Close(t-43)</th>\n",
       "      <th>Close(t-42)</th>\n",
       "      <th>Close(t-41)</th>\n",
       "      <th>...</th>\n",
       "      <th>others_dr(t-10)</th>\n",
       "      <th>others_dr(t-9)</th>\n",
       "      <th>others_dr(t-8)</th>\n",
       "      <th>others_dr(t-7)</th>\n",
       "      <th>others_dr(t-6)</th>\n",
       "      <th>others_dr(t-5)</th>\n",
       "      <th>others_dr(t-4)</th>\n",
       "      <th>others_dr(t-3)</th>\n",
       "      <th>others_dr(t-2)</th>\n",
       "      <th>others_dr(t-1)</th>\n",
       "    </tr>\n",
       "    <tr>\n",
       "      <th>Date</th>\n",
       "      <th></th>\n",
       "      <th></th>\n",
       "      <th></th>\n",
       "      <th></th>\n",
       "      <th></th>\n",
       "      <th></th>\n",
       "      <th></th>\n",
       "      <th></th>\n",
       "      <th></th>\n",
       "      <th></th>\n",
       "      <th></th>\n",
       "      <th></th>\n",
       "      <th></th>\n",
       "      <th></th>\n",
       "      <th></th>\n",
       "      <th></th>\n",
       "      <th></th>\n",
       "      <th></th>\n",
       "      <th></th>\n",
       "      <th></th>\n",
       "      <th></th>\n",
       "    </tr>\n",
       "  </thead>\n",
       "  <tbody>\n",
       "    <tr>\n",
       "      <th>1970-03-16</th>\n",
       "      <td>0.020594</td>\n",
       "      <td>0.021113</td>\n",
       "      <td>0.020857</td>\n",
       "      <td>0.021113</td>\n",
       "      <td>0.020324</td>\n",
       "      <td>0.020857</td>\n",
       "      <td>0.020324</td>\n",
       "      <td>0.018769</td>\n",
       "      <td>0.018769</td>\n",
       "      <td>0.018502</td>\n",
       "      <td>...</td>\n",
       "      <td>0.740725</td>\n",
       "      <td>0.477243</td>\n",
       "      <td>0.571241</td>\n",
       "      <td>0.454157</td>\n",
       "      <td>0.408425</td>\n",
       "      <td>0.524016</td>\n",
       "      <td>0.499401</td>\n",
       "      <td>0.524016</td>\n",
       "      <td>0.524016</td>\n",
       "      <td>0.548756</td>\n",
       "    </tr>\n",
       "    <tr>\n",
       "      <th>1970-03-17</th>\n",
       "      <td>0.021113</td>\n",
       "      <td>0.020857</td>\n",
       "      <td>0.021113</td>\n",
       "      <td>0.020324</td>\n",
       "      <td>0.020857</td>\n",
       "      <td>0.020324</td>\n",
       "      <td>0.018769</td>\n",
       "      <td>0.018769</td>\n",
       "      <td>0.018502</td>\n",
       "      <td>0.018239</td>\n",
       "      <td>...</td>\n",
       "      <td>0.477243</td>\n",
       "      <td>0.571241</td>\n",
       "      <td>0.454157</td>\n",
       "      <td>0.408425</td>\n",
       "      <td>0.524016</td>\n",
       "      <td>0.499401</td>\n",
       "      <td>0.524016</td>\n",
       "      <td>0.524016</td>\n",
       "      <td>0.548756</td>\n",
       "      <td>0.524016</td>\n",
       "    </tr>\n",
       "    <tr>\n",
       "      <th>1970-03-18</th>\n",
       "      <td>0.020857</td>\n",
       "      <td>0.021113</td>\n",
       "      <td>0.020324</td>\n",
       "      <td>0.020857</td>\n",
       "      <td>0.020324</td>\n",
       "      <td>0.018769</td>\n",
       "      <td>0.018769</td>\n",
       "      <td>0.018502</td>\n",
       "      <td>0.018239</td>\n",
       "      <td>0.019285</td>\n",
       "      <td>...</td>\n",
       "      <td>0.571241</td>\n",
       "      <td>0.454157</td>\n",
       "      <td>0.408425</td>\n",
       "      <td>0.524016</td>\n",
       "      <td>0.499401</td>\n",
       "      <td>0.524016</td>\n",
       "      <td>0.524016</td>\n",
       "      <td>0.548756</td>\n",
       "      <td>0.524016</td>\n",
       "      <td>0.499401</td>\n",
       "    </tr>\n",
       "    <tr>\n",
       "      <th>1970-03-19</th>\n",
       "      <td>0.021113</td>\n",
       "      <td>0.020324</td>\n",
       "      <td>0.020857</td>\n",
       "      <td>0.020324</td>\n",
       "      <td>0.018769</td>\n",
       "      <td>0.018769</td>\n",
       "      <td>0.018502</td>\n",
       "      <td>0.018239</td>\n",
       "      <td>0.019285</td>\n",
       "      <td>0.018239</td>\n",
       "      <td>...</td>\n",
       "      <td>0.454157</td>\n",
       "      <td>0.408425</td>\n",
       "      <td>0.524016</td>\n",
       "      <td>0.499401</td>\n",
       "      <td>0.524016</td>\n",
       "      <td>0.524016</td>\n",
       "      <td>0.548756</td>\n",
       "      <td>0.524016</td>\n",
       "      <td>0.499401</td>\n",
       "      <td>0.524016</td>\n",
       "    </tr>\n",
       "    <tr>\n",
       "      <th>1970-03-20</th>\n",
       "      <td>0.020324</td>\n",
       "      <td>0.020857</td>\n",
       "      <td>0.020324</td>\n",
       "      <td>0.018769</td>\n",
       "      <td>0.018769</td>\n",
       "      <td>0.018502</td>\n",
       "      <td>0.018239</td>\n",
       "      <td>0.019285</td>\n",
       "      <td>0.018239</td>\n",
       "      <td>0.018769</td>\n",
       "      <td>...</td>\n",
       "      <td>0.408425</td>\n",
       "      <td>0.524016</td>\n",
       "      <td>0.499401</td>\n",
       "      <td>0.524016</td>\n",
       "      <td>0.524016</td>\n",
       "      <td>0.548756</td>\n",
       "      <td>0.524016</td>\n",
       "      <td>0.499401</td>\n",
       "      <td>0.524016</td>\n",
       "      <td>0.477354</td>\n",
       "    </tr>\n",
       "    <tr>\n",
       "      <th>...</th>\n",
       "      <td>...</td>\n",
       "      <td>...</td>\n",
       "      <td>...</td>\n",
       "      <td>...</td>\n",
       "      <td>...</td>\n",
       "      <td>...</td>\n",
       "      <td>...</td>\n",
       "      <td>...</td>\n",
       "      <td>...</td>\n",
       "      <td>...</td>\n",
       "      <td>...</td>\n",
       "      <td>...</td>\n",
       "      <td>...</td>\n",
       "      <td>...</td>\n",
       "      <td>...</td>\n",
       "      <td>...</td>\n",
       "      <td>...</td>\n",
       "      <td>...</td>\n",
       "      <td>...</td>\n",
       "      <td>...</td>\n",
       "      <td>...</td>\n",
       "    </tr>\n",
       "    <tr>\n",
       "      <th>2008-04-21</th>\n",
       "      <td>1.105447</td>\n",
       "      <td>1.092014</td>\n",
       "      <td>1.099055</td>\n",
       "      <td>1.111018</td>\n",
       "      <td>1.110232</td>\n",
       "      <td>1.088869</td>\n",
       "      <td>1.090408</td>\n",
       "      <td>1.078957</td>\n",
       "      <td>1.068259</td>\n",
       "      <td>1.048160</td>\n",
       "      <td>...</td>\n",
       "      <td>0.518358</td>\n",
       "      <td>0.548761</td>\n",
       "      <td>0.502659</td>\n",
       "      <td>0.592242</td>\n",
       "      <td>0.600996</td>\n",
       "      <td>0.469059</td>\n",
       "      <td>0.544201</td>\n",
       "      <td>0.619575</td>\n",
       "      <td>0.489299</td>\n",
       "      <td>0.554809</td>\n",
       "    </tr>\n",
       "    <tr>\n",
       "      <th>2008-04-22</th>\n",
       "      <td>1.092014</td>\n",
       "      <td>1.099055</td>\n",
       "      <td>1.111018</td>\n",
       "      <td>1.110232</td>\n",
       "      <td>1.088869</td>\n",
       "      <td>1.090408</td>\n",
       "      <td>1.078957</td>\n",
       "      <td>1.068259</td>\n",
       "      <td>1.048160</td>\n",
       "      <td>1.069626</td>\n",
       "      <td>...</td>\n",
       "      <td>0.548761</td>\n",
       "      <td>0.502659</td>\n",
       "      <td>0.592242</td>\n",
       "      <td>0.600996</td>\n",
       "      <td>0.469059</td>\n",
       "      <td>0.544201</td>\n",
       "      <td>0.619575</td>\n",
       "      <td>0.489299</td>\n",
       "      <td>0.554809</td>\n",
       "      <td>0.491271</td>\n",
       "    </tr>\n",
       "    <tr>\n",
       "      <th>2008-04-23</th>\n",
       "      <td>1.099055</td>\n",
       "      <td>1.111018</td>\n",
       "      <td>1.110232</td>\n",
       "      <td>1.088869</td>\n",
       "      <td>1.090408</td>\n",
       "      <td>1.078957</td>\n",
       "      <td>1.068259</td>\n",
       "      <td>1.048160</td>\n",
       "      <td>1.069626</td>\n",
       "      <td>1.083913</td>\n",
       "      <td>...</td>\n",
       "      <td>0.502659</td>\n",
       "      <td>0.592242</td>\n",
       "      <td>0.600996</td>\n",
       "      <td>0.469059</td>\n",
       "      <td>0.544201</td>\n",
       "      <td>0.619575</td>\n",
       "      <td>0.489299</td>\n",
       "      <td>0.554809</td>\n",
       "      <td>0.491271</td>\n",
       "      <td>0.484140</td>\n",
       "    </tr>\n",
       "    <tr>\n",
       "      <th>2008-04-24</th>\n",
       "      <td>1.111018</td>\n",
       "      <td>1.110232</td>\n",
       "      <td>1.088869</td>\n",
       "      <td>1.090408</td>\n",
       "      <td>1.078957</td>\n",
       "      <td>1.068259</td>\n",
       "      <td>1.048160</td>\n",
       "      <td>1.069626</td>\n",
       "      <td>1.083913</td>\n",
       "      <td>1.084665</td>\n",
       "      <td>...</td>\n",
       "      <td>0.592242</td>\n",
       "      <td>0.600996</td>\n",
       "      <td>0.469059</td>\n",
       "      <td>0.544201</td>\n",
       "      <td>0.619575</td>\n",
       "      <td>0.489299</td>\n",
       "      <td>0.554809</td>\n",
       "      <td>0.491271</td>\n",
       "      <td>0.484140</td>\n",
       "      <td>0.599491</td>\n",
       "    </tr>\n",
       "    <tr>\n",
       "      <th>2008-04-25</th>\n",
       "      <td>1.110232</td>\n",
       "      <td>1.088869</td>\n",
       "      <td>1.090408</td>\n",
       "      <td>1.078957</td>\n",
       "      <td>1.068259</td>\n",
       "      <td>1.048160</td>\n",
       "      <td>1.069626</td>\n",
       "      <td>1.083913</td>\n",
       "      <td>1.084665</td>\n",
       "      <td>1.069626</td>\n",
       "      <td>...</td>\n",
       "      <td>0.600996</td>\n",
       "      <td>0.469059</td>\n",
       "      <td>0.544201</td>\n",
       "      <td>0.619575</td>\n",
       "      <td>0.489299</td>\n",
       "      <td>0.554809</td>\n",
       "      <td>0.491271</td>\n",
       "      <td>0.484140</td>\n",
       "      <td>0.599491</td>\n",
       "      <td>0.438115</td>\n",
       "    </tr>\n",
       "  </tbody>\n",
       "</table>\n",
       "<p>9620 rows × 351 columns</p>\n",
       "</div>"
      ],
      "text/plain": [
       "            Close(t-50)  Close(t-49)  Close(t-48)  Close(t-47)  Close(t-46)  \\\n",
       "Date                                                                          \n",
       "1970-03-16     0.020594     0.021113     0.020857     0.021113     0.020324   \n",
       "1970-03-17     0.021113     0.020857     0.021113     0.020324     0.020857   \n",
       "1970-03-18     0.020857     0.021113     0.020324     0.020857     0.020324   \n",
       "1970-03-19     0.021113     0.020324     0.020857     0.020324     0.018769   \n",
       "1970-03-20     0.020324     0.020857     0.020324     0.018769     0.018769   \n",
       "...                 ...          ...          ...          ...          ...   \n",
       "2008-04-21     1.105447     1.092014     1.099055     1.111018     1.110232   \n",
       "2008-04-22     1.092014     1.099055     1.111018     1.110232     1.088869   \n",
       "2008-04-23     1.099055     1.111018     1.110232     1.088869     1.090408   \n",
       "2008-04-24     1.111018     1.110232     1.088869     1.090408     1.078957   \n",
       "2008-04-25     1.110232     1.088869     1.090408     1.078957     1.068259   \n",
       "\n",
       "            Close(t-45)  Close(t-44)  Close(t-43)  Close(t-42)  Close(t-41)  \\\n",
       "Date                                                                          \n",
       "1970-03-16     0.020857     0.020324     0.018769     0.018769     0.018502   \n",
       "1970-03-17     0.020324     0.018769     0.018769     0.018502     0.018239   \n",
       "1970-03-18     0.018769     0.018769     0.018502     0.018239     0.019285   \n",
       "1970-03-19     0.018769     0.018502     0.018239     0.019285     0.018239   \n",
       "1970-03-20     0.018502     0.018239     0.019285     0.018239     0.018769   \n",
       "...                 ...          ...          ...          ...          ...   \n",
       "2008-04-21     1.088869     1.090408     1.078957     1.068259     1.048160   \n",
       "2008-04-22     1.090408     1.078957     1.068259     1.048160     1.069626   \n",
       "2008-04-23     1.078957     1.068259     1.048160     1.069626     1.083913   \n",
       "2008-04-24     1.068259     1.048160     1.069626     1.083913     1.084665   \n",
       "2008-04-25     1.048160     1.069626     1.083913     1.084665     1.069626   \n",
       "\n",
       "            ...  others_dr(t-10)  others_dr(t-9)  others_dr(t-8)  \\\n",
       "Date        ...                                                    \n",
       "1970-03-16  ...         0.740725        0.477243        0.571241   \n",
       "1970-03-17  ...         0.477243        0.571241        0.454157   \n",
       "1970-03-18  ...         0.571241        0.454157        0.408425   \n",
       "1970-03-19  ...         0.454157        0.408425        0.524016   \n",
       "1970-03-20  ...         0.408425        0.524016        0.499401   \n",
       "...         ...              ...             ...             ...   \n",
       "2008-04-21  ...         0.518358        0.548761        0.502659   \n",
       "2008-04-22  ...         0.548761        0.502659        0.592242   \n",
       "2008-04-23  ...         0.502659        0.592242        0.600996   \n",
       "2008-04-24  ...         0.592242        0.600996        0.469059   \n",
       "2008-04-25  ...         0.600996        0.469059        0.544201   \n",
       "\n",
       "            others_dr(t-7)  others_dr(t-6)  others_dr(t-5)  others_dr(t-4)  \\\n",
       "Date                                                                         \n",
       "1970-03-16        0.454157        0.408425        0.524016        0.499401   \n",
       "1970-03-17        0.408425        0.524016        0.499401        0.524016   \n",
       "1970-03-18        0.524016        0.499401        0.524016        0.524016   \n",
       "1970-03-19        0.499401        0.524016        0.524016        0.548756   \n",
       "1970-03-20        0.524016        0.524016        0.548756        0.524016   \n",
       "...                    ...             ...             ...             ...   \n",
       "2008-04-21        0.592242        0.600996        0.469059        0.544201   \n",
       "2008-04-22        0.600996        0.469059        0.544201        0.619575   \n",
       "2008-04-23        0.469059        0.544201        0.619575        0.489299   \n",
       "2008-04-24        0.544201        0.619575        0.489299        0.554809   \n",
       "2008-04-25        0.619575        0.489299        0.554809        0.491271   \n",
       "\n",
       "            others_dr(t-3)  others_dr(t-2)  others_dr(t-1)  \n",
       "Date                                                        \n",
       "1970-03-16        0.524016        0.524016        0.548756  \n",
       "1970-03-17        0.524016        0.548756        0.524016  \n",
       "1970-03-18        0.548756        0.524016        0.499401  \n",
       "1970-03-19        0.524016        0.499401        0.524016  \n",
       "1970-03-20        0.499401        0.524016        0.477354  \n",
       "...                    ...             ...             ...  \n",
       "2008-04-21        0.619575        0.489299        0.554809  \n",
       "2008-04-22        0.489299        0.554809        0.491271  \n",
       "2008-04-23        0.554809        0.491271        0.484140  \n",
       "2008-04-24        0.491271        0.484140        0.599491  \n",
       "2008-04-25        0.484140        0.599491        0.438115  \n",
       "\n",
       "[9620 rows x 351 columns]"
      ]
     },
     "execution_count": 15,
     "metadata": {},
     "output_type": "execute_result"
    }
   ],
   "source": [
    "df_forML"
   ]
  },
  {
   "cell_type": "code",
   "execution_count": 6,
   "metadata": {
    "colab": {
     "base_uri": "https://localhost:8080/",
     "height": 508
    },
    "colab_type": "code",
    "id": "rSAmFbRJnnoH",
    "outputId": "c2489f69-205d-4a5d-e29e-96e1dc68fad7"
   },
   "outputs": [
    {
     "name": "stdout",
     "output_type": "stream",
     "text": [
      "Checking whether there is an H2O instance running at http://localhost:54321 ..... not found.\n",
      "Attempting to start a local H2O server...\n",
      "  Java Version: openjdk version \"11.0.6\" 2020-01-14; OpenJDK Runtime Environment (build 11.0.6+10-post-Ubuntu-1ubuntu119.10.1); OpenJDK 64-Bit Server VM (build 11.0.6+10-post-Ubuntu-1ubuntu119.10.1, mixed mode, sharing)\n",
      "  Starting server from /home/edu/.local/lib/python3.7/site-packages/h2o/backend/bin/h2o.jar\n",
      "  Ice root: /tmp/tmp2nkeysrr\n",
      "  JVM stdout: /tmp/tmp2nkeysrr/h2o_edu_started_from_python.out\n",
      "  JVM stderr: /tmp/tmp2nkeysrr/h2o_edu_started_from_python.err\n",
      "  Server is running at http://127.0.0.1:54321\n",
      "Connecting to H2O server at http://127.0.0.1:54321 ... successful.\n"
     ]
    },
    {
     "data": {
      "text/html": [
       "<div style=\"overflow:auto\"><table style=\"width:50%\"><tr><td>H2O cluster uptime:</td>\n",
       "<td>01 secs</td></tr>\n",
       "<tr><td>H2O cluster timezone:</td>\n",
       "<td>Europe/Paris</td></tr>\n",
       "<tr><td>H2O data parsing timezone:</td>\n",
       "<td>UTC</td></tr>\n",
       "<tr><td>H2O cluster version:</td>\n",
       "<td>3.28.0.3</td></tr>\n",
       "<tr><td>H2O cluster version age:</td>\n",
       "<td>1 month and 7 days </td></tr>\n",
       "<tr><td>H2O cluster name:</td>\n",
       "<td>H2O_from_python_edu_qhhn4o</td></tr>\n",
       "<tr><td>H2O cluster total nodes:</td>\n",
       "<td>1</td></tr>\n",
       "<tr><td>H2O cluster free memory:</td>\n",
       "<td>1.887 Gb</td></tr>\n",
       "<tr><td>H2O cluster total cores:</td>\n",
       "<td>8</td></tr>\n",
       "<tr><td>H2O cluster allowed cores:</td>\n",
       "<td>7</td></tr>\n",
       "<tr><td>H2O cluster status:</td>\n",
       "<td>accepting new members, healthy</td></tr>\n",
       "<tr><td>H2O connection url:</td>\n",
       "<td>http://127.0.0.1:54321</td></tr>\n",
       "<tr><td>H2O connection proxy:</td>\n",
       "<td>{'http': None, 'https': None}</td></tr>\n",
       "<tr><td>H2O internal security:</td>\n",
       "<td>False</td></tr>\n",
       "<tr><td>H2O API Extensions:</td>\n",
       "<td>Amazon S3, XGBoost, Algos, AutoML, Core V3, TargetEncoder, Core V4</td></tr>\n",
       "<tr><td>Python version:</td>\n",
       "<td>3.7.5 candidate</td></tr></table></div>"
      ],
      "text/plain": [
       "--------------------------  ------------------------------------------------------------------\n",
       "H2O cluster uptime:         01 secs\n",
       "H2O cluster timezone:       Europe/Paris\n",
       "H2O data parsing timezone:  UTC\n",
       "H2O cluster version:        3.28.0.3\n",
       "H2O cluster version age:    1 month and 7 days\n",
       "H2O cluster name:           H2O_from_python_edu_qhhn4o\n",
       "H2O cluster total nodes:    1\n",
       "H2O cluster free memory:    1.887 Gb\n",
       "H2O cluster total cores:    8\n",
       "H2O cluster allowed cores:  7\n",
       "H2O cluster status:         accepting new members, healthy\n",
       "H2O connection url:         http://127.0.0.1:54321\n",
       "H2O connection proxy:       {'http': None, 'https': None}\n",
       "H2O internal security:      False\n",
       "H2O API Extensions:         Amazon S3, XGBoost, Algos, AutoML, Core V3, TargetEncoder, Core V4\n",
       "Python version:             3.7.5 candidate\n",
       "--------------------------  ------------------------------------------------------------------"
      ]
     },
     "metadata": {},
     "output_type": "display_data"
    }
   ],
   "source": [
    "h2o.init(\n",
    "    nthreads=7)"
   ]
  },
  {
   "cell_type": "code",
   "execution_count": 7,
   "metadata": {
    "colab": {
     "base_uri": "https://localhost:8080/",
     "height": 34
    },
    "colab_type": "code",
    "id": "Bgt-vnECmD8s",
    "outputId": "f10d60aa-de29-4b07-baeb-d7dd0f392edd"
   },
   "outputs": [
    {
     "name": "stdout",
     "output_type": "stream",
     "text": [
      "Parse progress: |█████████████████████████████████████████████████████████| 100%\n"
     ]
    }
   ],
   "source": [
    "dfh2o = h2o.H2OFrame(df_forML)"
   ]
  },
  {
   "cell_type": "code",
   "execution_count": 8,
   "metadata": {
    "colab": {},
    "colab_type": "code",
    "id": "bbUAa215mD81"
   },
   "outputs": [],
   "source": [
    "train, test = dfh2o.split_frame(ratios=[0.8])"
   ]
  },
  {
   "cell_type": "code",
   "execution_count": 10,
   "metadata": {
    "colab": {
     "base_uri": "https://localhost:8080/",
     "height": 34
    },
    "colab_type": "code",
    "id": "6pW6NP_fmD9D",
    "outputId": "03fa9f74-2768-4a59-ee42-77191d78f5d4"
   },
   "outputs": [
    {
     "name": "stdout",
     "output_type": "stream",
     "text": [
      "AutoML progress: |████████████████████████████████████████████████████████| 100%\n"
     ]
    }
   ],
   "source": [
    "aml = H2OAutoML(max_models=10)\n",
    "aml.train(y= 'y', training_frame=train, leaderboard_frame=test)"
   ]
  },
  {
   "cell_type": "code",
   "execution_count": 11,
   "metadata": {
    "colab": {
     "base_uri": "https://localhost:8080/",
     "height": 250
    },
    "colab_type": "code",
    "id": "-_NPcOE5mD9K",
    "outputId": "6ba7cd71-1672-48a5-c14f-0df59e9f8f8f"
   },
   "outputs": [
    {
     "data": {
      "text/html": [
       "<table>\n",
       "<thead>\n",
       "<tr><th>model_id                                           </th><th style=\"text-align: right;\">  mean_residual_deviance</th><th style=\"text-align: right;\">      rmse</th><th style=\"text-align: right;\">        mse</th><th style=\"text-align: right;\">       mae</th><th style=\"text-align: right;\">     rmsle</th></tr>\n",
       "</thead>\n",
       "<tbody>\n",
       "<tr><td>StackedEnsemble_AllModels_AutoML_20200312_230448   </td><td style=\"text-align: right;\">             6.3965e-05 </td><td style=\"text-align: right;\">0.00799781</td><td style=\"text-align: right;\">6.3965e-05 </td><td style=\"text-align: right;\">0.00417862</td><td style=\"text-align: right;\">0.00446342</td></tr>\n",
       "<tr><td>StackedEnsemble_BestOfFamily_AutoML_20200312_230448</td><td style=\"text-align: right;\">             6.40138e-05</td><td style=\"text-align: right;\">0.00800086</td><td style=\"text-align: right;\">6.40138e-05</td><td style=\"text-align: right;\">0.00417714</td><td style=\"text-align: right;\">0.00446467</td></tr>\n",
       "<tr><td>XGBoost_1_AutoML_20200312_230448                   </td><td style=\"text-align: right;\">             6.46272e-05</td><td style=\"text-align: right;\">0.0080391 </td><td style=\"text-align: right;\">6.46272e-05</td><td style=\"text-align: right;\">0.00419165</td><td style=\"text-align: right;\">0.00448178</td></tr>\n",
       "<tr><td>GBM_2_AutoML_20200312_230448                       </td><td style=\"text-align: right;\">             6.59733e-05</td><td style=\"text-align: right;\">0.00812239</td><td style=\"text-align: right;\">6.59733e-05</td><td style=\"text-align: right;\">0.00418552</td><td style=\"text-align: right;\">0.00455064</td></tr>\n",
       "<tr><td>XGBoost_2_AutoML_20200312_230448                   </td><td style=\"text-align: right;\">             6.61942e-05</td><td style=\"text-align: right;\">0.00813598</td><td style=\"text-align: right;\">6.61942e-05</td><td style=\"text-align: right;\">0.00424157</td><td style=\"text-align: right;\">0.00456338</td></tr>\n",
       "<tr><td>XGBoost_3_AutoML_20200312_230448                   </td><td style=\"text-align: right;\">             6.65727e-05</td><td style=\"text-align: right;\">0.00815921</td><td style=\"text-align: right;\">6.65727e-05</td><td style=\"text-align: right;\">0.00424192</td><td style=\"text-align: right;\">0.00454698</td></tr>\n",
       "<tr><td>GBM_3_AutoML_20200312_230448                       </td><td style=\"text-align: right;\">             6.73418e-05</td><td style=\"text-align: right;\">0.00820621</td><td style=\"text-align: right;\">6.73418e-05</td><td style=\"text-align: right;\">0.00420788</td><td style=\"text-align: right;\">0.00457659</td></tr>\n",
       "<tr><td>GBM_4_AutoML_20200312_230448                       </td><td style=\"text-align: right;\">             7.00897e-05</td><td style=\"text-align: right;\">0.00837196</td><td style=\"text-align: right;\">7.00897e-05</td><td style=\"text-align: right;\">0.00421867</td><td style=\"text-align: right;\">0.00466633</td></tr>\n",
       "<tr><td>DRF_1_AutoML_20200312_230448                       </td><td style=\"text-align: right;\">             7.1045e-05 </td><td style=\"text-align: right;\">0.00842882</td><td style=\"text-align: right;\">7.1045e-05 </td><td style=\"text-align: right;\">0.00414325</td><td style=\"text-align: right;\">0.00470128</td></tr>\n",
       "<tr><td>GBM_1_AutoML_20200312_230448                       </td><td style=\"text-align: right;\">             7.26104e-05</td><td style=\"text-align: right;\">0.00852117</td><td style=\"text-align: right;\">7.26104e-05</td><td style=\"text-align: right;\">0.00423397</td><td style=\"text-align: right;\">0.00477425</td></tr>\n",
       "</tbody>\n",
       "</table>"
      ]
     },
     "metadata": {},
     "output_type": "display_data"
    },
    {
     "data": {
      "text/plain": []
     },
     "execution_count": 11,
     "metadata": {},
     "output_type": "execute_result"
    }
   ],
   "source": [
    "aml.leaderboard"
   ]
  },
  {
   "cell_type": "code",
   "execution_count": 12,
   "metadata": {
    "colab": {
     "base_uri": "https://localhost:8080/",
     "height": 250
    },
    "colab_type": "code",
    "id": "AUPL_AaZmD9P",
    "outputId": "e01ab4d1-1e26-490c-9762-2c867794f25a"
   },
   "outputs": [
    {
     "data": {
      "text/html": [
       "<table>\n",
       "<thead>\n",
       "<tr><th>timestamp   </th><th>level  </th><th>stage     </th><th>message                                                                                                                                          </th><th>name  </th><th>value  </th></tr>\n",
       "</thead>\n",
       "<tbody>\n",
       "<tr><td>23:04:48.476</td><td>Info   </td><td>Workflow  </td><td>Project: AutoML_20200312_230448475                                                                                                               </td><td>      </td><td>       </td></tr>\n",
       "<tr><td>23:04:48.476</td><td>Info   </td><td>Validation</td><td>Setting stopping tolerance adaptively based on the training frame: 0.011451215811497927                                                          </td><td>      </td><td>       </td></tr>\n",
       "<tr><td>23:04:48.476</td><td>Info   </td><td>Validation</td><td>Build control seed: -1 (random)                                                                                                                  </td><td>      </td><td>       </td></tr>\n",
       "<tr><td>23:04:48.477</td><td>Info   </td><td>DataImport</td><td>training frame: Frame key: automl_training_py_3_sid_b0a0    cols: 351    rows: 7626  chunks: 16    size: 17383564  checksum: -4560635162867611764</td><td>      </td><td>       </td></tr>\n",
       "<tr><td>23:04:48.477</td><td>Info   </td><td>DataImport</td><td>validation frame: NULL                                                                                                                           </td><td>      </td><td>       </td></tr>\n",
       "<tr><td>23:04:48.477</td><td>Info   </td><td>DataImport</td><td>leaderboard frame: Frame key: py_4_sid_b0a0    cols: 351    rows: 1994  chunks: 16    size: 5691280  checksum: 2613432320746894096               </td><td>      </td><td>       </td></tr>\n",
       "<tr><td>23:04:48.477</td><td>Info   </td><td>DataImport</td><td>blending frame: NULL                                                                                                                             </td><td>      </td><td>       </td></tr>\n",
       "<tr><td>23:04:48.477</td><td>Info   </td><td>DataImport</td><td>response column: y                                                                                                                               </td><td>      </td><td>       </td></tr>\n",
       "<tr><td>23:04:48.477</td><td>Info   </td><td>DataImport</td><td>fold column: null                                                                                                                                </td><td>      </td><td>       </td></tr>\n",
       "<tr><td>23:04:48.477</td><td>Info   </td><td>DataImport</td><td>weights column: null                                                                                                                             </td><td>      </td><td>       </td></tr>\n",
       "</tbody>\n",
       "</table>"
      ]
     },
     "metadata": {},
     "output_type": "display_data"
    },
    {
     "data": {
      "text/plain": []
     },
     "execution_count": 12,
     "metadata": {},
     "output_type": "execute_result"
    }
   ],
   "source": [
    "aml.event_log"
   ]
  },
  {
   "cell_type": "code",
   "execution_count": 13,
   "metadata": {
    "colab": {},
    "colab_type": "code",
    "id": "YQ3fmf15mD9V"
   },
   "outputs": [],
   "source": [
    "os.getcwd()\n",
    "model_path = h2o.save_model(model=aml.leader, path=\"../modelOutputs/h2oModel\")\n",
    "model2 = h2o.get_model(aml.leaderboard.as_data_frame()['model_id'][2])\n",
    "model3 = h2o.get_model(aml.leaderboard.as_data_frame()['model_id'][3])\n",
    "model4 = h2o.get_model(aml.leaderboard.as_data_frame()['model_id'][4])"
   ]
  },
  {
   "cell_type": "code",
   "execution_count": null,
   "metadata": {
    "colab": {},
    "colab_type": "code",
    "id": "SfM_5mkf-p3o"
   },
   "outputs": [],
   "source": [
    "model_path = h2o.save_model(model=model4, path=\"./h2o-model\")\n",
    "# model_path = h2o.save_model(model=model2, path=\"./h2o-model\")\n",
    "# model_path = h2o.save_model(model=model3, path=\"./h2o-model\")"
   ]
  },
  {
   "cell_type": "code",
   "execution_count": 14,
   "metadata": {
    "colab": {},
    "colab_type": "code",
    "id": "9fUY7oIumD9d"
   },
   "outputs": [
    {
     "name": "stdout",
     "output_type": "stream",
     "text": [
      "Model Details\n",
      "=============\n",
      "H2OStackedEnsembleEstimator :  Stacked Ensemble\n",
      "Model Key:  StackedEnsemble_AllModels_AutoML_20200312_230448\n",
      "\n",
      "No model summary for this model\n",
      "\n",
      "ModelMetricsRegressionGLM: stackedensemble\n",
      "** Reported on train data. **\n",
      "\n",
      "MSE: 6.042900543372696e-06\n",
      "RMSE: 0.00245823118184045\n",
      "MAE: 0.0014764786960559924\n",
      "RMSLE: 0.0014543263026993193\n",
      "R^2: 0.9999544373366437\n",
      "Mean Residual Deviance: 6.042900543372696e-06\n",
      "Null degrees of freedom: 7625\n",
      "Residual degrees of freedom: 7618\n",
      "Null deviance: 1011.4237436786708\n",
      "Residual deviance: 0.04608315954376018\n",
      "AIC: -69979.14271442105\n",
      "\n",
      "ModelMetricsRegressionGLM: stackedensemble\n",
      "** Reported on cross-validation data. **\n",
      "\n",
      "MSE: 6.660291238319852e-05\n",
      "RMSE: 0.008161060738849975\n",
      "MAE: 0.004196302150657545\n",
      "RMSLE: 0.004642578596032392\n",
      "R^2: 0.9994978229322687\n",
      "Mean Residual Deviance: 6.660291238319852e-05\n",
      "Null degrees of freedom: 7625\n",
      "Residual degrees of freedom: 7616\n",
      "Null deviance: 1011.64007091688\n",
      "Residual deviance: 0.5079138098342719\n",
      "AIC: -51673.77842452566\n"
     ]
    },
    {
     "data": {
      "text/plain": []
     },
     "execution_count": 14,
     "metadata": {},
     "output_type": "execute_result"
    }
   ],
   "source": [
    "aml.leader"
   ]
  },
  {
   "cell_type": "code",
   "execution_count": 19,
   "metadata": {},
   "outputs": [
    {
     "name": "stdout",
     "output_type": "stream",
     "text": [
      "stackedensemble prediction progress: |████████████████████████████████████| 100%\n"
     ]
    },
    {
     "data": {
      "text/html": [
       "<table>\n",
       "<thead>\n",
       "<tr><th style=\"text-align: right;\">        y</th><th style=\"text-align: right;\">  predict</th></tr>\n",
       "</thead>\n",
       "<tbody>\n",
       "<tr><td style=\"text-align: right;\">0.0198145</td><td style=\"text-align: right;\">0.0210824</td></tr>\n",
       "<tr><td style=\"text-align: right;\">0.0221558</td><td style=\"text-align: right;\">0.0220753</td></tr>\n",
       "<tr><td style=\"text-align: right;\">0.0234615</td><td style=\"text-align: right;\">0.0219374</td></tr>\n",
       "<tr><td style=\"text-align: right;\">0.0229317</td><td style=\"text-align: right;\">0.023565 </td></tr>\n",
       "<tr><td style=\"text-align: right;\">0.0229317</td><td style=\"text-align: right;\">0.0233798</td></tr>\n",
       "<tr><td style=\"text-align: right;\">0.0205938</td><td style=\"text-align: right;\">0.0209815</td></tr>\n",
       "<tr><td style=\"text-align: right;\">0.0159076</td><td style=\"text-align: right;\">0.0176253</td></tr>\n",
       "<tr><td style=\"text-align: right;\">0.0145951</td><td style=\"text-align: right;\">0.016179 </td></tr>\n",
       "<tr><td style=\"text-align: right;\">0.0130262</td><td style=\"text-align: right;\">0.0143797</td></tr>\n",
       "<tr><td style=\"text-align: right;\">0.0125135</td><td style=\"text-align: right;\">0.0128965</td></tr>\n",
       "</tbody>\n",
       "</table>"
      ]
     },
     "metadata": {},
     "output_type": "display_data"
    },
    {
     "data": {
      "text/plain": []
     },
     "execution_count": 19,
     "metadata": {},
     "output_type": "execute_result"
    }
   ],
   "source": [
    "predictions = aml.leader.predict(test)\n",
    "test['y'].cbind(predictions)"
   ]
  },
  {
   "cell_type": "code",
   "execution_count": 35,
   "metadata": {},
   "outputs": [
    {
     "name": "stdout",
     "output_type": "stream",
     "text": [
      "stackedensemble prediction progress: |████████████████████████████████████| 100%\n"
     ]
    },
    {
     "data": {
      "text/plain": [
       "9620"
      ]
     },
     "execution_count": 35,
     "metadata": {},
     "output_type": "execute_result"
    }
   ],
   "source": [
    "predsTrainTest = aml.leader.predict(dfh2o)\n",
    "predsTrainTest = dfh2o['y'].cbind(predsTrainTest)\n",
    "len(predsTrainTest)"
   ]
  },
  {
   "cell_type": "code",
   "execution_count": 25,
   "metadata": {},
   "outputs": [],
   "source": [
    "frameForMerge = df_forML.reset_index()"
   ]
  },
  {
   "cell_type": "code",
   "execution_count": 28,
   "metadata": {},
   "outputs": [
    {
     "name": "stdout",
     "output_type": "stream",
     "text": [
      "Parse progress: |█████████████████████████████████████████████████████████| 100%\n"
     ]
    }
   ],
   "source": [
    "dates = h2o.H2OFrame(frameForMerge[['Date']])"
   ]
  },
  {
   "cell_type": "code",
   "execution_count": 36,
   "metadata": {},
   "outputs": [
    {
     "data": {
      "text/html": [
       "<table>\n",
       "<thead>\n",
       "<tr><th>Date               </th><th style=\"text-align: right;\">        y</th><th style=\"text-align: right;\">  predict</th></tr>\n",
       "</thead>\n",
       "<tbody>\n",
       "<tr><td>1970-03-16 00:00:00</td><td style=\"text-align: right;\">0.0205938</td><td style=\"text-align: right;\">0.0210896</td></tr>\n",
       "<tr><td>1970-03-17 00:00:00</td><td style=\"text-align: right;\">0.0203238</td><td style=\"text-align: right;\">0.0210645</td></tr>\n",
       "<tr><td>1970-03-18 00:00:00</td><td style=\"text-align: right;\">0.0203238</td><td style=\"text-align: right;\">0.0209201</td></tr>\n",
       "<tr><td>1970-03-19 00:00:00</td><td style=\"text-align: right;\">0.0198145</td><td style=\"text-align: right;\">0.0210824</td></tr>\n",
       "<tr><td>1970-03-20 00:00:00</td><td style=\"text-align: right;\">0.0205938</td><td style=\"text-align: right;\">0.0203792</td></tr>\n",
       "<tr><td>1970-03-23 00:00:00</td><td style=\"text-align: right;\">0.0203238</td><td style=\"text-align: right;\">0.0211514</td></tr>\n",
       "<tr><td>1970-03-24 00:00:00</td><td style=\"text-align: right;\">0.0205938</td><td style=\"text-align: right;\">0.0210556</td></tr>\n",
       "<tr><td>1970-03-25 00:00:00</td><td style=\"text-align: right;\">0.0229317</td><td style=\"text-align: right;\">0.0214319</td></tr>\n",
       "<tr><td>1970-03-26 00:00:00</td><td style=\"text-align: right;\">0.0218926</td><td style=\"text-align: right;\">0.0234676</td></tr>\n",
       "<tr><td>1970-03-30 00:00:00</td><td style=\"text-align: right;\">0.0221558</td><td style=\"text-align: right;\">0.0220616</td></tr>\n",
       "</tbody>\n",
       "</table>"
      ]
     },
     "metadata": {},
     "output_type": "display_data"
    },
    {
     "data": {
      "text/plain": []
     },
     "execution_count": 36,
     "metadata": {},
     "output_type": "execute_result"
    }
   ],
   "source": [
    "results = dates.cbind(predsTrainTest)"
   ]
  },
  {
   "cell_type": "code",
   "execution_count": null,
   "metadata": {},
   "outputs": [],
   "source": []
  }
 ],
 "metadata": {
  "colab": {
   "name": "02-01 testingSupervisedLearning",
   "provenance": []
  },
  "file_extension": ".py",
  "kernelspec": {
   "display_name": "Python 3",
   "language": "python",
   "name": "python3"
  },
  "language_info": {
   "codemirror_mode": {
    "name": "ipython",
    "version": 3
   },
   "file_extension": ".py",
   "mimetype": "text/x-python",
   "name": "python",
   "nbconvert_exporter": "python",
   "pygments_lexer": "ipython3",
   "version": "3.7.5rc1"
  },
  "mimetype": "text/x-python",
  "name": "python",
  "npconvert_exporter": "python",
  "pygments_lexer": "ipython3",
  "version": 3
 },
 "nbformat": 4,
 "nbformat_minor": 4
}
