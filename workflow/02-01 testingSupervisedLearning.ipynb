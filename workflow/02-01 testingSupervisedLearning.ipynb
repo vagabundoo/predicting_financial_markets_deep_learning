{
 "nbformat": 4,
 "nbformat_minor": 2,
 "metadata": {
  "language_info": {
   "name": "python",
   "codemirror_mode": {
    "name": "ipython",
    "version": 3
   },
   "version": "3.7.5-candidate"
  },
  "orig_nbformat": 2,
  "file_extension": ".py",
  "mimetype": "text/x-python",
  "name": "python",
  "npconvert_exporter": "python",
  "pygments_lexer": "ipython3",
  "version": 3,
  "kernelspec": {
   "name": "python37664bitc736265aa96942798be544ff59087e30",
   "display_name": "Python 3.7.6 64-bit"
  }
 },
 "cells": [
  {
   "cell_type": "code",
   "execution_count": 22,
   "metadata": {},
   "outputs": [],
   "source": [
    "import pandas as pd\n",
    "from timeSeriesToSupervised import series_to_supervised\n",
    "import numpy as np\n",
    "import splitSequence as sq\n",
    "import h2o"
   ]
  },
  {
   "cell_type": "code",
   "execution_count": 9,
   "metadata": {},
   "outputs": [
    {
     "data": {
      "text/html": "<div>\n<style scoped>\n    .dataframe tbody tr th:only-of-type {\n        vertical-align: middle;\n    }\n\n    .dataframe tbody tr th {\n        vertical-align: top;\n    }\n\n    .dataframe thead th {\n        text-align: right;\n    }\n</style>\n<table border=\"1\" class=\"dataframe\">\n  <thead>\n    <tr style=\"text-align: right;\">\n      <th></th>\n      <th>Open</th>\n      <th>High</th>\n      <th>Low</th>\n      <th>Close</th>\n      <th>Volume</th>\n    </tr>\n    <tr>\n      <th>Date</th>\n      <th></th>\n      <th></th>\n      <th></th>\n      <th></th>\n      <th></th>\n    </tr>\n  </thead>\n  <tbody>\n    <tr>\n      <th>1988-01-04</th>\n      <td>0.6326</td>\n      <td>0.6326</td>\n      <td>0.6326</td>\n      <td>0.6326</td>\n      <td>40783</td>\n    </tr>\n    <tr>\n      <th>1988-01-05</th>\n      <td>0.6500</td>\n      <td>0.6500</td>\n      <td>0.6500</td>\n      <td>0.6500</td>\n      <td>177705</td>\n    </tr>\n    <tr>\n      <th>1988-01-06</th>\n      <td>0.6500</td>\n      <td>0.6758</td>\n      <td>0.6326</td>\n      <td>0.6758</td>\n      <td>110703</td>\n    </tr>\n    <tr>\n      <th>1988-01-07</th>\n      <td>0.6758</td>\n      <td>0.6931</td>\n      <td>0.6584</td>\n      <td>0.6931</td>\n      <td>91766</td>\n    </tr>\n    <tr>\n      <th>1988-01-08</th>\n      <td>0.7105</td>\n      <td>0.7366</td>\n      <td>0.7105</td>\n      <td>0.7105</td>\n      <td>152938</td>\n    </tr>\n  </tbody>\n</table>\n</div>",
      "text/plain": "              Open    High     Low   Close  Volume\nDate                                              \n1988-01-04  0.6326  0.6326  0.6326  0.6326   40783\n1988-01-05  0.6500  0.6500  0.6500  0.6500  177705\n1988-01-06  0.6500  0.6758  0.6326  0.6758  110703\n1988-01-07  0.6758  0.6931  0.6584  0.6931   91766\n1988-01-08  0.7105  0.7366  0.7105  0.7105  152938"
     },
     "metadata": {},
     "output_type": "display_data"
    },
    {
     "name": "stdout",
     "output_type": "stream",
     "text": "(7519, 5)\n"
    }
   ],
   "source": [
    "symbol = 'cah'\n",
    "stock = pd.read_csv(f'../inputData/stocksMid/{symbol}.us.txt', parse_dates=True).drop(columns='OpenInt')\n",
    "stock.set_index('Date', inplace=True)\n",
    "display(stock.head())\n",
    "print(stock.shape)"
   ]
  },
  {
   "cell_type": "code",
   "execution_count": 35,
   "metadata": {},
   "outputs": [
    {
     "data": {
      "text/html": "<div>\n<style scoped>\n    .dataframe tbody tr th:only-of-type {\n        vertical-align: middle;\n    }\n\n    .dataframe tbody tr th {\n        vertical-align: top;\n    }\n\n    .dataframe thead th {\n        text-align: right;\n    }\n</style>\n<table border=\"1\" class=\"dataframe\">\n  <thead>\n    <tr style=\"text-align: right;\">\n      <th></th>\n      <th>Close(t-50)</th>\n      <th>Close(t-49)</th>\n      <th>Close(t-48)</th>\n      <th>Close(t-47)</th>\n      <th>Close(t-46)</th>\n      <th>Close(t-45)</th>\n      <th>Close(t-44)</th>\n      <th>Close(t-43)</th>\n      <th>Close(t-42)</th>\n      <th>Close(t-41)</th>\n      <th>...</th>\n      <th>Volume(t-10)</th>\n      <th>Volume(t-9)</th>\n      <th>Volume(t-8)</th>\n      <th>Volume(t-7)</th>\n      <th>Volume(t-6)</th>\n      <th>Volume(t-5)</th>\n      <th>Volume(t-4)</th>\n      <th>Volume(t-3)</th>\n      <th>Volume(t-2)</th>\n      <th>Volume(t-1)</th>\n    </tr>\n    <tr>\n      <th>Date</th>\n      <th></th>\n      <th></th>\n      <th></th>\n      <th></th>\n      <th></th>\n      <th></th>\n      <th></th>\n      <th></th>\n      <th></th>\n      <th></th>\n      <th></th>\n      <th></th>\n      <th></th>\n      <th></th>\n      <th></th>\n      <th></th>\n      <th></th>\n      <th></th>\n      <th></th>\n      <th></th>\n      <th></th>\n    </tr>\n  </thead>\n  <tbody>\n    <tr>\n      <th>1988-03-15</th>\n      <td>0.6326</td>\n      <td>0.6500</td>\n      <td>0.6758</td>\n      <td>0.6931</td>\n      <td>0.7105</td>\n      <td>0.7539</td>\n      <td>0.7539</td>\n      <td>0.7366</td>\n      <td>0.7366</td>\n      <td>0.7539</td>\n      <td>...</td>\n      <td>512721.0</td>\n      <td>4369.0</td>\n      <td>907461.0</td>\n      <td>27676.0</td>\n      <td>17477.0</td>\n      <td>184986.0</td>\n      <td>260728.0</td>\n      <td>10199.0</td>\n      <td>21847.0</td>\n      <td>1609540.0</td>\n    </tr>\n    <tr>\n      <th>1988-03-16</th>\n      <td>0.6500</td>\n      <td>0.6758</td>\n      <td>0.6931</td>\n      <td>0.7105</td>\n      <td>0.7539</td>\n      <td>0.7539</td>\n      <td>0.7366</td>\n      <td>0.7366</td>\n      <td>0.7539</td>\n      <td>0.7366</td>\n      <td>...</td>\n      <td>4369.0</td>\n      <td>907461.0</td>\n      <td>27676.0</td>\n      <td>17477.0</td>\n      <td>184986.0</td>\n      <td>260728.0</td>\n      <td>10199.0</td>\n      <td>21847.0</td>\n      <td>1609540.0</td>\n      <td>270926.0</td>\n    </tr>\n    <tr>\n      <th>1988-03-17</th>\n      <td>0.6758</td>\n      <td>0.6931</td>\n      <td>0.7105</td>\n      <td>0.7539</td>\n      <td>0.7539</td>\n      <td>0.7366</td>\n      <td>0.7366</td>\n      <td>0.7539</td>\n      <td>0.7366</td>\n      <td>0.7366</td>\n      <td>...</td>\n      <td>907461.0</td>\n      <td>27676.0</td>\n      <td>17477.0</td>\n      <td>184986.0</td>\n      <td>260728.0</td>\n      <td>10199.0</td>\n      <td>21847.0</td>\n      <td>1609540.0</td>\n      <td>270926.0</td>\n      <td>110703.0</td>\n    </tr>\n    <tr>\n      <th>1988-03-18</th>\n      <td>0.6931</td>\n      <td>0.7105</td>\n      <td>0.7539</td>\n      <td>0.7539</td>\n      <td>0.7366</td>\n      <td>0.7366</td>\n      <td>0.7539</td>\n      <td>0.7366</td>\n      <td>0.7366</td>\n      <td>0.7105</td>\n      <td>...</td>\n      <td>27676.0</td>\n      <td>17477.0</td>\n      <td>184986.0</td>\n      <td>260728.0</td>\n      <td>10199.0</td>\n      <td>21847.0</td>\n      <td>1609540.0</td>\n      <td>270926.0</td>\n      <td>110703.0</td>\n      <td>266556.0</td>\n    </tr>\n    <tr>\n      <th>1988-03-21</th>\n      <td>0.7105</td>\n      <td>0.7539</td>\n      <td>0.7539</td>\n      <td>0.7366</td>\n      <td>0.7366</td>\n      <td>0.7539</td>\n      <td>0.7366</td>\n      <td>0.7366</td>\n      <td>0.7105</td>\n      <td>0.7105</td>\n      <td>...</td>\n      <td>17477.0</td>\n      <td>184986.0</td>\n      <td>260728.0</td>\n      <td>10199.0</td>\n      <td>21847.0</td>\n      <td>1609540.0</td>\n      <td>270926.0</td>\n      <td>110703.0</td>\n      <td>266556.0</td>\n      <td>521463.0</td>\n    </tr>\n  </tbody>\n</table>\n<p>5 rows × 251 columns</p>\n</div>",
      "text/plain": "            Close(t-50)  Close(t-49)  Close(t-48)  Close(t-47)  Close(t-46)  \\\nDate                                                                          \n1988-03-15       0.6326       0.6500       0.6758       0.6931       0.7105   \n1988-03-16       0.6500       0.6758       0.6931       0.7105       0.7539   \n1988-03-17       0.6758       0.6931       0.7105       0.7539       0.7539   \n1988-03-18       0.6931       0.7105       0.7539       0.7539       0.7366   \n1988-03-21       0.7105       0.7539       0.7539       0.7366       0.7366   \n\n            Close(t-45)  Close(t-44)  Close(t-43)  Close(t-42)  Close(t-41)  \\\nDate                                                                          \n1988-03-15       0.7539       0.7539       0.7366       0.7366       0.7539   \n1988-03-16       0.7539       0.7366       0.7366       0.7539       0.7366   \n1988-03-17       0.7366       0.7366       0.7539       0.7366       0.7366   \n1988-03-18       0.7366       0.7539       0.7366       0.7366       0.7105   \n1988-03-21       0.7539       0.7366       0.7366       0.7105       0.7105   \n\n            ...  Volume(t-10)  Volume(t-9)  Volume(t-8)  Volume(t-7)  \\\nDate        ...                                                        \n1988-03-15  ...      512721.0       4369.0     907461.0      27676.0   \n1988-03-16  ...        4369.0     907461.0      27676.0      17477.0   \n1988-03-17  ...      907461.0      27676.0      17477.0     184986.0   \n1988-03-18  ...       27676.0      17477.0     184986.0     260728.0   \n1988-03-21  ...       17477.0     184986.0     260728.0      10199.0   \n\n            Volume(t-6)  Volume(t-5)  Volume(t-4)  Volume(t-3)  Volume(t-2)  \\\nDate                                                                          \n1988-03-15      17477.0     184986.0     260728.0      10199.0      21847.0   \n1988-03-16     184986.0     260728.0      10199.0      21847.0    1609540.0   \n1988-03-17     260728.0      10199.0      21847.0    1609540.0     270926.0   \n1988-03-18      10199.0      21847.0    1609540.0     270926.0     110703.0   \n1988-03-21      21847.0    1609540.0     270926.0     110703.0     266556.0   \n\n            Volume(t-1)  \nDate                     \n1988-03-15    1609540.0  \n1988-03-16     270926.0  \n1988-03-17     110703.0  \n1988-03-18     266556.0  \n1988-03-21     521463.0  \n\n[5 rows x 251 columns]"
     },
     "execution_count": 35,
     "metadata": {},
     "output_type": "execute_result"
    }
   ],
   "source": [
    "df_forML = series_to_supervised(list(cah['Close']), n_in=50, n_out=1, name_var='Close')\n",
    "df_forML.rename(columns={'Close(t)':'y'}, inplace=True) \n",
    "for col in ['Open', 'High', 'Low', 'Volume']:\n",
    "    df_forML = df_forML.merge(series_to_supervised(list(cah[col]), n_in=50, n_out=0, name_var=col), left_index=True, right_index=True)\n",
    "df_forML = df_forML.set_index(stock.iloc[50:].index)\n",
    "df_forML = df_forML.iloc[:int(len(df_forML) * 0.8)]\n",
    "df_forML.head()"
   ]
  },
  {
   "cell_type": "code",
   "execution_count": 30,
   "metadata": {},
   "outputs": [
    {
     "name": "stdout",
     "output_type": "stream",
     "text": "Parse progress: |█████████████████████████████████████████████████████████| 100%\n"
    }
   ],
   "source": [
    "dfh2o = h2o.H2OFrame(df_forML)"
   ]
  },
  {
   "cell_type": "code",
   "execution_count": 32,
   "metadata": {},
   "outputs": [],
   "source": [
    "train, test = dfh2o.split_frame(ratios=[0.8])"
   ]
  },
  {
   "cell_type": "code",
   "execution_count": 25,
   "metadata": {},
   "outputs": [
    {
     "name": "stdout",
     "output_type": "stream",
     "text": "Checking whether there is an H2O instance running at http://localhost:54321..... not found.\nAttempting to start a local H2O server...\n  Java Version: openjdk version \"11.0.6\" 2020-01-14; OpenJDK Runtime Environment (build 11.0.6+10-post-Ubuntu-1ubuntu119.10.1); OpenJDK 64-Bit Server VM (build 11.0.6+10-post-Ubuntu-1ubuntu119.10.1, mixed mode, sharing)\n  Starting server from /home/edu/.local/lib/python3.7/site-packages/h2o/backend/bin/h2o.jar\n  Ice root: /tmp/tmp90fhtrqq\n  JVM stdout: /tmp/tmp90fhtrqq/h2o_edu_started_from_python.out\n  JVM stderr: /tmp/tmp90fhtrqq/h2o_edu_started_from_python.err\n  Server is running at http://127.0.0.1:54321\nConnecting to H2O server at http://127.0.0.1:54321 ... successful.\n"
    },
    {
     "data": {
      "text/html": "<div style=\"overflow:auto\"><table style=\"width:50%\"><tr><td>H2O cluster uptime:</td>\n<td>01 secs</td></tr>\n<tr><td>H2O cluster timezone:</td>\n<td>Europe/Paris</td></tr>\n<tr><td>H2O data parsing timezone:</td>\n<td>UTC</td></tr>\n<tr><td>H2O cluster version:</td>\n<td>3.28.0.3</td></tr>\n<tr><td>H2O cluster version age:</td>\n<td>1 month and 4 days </td></tr>\n<tr><td>H2O cluster name:</td>\n<td>H2O_from_python_edu_knukjn</td></tr>\n<tr><td>H2O cluster total nodes:</td>\n<td>1</td></tr>\n<tr><td>H2O cluster free memory:</td>\n<td>5 Gb</td></tr>\n<tr><td>H2O cluster total cores:</td>\n<td>8</td></tr>\n<tr><td>H2O cluster allowed cores:</td>\n<td>7</td></tr>\n<tr><td>H2O cluster status:</td>\n<td>accepting new members, healthy</td></tr>\n<tr><td>H2O connection url:</td>\n<td>http://127.0.0.1:54321</td></tr>\n<tr><td>H2O connection proxy:</td>\n<td>{'http': None, 'https': None}</td></tr>\n<tr><td>H2O internal security:</td>\n<td>False</td></tr>\n<tr><td>H2O API Extensions:</td>\n<td>Amazon S3, XGBoost, Algos, AutoML, Core V3, TargetEncoder, Core V4</td></tr>\n<tr><td>Python version:</td>\n<td>3.7.5 candidate</td></tr></table></div>",
      "text/plain": "--------------------------  ------------------------------------------------------------------\nH2O cluster uptime:         01 secs\nH2O cluster timezone:       Europe/Paris\nH2O data parsing timezone:  UTC\nH2O cluster version:        3.28.0.3\nH2O cluster version age:    1 month and 4 days\nH2O cluster name:           H2O_from_python_edu_knukjn\nH2O cluster total nodes:    1\nH2O cluster free memory:    5 Gb\nH2O cluster total cores:    8\nH2O cluster allowed cores:  7\nH2O cluster status:         accepting new members, healthy\nH2O connection url:         http://127.0.0.1:54321\nH2O connection proxy:       {'http': None, 'https': None}\nH2O internal security:      False\nH2O API Extensions:         Amazon S3, XGBoost, Algos, AutoML, Core V3, TargetEncoder, Core V4\nPython version:             3.7.5 candidate\n--------------------------  ------------------------------------------------------------------"
     },
     "metadata": {},
     "output_type": "display_data"
    }
   ],
   "source": [
    "h2o.init(   nthreads=7,\n",
    "            max_mem_size='5G')"
   ]
  },
  {
   "cell_type": "code",
   "execution_count": null,
   "metadata": {},
   "outputs": [],
   "source": [
    "h2o.automl()"
   ]
  },
  {
   "cell_type": "code",
   "execution_count": null,
   "metadata": {},
   "outputs": [],
   "source": []
  },
  {
   "cell_type": "code",
   "execution_count": null,
   "metadata": {},
   "outputs": [],
   "source": []
  },
  {
   "cell_type": "code",
   "execution_count": null,
   "metadata": {},
   "outputs": [],
   "source": []
  },
  {
   "cell_type": "code",
   "execution_count": null,
   "metadata": {},
   "outputs": [],
   "source": [
    "h2o.shutdown()"
   ]
  }
 ]
}