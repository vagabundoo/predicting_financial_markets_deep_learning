{
  "nbformat": 4,
  "nbformat_minor": 0,
  "metadata": {
    "colab": {
      "name": "newWorkflowTest.ipynb",
      "provenance": [],
      "collapsed_sections": [],
      "authorship_tag": "ABX9TyPSBQiREJOjJzEZgwfA4D9v",
      "include_colab_link": true
    },
    "kernelspec": {
      "name": "python3",
      "display_name": "Python 3"
    },
    "accelerator": "TPU"
  },
  "cells": [
    {
      "cell_type": "markdown",
      "metadata": {
        "id": "view-in-github",
        "colab_type": "text"
      },
      "source": [
        "<a href=\"https://colab.research.google.com/github/vagabundoo/predicting_financial_markets_deep_learning/blob/master/googleCollabNbs/newWorkflowTest.ipynb\" target=\"_parent\"><img src=\"https://colab.research.google.com/assets/colab-badge.svg\" alt=\"Open In Colab\"/></a>"
      ]
    },
    {
      "cell_type": "code",
      "metadata": {
        "id": "A_g451Px8soa",
        "colab_type": "code",
        "colab": {
          "base_uri": "https://localhost:8080/",
          "height": 119
        },
        "outputId": "b6afac9d-902e-4cce-e677-9ce6e4caf6c5"
      },
      "source": [
        "from keras.preprocessing.sequence import TimeseriesGenerator\n",
        "import pandas as pd\n",
        "import numpy as np\n",
        "import os\n",
        "import keras\n",
        "!pip install ta\n",
        "import ta"
      ],
      "execution_count": 24,
      "outputs": [
        {
          "output_type": "stream",
          "text": [
            "Requirement already satisfied: ta in /usr/local/lib/python3.6/dist-packages (0.5.11)\n",
            "Requirement already satisfied: pandas in /usr/local/lib/python3.6/dist-packages (from ta) (0.25.3)\n",
            "Requirement already satisfied: numpy in /usr/local/lib/python3.6/dist-packages (from ta) (1.17.5)\n",
            "Requirement already satisfied: python-dateutil>=2.6.1 in /usr/local/lib/python3.6/dist-packages (from pandas->ta) (2.6.1)\n",
            "Requirement already satisfied: pytz>=2017.2 in /usr/local/lib/python3.6/dist-packages (from pandas->ta) (2018.9)\n",
            "Requirement already satisfied: six>=1.5 in /usr/local/lib/python3.6/dist-packages (from python-dateutil>=2.6.1->pandas->ta) (1.12.0)\n"
          ],
          "name": "stdout"
        }
      ]
    },
    {
      "cell_type": "code",
      "metadata": {
        "id": "n-QNZ-xH85Vs",
        "colab_type": "code",
        "colab": {
          "base_uri": "https://localhost:8080/",
          "height": 122
        },
        "outputId": "1c570dc6-c52a-465f-ca3f-4418ec78c202"
      },
      "source": [
        "from google.colab import drive\n",
        "drive.mount('/content/gdrive')"
      ],
      "execution_count": 2,
      "outputs": [
        {
          "output_type": "stream",
          "text": [
            "Go to this URL in a browser: https://accounts.google.com/o/oauth2/auth?client_id=947318989803-6bn6qk8qdgf4n4g3pfee6491hc0brc4i.apps.googleusercontent.com&redirect_uri=urn%3aietf%3awg%3aoauth%3a2.0%3aoob&response_type=code&scope=email%20https%3a%2f%2fwww.googleapis.com%2fauth%2fdocs.test%20https%3a%2f%2fwww.googleapis.com%2fauth%2fdrive%20https%3a%2f%2fwww.googleapis.com%2fauth%2fdrive.photos.readonly%20https%3a%2f%2fwww.googleapis.com%2fauth%2fpeopleapi.readonly\n",
            "\n",
            "Enter your authorization code:\n",
            "··········\n",
            "Mounted at /content/gdrive\n"
          ],
          "name": "stdout"
        }
      ]
    },
    {
      "cell_type": "code",
      "metadata": {
        "id": "ozMUD-5T898U",
        "colab_type": "code",
        "colab": {}
      },
      "source": [
        "aegn = pd.read_csv('gdrive/My Drive/financial-predictions/inputData/aegn.us.txt', \n",
        "                   parse_dates=True)"
      ],
      "execution_count": 0,
      "outputs": []
    },
    {
      "cell_type": "code",
      "metadata": {
        "id": "fK19VwXp9F_R",
        "colab_type": "code",
        "colab": {
          "base_uri": "https://localhost:8080/",
          "height": 391
        },
        "outputId": "fdda93e6-fb5e-47b3-d404-47fedaeeb128"
      },
      "source": [
        "display(aegn.head())\n",
        "display(aegn.tail())"
      ],
      "execution_count": 4,
      "outputs": [
        {
          "output_type": "display_data",
          "data": {
            "text/html": [
              "<div>\n",
              "<style scoped>\n",
              "    .dataframe tbody tr th:only-of-type {\n",
              "        vertical-align: middle;\n",
              "    }\n",
              "\n",
              "    .dataframe tbody tr th {\n",
              "        vertical-align: top;\n",
              "    }\n",
              "\n",
              "    .dataframe thead th {\n",
              "        text-align: right;\n",
              "    }\n",
              "</style>\n",
              "<table border=\"1\" class=\"dataframe\">\n",
              "  <thead>\n",
              "    <tr style=\"text-align: right;\">\n",
              "      <th></th>\n",
              "      <th>Date</th>\n",
              "      <th>Open</th>\n",
              "      <th>High</th>\n",
              "      <th>Low</th>\n",
              "      <th>Close</th>\n",
              "      <th>Volume</th>\n",
              "      <th>OpenInt</th>\n",
              "    </tr>\n",
              "  </thead>\n",
              "  <tbody>\n",
              "    <tr>\n",
              "      <th>0</th>\n",
              "      <td>2011-10-27</td>\n",
              "      <td>14.00</td>\n",
              "      <td>16.34</td>\n",
              "      <td>14.00</td>\n",
              "      <td>15.97</td>\n",
              "      <td>489046</td>\n",
              "      <td>0</td>\n",
              "    </tr>\n",
              "    <tr>\n",
              "      <th>1</th>\n",
              "      <td>2011-10-28</td>\n",
              "      <td>15.00</td>\n",
              "      <td>15.98</td>\n",
              "      <td>15.00</td>\n",
              "      <td>15.57</td>\n",
              "      <td>399919</td>\n",
              "      <td>0</td>\n",
              "    </tr>\n",
              "    <tr>\n",
              "      <th>2</th>\n",
              "      <td>2011-10-31</td>\n",
              "      <td>15.34</td>\n",
              "      <td>16.08</td>\n",
              "      <td>14.78</td>\n",
              "      <td>14.79</td>\n",
              "      <td>321200</td>\n",
              "      <td>0</td>\n",
              "    </tr>\n",
              "    <tr>\n",
              "      <th>3</th>\n",
              "      <td>2011-11-01</td>\n",
              "      <td>14.85</td>\n",
              "      <td>14.92</td>\n",
              "      <td>14.18</td>\n",
              "      <td>14.35</td>\n",
              "      <td>317000</td>\n",
              "      <td>0</td>\n",
              "    </tr>\n",
              "    <tr>\n",
              "      <th>4</th>\n",
              "      <td>2011-11-02</td>\n",
              "      <td>15.00</td>\n",
              "      <td>15.68</td>\n",
              "      <td>15.00</td>\n",
              "      <td>15.54</td>\n",
              "      <td>522781</td>\n",
              "      <td>0</td>\n",
              "    </tr>\n",
              "  </tbody>\n",
              "</table>\n",
              "</div>"
            ],
            "text/plain": [
              "         Date   Open   High    Low  Close  Volume  OpenInt\n",
              "0  2011-10-27  14.00  16.34  14.00  15.97  489046        0\n",
              "1  2011-10-28  15.00  15.98  15.00  15.57  399919        0\n",
              "2  2011-10-31  15.34  16.08  14.78  14.79  321200        0\n",
              "3  2011-11-01  14.85  14.92  14.18  14.35  317000        0\n",
              "4  2011-11-02  15.00  15.68  15.00  15.54  522781        0"
            ]
          },
          "metadata": {
            "tags": []
          }
        },
        {
          "output_type": "display_data",
          "data": {
            "text/html": [
              "<div>\n",
              "<style scoped>\n",
              "    .dataframe tbody tr th:only-of-type {\n",
              "        vertical-align: middle;\n",
              "    }\n",
              "\n",
              "    .dataframe tbody tr th {\n",
              "        vertical-align: top;\n",
              "    }\n",
              "\n",
              "    .dataframe thead th {\n",
              "        text-align: right;\n",
              "    }\n",
              "</style>\n",
              "<table border=\"1\" class=\"dataframe\">\n",
              "  <thead>\n",
              "    <tr style=\"text-align: right;\">\n",
              "      <th></th>\n",
              "      <th>Date</th>\n",
              "      <th>Open</th>\n",
              "      <th>High</th>\n",
              "      <th>Low</th>\n",
              "      <th>Close</th>\n",
              "      <th>Volume</th>\n",
              "      <th>OpenInt</th>\n",
              "    </tr>\n",
              "  </thead>\n",
              "  <tbody>\n",
              "    <tr>\n",
              "      <th>1516</th>\n",
              "      <td>2017-11-06</td>\n",
              "      <td>26.06</td>\n",
              "      <td>27.180</td>\n",
              "      <td>25.8500</td>\n",
              "      <td>26.97</td>\n",
              "      <td>302163</td>\n",
              "      <td>0</td>\n",
              "    </tr>\n",
              "    <tr>\n",
              "      <th>1517</th>\n",
              "      <td>2017-11-07</td>\n",
              "      <td>26.95</td>\n",
              "      <td>27.185</td>\n",
              "      <td>25.6801</td>\n",
              "      <td>26.27</td>\n",
              "      <td>403116</td>\n",
              "      <td>0</td>\n",
              "    </tr>\n",
              "    <tr>\n",
              "      <th>1518</th>\n",
              "      <td>2017-11-08</td>\n",
              "      <td>26.06</td>\n",
              "      <td>27.190</td>\n",
              "      <td>25.9500</td>\n",
              "      <td>27.11</td>\n",
              "      <td>434933</td>\n",
              "      <td>0</td>\n",
              "    </tr>\n",
              "    <tr>\n",
              "      <th>1519</th>\n",
              "      <td>2017-11-09</td>\n",
              "      <td>27.06</td>\n",
              "      <td>27.480</td>\n",
              "      <td>26.5500</td>\n",
              "      <td>27.19</td>\n",
              "      <td>330624</td>\n",
              "      <td>0</td>\n",
              "    </tr>\n",
              "    <tr>\n",
              "      <th>1520</th>\n",
              "      <td>2017-11-10</td>\n",
              "      <td>27.05</td>\n",
              "      <td>27.290</td>\n",
              "      <td>26.7300</td>\n",
              "      <td>26.89</td>\n",
              "      <td>208426</td>\n",
              "      <td>0</td>\n",
              "    </tr>\n",
              "  </tbody>\n",
              "</table>\n",
              "</div>"
            ],
            "text/plain": [
              "            Date   Open    High      Low  Close  Volume  OpenInt\n",
              "1516  2017-11-06  26.06  27.180  25.8500  26.97  302163        0\n",
              "1517  2017-11-07  26.95  27.185  25.6801  26.27  403116        0\n",
              "1518  2017-11-08  26.06  27.190  25.9500  27.11  434933        0\n",
              "1519  2017-11-09  27.06  27.480  26.5500  27.19  330624        0\n",
              "1520  2017-11-10  27.05  27.290  26.7300  26.89  208426        0"
            ]
          },
          "metadata": {
            "tags": []
          }
        }
      ]
    },
    {
      "cell_type": "code",
      "metadata": {
        "id": "jTdz0KJl_y_P",
        "colab_type": "code",
        "colab": {}
      },
      "source": [
        "lenAegn = len(aegn)\n",
        "end_train = round(0.7 * lenAegn)\n",
        "start_valid = end_train + 1\n",
        "end_valid = round(0.85 * lenAegn)\n",
        "start_test = end_valid + 1"
      ],
      "execution_count": 0,
      "outputs": []
    },
    {
      "cell_type": "code",
      "metadata": {
        "id": "rxtrV0WB9mYO",
        "colab_type": "code",
        "colab": {
          "base_uri": "https://localhost:8080/",
          "height": 204
        },
        "outputId": "7371fd37-2ad7-41b0-8343-e64a9bb4b0e4"
      },
      "source": [
        "aegn['return'] = aegn['Close'] / aegn['Close'].shift() - 1 \n",
        "aegn.head()"
      ],
      "execution_count": 6,
      "outputs": [
        {
          "output_type": "execute_result",
          "data": {
            "text/html": [
              "<div>\n",
              "<style scoped>\n",
              "    .dataframe tbody tr th:only-of-type {\n",
              "        vertical-align: middle;\n",
              "    }\n",
              "\n",
              "    .dataframe tbody tr th {\n",
              "        vertical-align: top;\n",
              "    }\n",
              "\n",
              "    .dataframe thead th {\n",
              "        text-align: right;\n",
              "    }\n",
              "</style>\n",
              "<table border=\"1\" class=\"dataframe\">\n",
              "  <thead>\n",
              "    <tr style=\"text-align: right;\">\n",
              "      <th></th>\n",
              "      <th>Date</th>\n",
              "      <th>Open</th>\n",
              "      <th>High</th>\n",
              "      <th>Low</th>\n",
              "      <th>Close</th>\n",
              "      <th>Volume</th>\n",
              "      <th>OpenInt</th>\n",
              "      <th>return</th>\n",
              "    </tr>\n",
              "  </thead>\n",
              "  <tbody>\n",
              "    <tr>\n",
              "      <th>0</th>\n",
              "      <td>2011-10-27</td>\n",
              "      <td>14.00</td>\n",
              "      <td>16.34</td>\n",
              "      <td>14.00</td>\n",
              "      <td>15.97</td>\n",
              "      <td>489046</td>\n",
              "      <td>0</td>\n",
              "      <td>NaN</td>\n",
              "    </tr>\n",
              "    <tr>\n",
              "      <th>1</th>\n",
              "      <td>2011-10-28</td>\n",
              "      <td>15.00</td>\n",
              "      <td>15.98</td>\n",
              "      <td>15.00</td>\n",
              "      <td>15.57</td>\n",
              "      <td>399919</td>\n",
              "      <td>0</td>\n",
              "      <td>-0.025047</td>\n",
              "    </tr>\n",
              "    <tr>\n",
              "      <th>2</th>\n",
              "      <td>2011-10-31</td>\n",
              "      <td>15.34</td>\n",
              "      <td>16.08</td>\n",
              "      <td>14.78</td>\n",
              "      <td>14.79</td>\n",
              "      <td>321200</td>\n",
              "      <td>0</td>\n",
              "      <td>-0.050096</td>\n",
              "    </tr>\n",
              "    <tr>\n",
              "      <th>3</th>\n",
              "      <td>2011-11-01</td>\n",
              "      <td>14.85</td>\n",
              "      <td>14.92</td>\n",
              "      <td>14.18</td>\n",
              "      <td>14.35</td>\n",
              "      <td>317000</td>\n",
              "      <td>0</td>\n",
              "      <td>-0.029750</td>\n",
              "    </tr>\n",
              "    <tr>\n",
              "      <th>4</th>\n",
              "      <td>2011-11-02</td>\n",
              "      <td>15.00</td>\n",
              "      <td>15.68</td>\n",
              "      <td>15.00</td>\n",
              "      <td>15.54</td>\n",
              "      <td>522781</td>\n",
              "      <td>0</td>\n",
              "      <td>0.082927</td>\n",
              "    </tr>\n",
              "  </tbody>\n",
              "</table>\n",
              "</div>"
            ],
            "text/plain": [
              "         Date   Open   High    Low  Close  Volume  OpenInt    return\n",
              "0  2011-10-27  14.00  16.34  14.00  15.97  489046        0       NaN\n",
              "1  2011-10-28  15.00  15.98  15.00  15.57  399919        0 -0.025047\n",
              "2  2011-10-31  15.34  16.08  14.78  14.79  321200        0 -0.050096\n",
              "3  2011-11-01  14.85  14.92  14.18  14.35  317000        0 -0.029750\n",
              "4  2011-11-02  15.00  15.68  15.00  15.54  522781        0  0.082927"
            ]
          },
          "metadata": {
            "tags": []
          },
          "execution_count": 6
        }
      ]
    },
    {
      "cell_type": "code",
      "metadata": {
        "id": "2NtwccqH_OtK",
        "colab_type": "code",
        "colab": {}
      },
      "source": [
        "aegn['label'] = np.where(aegn['return'] > 0, 1, 0)"
      ],
      "execution_count": 0,
      "outputs": []
    },
    {
      "cell_type": "code",
      "metadata": {
        "id": "5Q-z9ADp_ZQ5",
        "colab_type": "code",
        "colab": {}
      },
      "source": [
        "aegn[\"std_return\"] = (aegn[\"return\"] - aegn[\"return\"][:start_valid].mean()) / aegn[\"return\"][:start_valid].std()\n",
        "aegn[\"std_volume\"] = (aegn[\"Volume\"] - aegn[\"Volume\"].rolling(50).mean()) / aegn[\"Volume\"].rolling(50).std()"
      ],
      "execution_count": 0,
      "outputs": []
    },
    {
      "cell_type": "code",
      "metadata": {
        "id": "njKswupCBGpR",
        "colab_type": "code",
        "colab": {
          "base_uri": "https://localhost:8080/",
          "height": 204
        },
        "outputId": "6ab94413-1806-4e9e-9bb2-81def9bd82d8"
      },
      "source": [
        "aegn.head()"
      ],
      "execution_count": 9,
      "outputs": [
        {
          "output_type": "execute_result",
          "data": {
            "text/html": [
              "<div>\n",
              "<style scoped>\n",
              "    .dataframe tbody tr th:only-of-type {\n",
              "        vertical-align: middle;\n",
              "    }\n",
              "\n",
              "    .dataframe tbody tr th {\n",
              "        vertical-align: top;\n",
              "    }\n",
              "\n",
              "    .dataframe thead th {\n",
              "        text-align: right;\n",
              "    }\n",
              "</style>\n",
              "<table border=\"1\" class=\"dataframe\">\n",
              "  <thead>\n",
              "    <tr style=\"text-align: right;\">\n",
              "      <th></th>\n",
              "      <th>Date</th>\n",
              "      <th>Open</th>\n",
              "      <th>High</th>\n",
              "      <th>Low</th>\n",
              "      <th>Close</th>\n",
              "      <th>Volume</th>\n",
              "      <th>OpenInt</th>\n",
              "      <th>return</th>\n",
              "      <th>label</th>\n",
              "      <th>std_return</th>\n",
              "      <th>std_volume</th>\n",
              "    </tr>\n",
              "  </thead>\n",
              "  <tbody>\n",
              "    <tr>\n",
              "      <th>0</th>\n",
              "      <td>2011-10-27</td>\n",
              "      <td>14.00</td>\n",
              "      <td>16.34</td>\n",
              "      <td>14.00</td>\n",
              "      <td>15.97</td>\n",
              "      <td>489046</td>\n",
              "      <td>0</td>\n",
              "      <td>NaN</td>\n",
              "      <td>0</td>\n",
              "      <td>NaN</td>\n",
              "      <td>NaN</td>\n",
              "    </tr>\n",
              "    <tr>\n",
              "      <th>1</th>\n",
              "      <td>2011-10-28</td>\n",
              "      <td>15.00</td>\n",
              "      <td>15.98</td>\n",
              "      <td>15.00</td>\n",
              "      <td>15.57</td>\n",
              "      <td>399919</td>\n",
              "      <td>0</td>\n",
              "      <td>-0.025047</td>\n",
              "      <td>0</td>\n",
              "      <td>-1.163213</td>\n",
              "      <td>NaN</td>\n",
              "    </tr>\n",
              "    <tr>\n",
              "      <th>2</th>\n",
              "      <td>2011-10-31</td>\n",
              "      <td>15.34</td>\n",
              "      <td>16.08</td>\n",
              "      <td>14.78</td>\n",
              "      <td>14.79</td>\n",
              "      <td>321200</td>\n",
              "      <td>0</td>\n",
              "      <td>-0.050096</td>\n",
              "      <td>0</td>\n",
              "      <td>-2.312454</td>\n",
              "      <td>NaN</td>\n",
              "    </tr>\n",
              "    <tr>\n",
              "      <th>3</th>\n",
              "      <td>2011-11-01</td>\n",
              "      <td>14.85</td>\n",
              "      <td>14.92</td>\n",
              "      <td>14.18</td>\n",
              "      <td>14.35</td>\n",
              "      <td>317000</td>\n",
              "      <td>0</td>\n",
              "      <td>-0.029750</td>\n",
              "      <td>0</td>\n",
              "      <td>-1.378976</td>\n",
              "      <td>NaN</td>\n",
              "    </tr>\n",
              "    <tr>\n",
              "      <th>4</th>\n",
              "      <td>2011-11-02</td>\n",
              "      <td>15.00</td>\n",
              "      <td>15.68</td>\n",
              "      <td>15.00</td>\n",
              "      <td>15.54</td>\n",
              "      <td>522781</td>\n",
              "      <td>0</td>\n",
              "      <td>0.082927</td>\n",
              "      <td>1</td>\n",
              "      <td>3.790520</td>\n",
              "      <td>NaN</td>\n",
              "    </tr>\n",
              "  </tbody>\n",
              "</table>\n",
              "</div>"
            ],
            "text/plain": [
              "         Date   Open   High    Low  ...    return  label  std_return  std_volume\n",
              "0  2011-10-27  14.00  16.34  14.00  ...       NaN      0         NaN         NaN\n",
              "1  2011-10-28  15.00  15.98  15.00  ... -0.025047      0   -1.163213         NaN\n",
              "2  2011-10-31  15.34  16.08  14.78  ... -0.050096      0   -2.312454         NaN\n",
              "3  2011-11-01  14.85  14.92  14.18  ... -0.029750      0   -1.378976         NaN\n",
              "4  2011-11-02  15.00  15.68  15.00  ...  0.082927      1    3.790520         NaN\n",
              "\n",
              "[5 rows x 11 columns]"
            ]
          },
          "metadata": {
            "tags": []
          },
          "execution_count": 9
        }
      ]
    },
    {
      "cell_type": "code",
      "metadata": {
        "id": "wksIzWkOBbBC",
        "colab_type": "code",
        "colab": {}
      },
      "source": [
        "aegn.dropna(inplace=True)"
      ],
      "execution_count": 0,
      "outputs": []
    },
    {
      "cell_type": "code",
      "metadata": {
        "id": "-wPfyybdBnNX",
        "colab_type": "code",
        "colab": {}
      },
      "source": [
        "train_generator = TimeseriesGenerator(aegn[[\"std_return\", \"std_volume\"]].values, aegn[[\"label\"]].values,\n",
        "                                      length=30, batch_size=64, end_index=start_valid-1)\n",
        "val_generator = TimeseriesGenerator(aegn[[\"std_return\", \"std_volume\"]].values, aegn[[\"label\"]].values,\n",
        "                                    length=30, batch_size=64, start_index=start_valid,\n",
        "                                    end_index=start_test-1)\n",
        "test_generator = TimeseriesGenerator(aegn[[\"std_return\", \"std_volume\"]].values, aegn[[\"label\"]].values,\n",
        "                                     length=30, batch_size=64, start_index=start_test)"
      ],
      "execution_count": 0,
      "outputs": []
    },
    {
      "cell_type": "code",
      "metadata": {
        "id": "nER3kVrcB4Gy",
        "colab_type": "code",
        "colab": {}
      },
      "source": [
        "def model_fn(params):\n",
        "    model = keras.Sequential()\n",
        "    model.add(keras.layers.CuDNNLSTM(params[\"lstm_size\"], input_shape=(30, 2)))\n",
        "    model.add(keras.layers.Dropout(params[\"dropout\"]))\n",
        "    model.add(keras.layers.Dense(1, activation=\"sigmoid\"))\n",
        "    model.compile(optimizer=keras.optimizers.Adam(params[\"learning_rate\"]),\n",
        "                  loss=\"binary_crossentropy\", metrics=[\"accuracy\"])\n",
        "\n",
        "    callbacks = [keras.callbacks.EarlyStopping(monitor=\"val_acc\", patience=5,\n",
        "                                                  restore_best_weights=True)]\n",
        "    history = model.fit_generator(train_generator, validation_data=val_generator,\n",
        "                                  callbacks=callbacks, epochs=100, verbose=0).history\n",
        "    return (history, model)"
      ],
      "execution_count": 0,
      "outputs": []
    },
    {
      "cell_type": "code",
      "metadata": {
        "id": "tjsPYBmdCMGn",
        "colab_type": "code",
        "colab": {}
      },
      "source": [
        "def random_search(model_fn, search_space, n_iter, search_dir):\n",
        "    results = []\n",
        "    os.mkdir(search_dir)\n",
        "    best_model_path = os.path.join(search_dir, \"best_model.h5\")\n",
        "    results_path = os.path.join(search_dir, \"results.csv\")\n",
        "    for i in range(n_iter):\n",
        "        params = {k: v[np.random.randint(len(v))] for k, v in search_space.items()}\n",
        "        history, model = model_fn(params)\n",
        "        epochs = np.argmax(history[\"val_acc\"]) + 1\n",
        "        result = {k: v[epochs - 1] for k, v in history.items()}\n",
        "        params[\"epochs\"] = epochs\n",
        "        if i == 0:\n",
        "            best_val_acc = result[\"val_acc\"]\n",
        "            model.save(best_model_path)\n",
        "        if result[\"val_acc\"] > best_val_acc:\n",
        "            best_val_acc = result[\"val_acc\"]\n",
        "            model.save(best_model_path)\n",
        "        result = {**params, **result}\n",
        "        results.append(result)\n",
        "        keras.backend.clear_session()\n",
        "        print(f\"iteration {i + 1} – {', '.join(f'{k}:{v:.4g}' for k, v in result.items())}\")\n",
        "    best_model = keras.models.load_model(best_model_path)\n",
        "    results = pd.DataFrame(results)\n",
        "    results.to_csv(results_path)\n",
        "    return (results, best_model)"
      ],
      "execution_count": 0,
      "outputs": []
    },
    {
      "cell_type": "code",
      "metadata": {
        "id": "Fu4SZSOMCOMm",
        "colab_type": "code",
        "colab": {}
      },
      "source": [
        "search_space = {\"lstm_size\": np.linspace(50, 200, 16, dtype=int),\n",
        "                \"dropout\": np.linspace(0, 0.4, 9),\n",
        "                \"learning_rate\": np.linspace(0.004, 0.01, 13)}"
      ],
      "execution_count": 0,
      "outputs": []
    },
    {
      "cell_type": "code",
      "metadata": {
        "id": "3jwr5RTKCQyH",
        "colab_type": "code",
        "colab": {
          "base_uri": "https://localhost:8080/",
          "height": 282
        },
        "outputId": "3110c58e-d4d8-4371-b8e2-bebadefe1529"
      },
      "source": [
        "results, best_model = random_search(model_fn, search_space, 200, \"search\")"
      ],
      "execution_count": 22,
      "outputs": [
        {
          "output_type": "error",
          "ename": "FileExistsError",
          "evalue": "ignored",
          "traceback": [
            "\u001b[0;31m---------------------------------------------------------------------------\u001b[0m",
            "\u001b[0;31mFileExistsError\u001b[0m                           Traceback (most recent call last)",
            "\u001b[0;32m<ipython-input-22-7d6033132a78>\u001b[0m in \u001b[0;36m<module>\u001b[0;34m()\u001b[0m\n\u001b[0;32m----> 1\u001b[0;31m \u001b[0mresults\u001b[0m\u001b[0;34m,\u001b[0m \u001b[0mbest_model\u001b[0m \u001b[0;34m=\u001b[0m \u001b[0mrandom_search\u001b[0m\u001b[0;34m(\u001b[0m\u001b[0mmodel_fn\u001b[0m\u001b[0;34m,\u001b[0m \u001b[0msearch_space\u001b[0m\u001b[0;34m,\u001b[0m \u001b[0;36m200\u001b[0m\u001b[0;34m,\u001b[0m \u001b[0;34m\"search\"\u001b[0m\u001b[0;34m)\u001b[0m\u001b[0;34m\u001b[0m\u001b[0;34m\u001b[0m\u001b[0m\n\u001b[0m",
            "\u001b[0;32m<ipython-input-20-06169fcb46f8>\u001b[0m in \u001b[0;36mrandom_search\u001b[0;34m(model_fn, search_space, n_iter, search_dir)\u001b[0m\n\u001b[1;32m      1\u001b[0m \u001b[0;32mdef\u001b[0m \u001b[0mrandom_search\u001b[0m\u001b[0;34m(\u001b[0m\u001b[0mmodel_fn\u001b[0m\u001b[0;34m,\u001b[0m \u001b[0msearch_space\u001b[0m\u001b[0;34m,\u001b[0m \u001b[0mn_iter\u001b[0m\u001b[0;34m,\u001b[0m \u001b[0msearch_dir\u001b[0m\u001b[0;34m)\u001b[0m\u001b[0;34m:\u001b[0m\u001b[0;34m\u001b[0m\u001b[0;34m\u001b[0m\u001b[0m\n\u001b[1;32m      2\u001b[0m     \u001b[0mresults\u001b[0m \u001b[0;34m=\u001b[0m \u001b[0;34m[\u001b[0m\u001b[0;34m]\u001b[0m\u001b[0;34m\u001b[0m\u001b[0;34m\u001b[0m\u001b[0m\n\u001b[0;32m----> 3\u001b[0;31m     \u001b[0mos\u001b[0m\u001b[0;34m.\u001b[0m\u001b[0mmkdir\u001b[0m\u001b[0;34m(\u001b[0m\u001b[0msearch_dir\u001b[0m\u001b[0;34m)\u001b[0m\u001b[0;34m\u001b[0m\u001b[0;34m\u001b[0m\u001b[0m\n\u001b[0m\u001b[1;32m      4\u001b[0m     \u001b[0mbest_model_path\u001b[0m \u001b[0;34m=\u001b[0m \u001b[0mos\u001b[0m\u001b[0;34m.\u001b[0m\u001b[0mpath\u001b[0m\u001b[0;34m.\u001b[0m\u001b[0mjoin\u001b[0m\u001b[0;34m(\u001b[0m\u001b[0msearch_dir\u001b[0m\u001b[0;34m,\u001b[0m \u001b[0;34m\"best_model.h5\"\u001b[0m\u001b[0;34m)\u001b[0m\u001b[0;34m\u001b[0m\u001b[0;34m\u001b[0m\u001b[0m\n\u001b[1;32m      5\u001b[0m     \u001b[0mresults_path\u001b[0m \u001b[0;34m=\u001b[0m \u001b[0mos\u001b[0m\u001b[0;34m.\u001b[0m\u001b[0mpath\u001b[0m\u001b[0;34m.\u001b[0m\u001b[0mjoin\u001b[0m\u001b[0;34m(\u001b[0m\u001b[0msearch_dir\u001b[0m\u001b[0;34m,\u001b[0m \u001b[0;34m\"results.csv\"\u001b[0m\u001b[0;34m)\u001b[0m\u001b[0;34m\u001b[0m\u001b[0;34m\u001b[0m\u001b[0m\n",
            "\u001b[0;31mFileExistsError\u001b[0m: [Errno 17] File exists: 'search'"
          ]
        }
      ]
    },
    {
      "cell_type": "code",
      "metadata": {
        "id": "gImr8d6sCisk",
        "colab_type": "code",
        "colab": {}
      },
      "source": [
        "model_fn()  "
      ],
      "execution_count": 0,
      "outputs": []
    }
  ]
}